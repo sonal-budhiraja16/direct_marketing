{
 "cells": [
  {
   "cell_type": "markdown",
   "id": "eac4cde1",
   "metadata": {},
   "source": [
    "## Data Pre-processing"
   ]
  },
  {
   "cell_type": "code",
   "execution_count": 1,
   "id": "623ac3ff",
   "metadata": {
    "execution": {
     "iopub.execute_input": "2024-12-24T13:56:25.942592Z",
     "iopub.status.busy": "2024-12-24T13:56:25.938883Z",
     "iopub.status.idle": "2024-12-24T13:56:25.971131Z",
     "shell.execute_reply": "2024-12-24T13:56:25.968778Z"
    }
   },
   "outputs": [],
   "source": [
    "# !pip install pyarrow"
   ]
  },
  {
   "cell_type": "code",
   "execution_count": 4,
   "id": "1ebffb70",
   "metadata": {
    "scrolled": true
   },
   "outputs": [
    {
     "name": "stdout",
     "output_type": "stream",
     "text": [
      "Collecting sidetable\n",
      "  Using cached sidetable-0.9.1-py3-none-any.whl.metadata (45 kB)\n",
      "Requirement already satisfied: pandas>=1.0 in c:\\programdata\\anaconda3\\lib\\site-packages (from sidetable) (1.3.4)\n",
      "Requirement already satisfied: python-dateutil>=2.7.3 in c:\\programdata\\anaconda3\\lib\\site-packages (from pandas>=1.0->sidetable) (2.8.2)\n",
      "Requirement already satisfied: pytz>=2017.3 in c:\\programdata\\anaconda3\\lib\\site-packages (from pandas>=1.0->sidetable) (2021.3)\n",
      "Requirement already satisfied: numpy>=1.17.3 in c:\\users\\40101410\\appdata\\roaming\\python\\python39\\site-packages (from pandas>=1.0->sidetable) (1.22.4)\n",
      "Requirement already satisfied: six>=1.5 in c:\\programdata\\anaconda3\\lib\\site-packages (from python-dateutil>=2.7.3->pandas>=1.0->sidetable) (1.16.0)\n",
      "Using cached sidetable-0.9.1-py3-none-any.whl (19 kB)\n",
      "Installing collected packages: sidetable\n",
      "Successfully installed sidetable-0.9.1\n"
     ]
    },
    {
     "name": "stderr",
     "output_type": "stream",
     "text": [
      "WARNING: Ignoring invalid distribution -lelock (c:\\programdata\\anaconda3\\lib\\site-packages)\n",
      "WARNING: Ignoring invalid distribution - (c:\\programdata\\anaconda3\\lib\\site-packages)\n",
      "WARNING: Ignoring invalid distribution -keh (c:\\programdata\\anaconda3\\lib\\site-packages)\n",
      "WARNING: Ignoring invalid distribution -lelock (c:\\programdata\\anaconda3\\lib\\site-packages)\n",
      "WARNING: Ignoring invalid distribution -mpy (c:\\programdata\\anaconda3\\lib\\site-packages)\n",
      "WARNING: Ignoring invalid distribution -keh (c:\\programdata\\anaconda3\\lib\\site-packages)\n",
      "WARNING: Ignoring invalid distribution -mpy (c:\\programdata\\anaconda3\\lib\\site-packages)\n",
      "WARNING: Ignoring invalid distribution -cikit-learn (c:\\programdata\\anaconda3\\lib\\site-packages)\n",
      "WARNING: Ignoring invalid distribution -ilelock (c:\\programdata\\anaconda3\\lib\\site-packages)\n",
      "WARNING: Ignoring invalid distribution -oblib (c:\\programdata\\anaconda3\\lib\\site-packages)\n",
      "WARNING: Ignoring invalid distribution -okeh (c:\\programdata\\anaconda3\\lib\\site-packages)\n",
      "WARNING: Ignoring invalid distribution -rllib3 (c:\\programdata\\anaconda3\\lib\\site-packages)\n",
      "WARNING: Ignoring invalid distribution -sspec (c:\\programdata\\anaconda3\\lib\\site-packages)\n",
      "WARNING: Ignoring invalid distribution -umpy (c:\\programdata\\anaconda3\\lib\\site-packages)\n",
      "WARNING: Ignoring invalid distribution -ikit-learn (c:\\programdata\\anaconda3\\lib\\site-packages)\n",
      "WARNING: Ignoring invalid distribution -lelock (c:\\programdata\\anaconda3\\lib\\site-packages)\n",
      "WARNING: Ignoring invalid distribution - (c:\\programdata\\anaconda3\\lib\\site-packages)\n",
      "WARNING: Ignoring invalid distribution -keh (c:\\programdata\\anaconda3\\lib\\site-packages)\n",
      "WARNING: Ignoring invalid distribution -lelock (c:\\programdata\\anaconda3\\lib\\site-packages)\n",
      "WARNING: Ignoring invalid distribution -mpy (c:\\programdata\\anaconda3\\lib\\site-packages)\n",
      "WARNING: Ignoring invalid distribution -keh (c:\\programdata\\anaconda3\\lib\\site-packages)\n",
      "WARNING: Ignoring invalid distribution -mpy (c:\\programdata\\anaconda3\\lib\\site-packages)\n",
      "WARNING: Ignoring invalid distribution -cikit-learn (c:\\programdata\\anaconda3\\lib\\site-packages)\n",
      "WARNING: Ignoring invalid distribution -ilelock (c:\\programdata\\anaconda3\\lib\\site-packages)\n",
      "WARNING: Ignoring invalid distribution -oblib (c:\\programdata\\anaconda3\\lib\\site-packages)\n",
      "WARNING: Ignoring invalid distribution -okeh (c:\\programdata\\anaconda3\\lib\\site-packages)\n",
      "WARNING: Ignoring invalid distribution -rllib3 (c:\\programdata\\anaconda3\\lib\\site-packages)\n",
      "WARNING: Ignoring invalid distribution -sspec (c:\\programdata\\anaconda3\\lib\\site-packages)\n",
      "WARNING: Ignoring invalid distribution -umpy (c:\\programdata\\anaconda3\\lib\\site-packages)\n",
      "WARNING: Ignoring invalid distribution -ikit-learn (c:\\programdata\\anaconda3\\lib\\site-packages)\n",
      "DEPRECATION: pyodbc 4.0.0-unsupported has a non-standard version number. pip 24.0 will enforce this behaviour change. A possible replacement is to upgrade to a newer version of pyodbc or contact the author to suggest that they release a version with a conforming version number. Discussion can be found at https://github.com/pypa/pip/issues/12063\n",
      "\n",
      "[notice] A new release of pip is available: 23.3.1 -> 24.3.1\n",
      "[notice] To update, run: python.exe -m pip install --upgrade pip\n"
     ]
    }
   ],
   "source": [
    "# !pip install sidetable"
   ]
  },
  {
   "cell_type": "markdown",
   "id": "6fc4a0d5",
   "metadata": {},
   "source": [
    "### 1. Importing libraries"
   ]
  },
  {
   "cell_type": "code",
   "execution_count": 80,
   "id": "c04edae0",
   "metadata": {
    "execution": {
     "iopub.execute_input": "2024-12-24T13:56:25.981531Z",
     "iopub.status.busy": "2024-12-24T13:56:25.975318Z",
     "iopub.status.idle": "2024-12-24T13:56:29.541453Z",
     "shell.execute_reply": "2024-12-24T13:56:29.539235Z"
    }
   },
   "outputs": [],
   "source": [
    "import pandas as pd\n",
    "\n",
    "import seaborn as sns\n",
    "\n",
    "import os\n",
    "import matplotlib.pyplot as plt\n",
    "\n",
    "import numpy as np\n",
    "import sidetable\n",
    "from sklearn.compose import ColumnTransformer\n",
    "from sklearn.preprocessing import OneHotEncoder, StandardScaler, OrdinalEncoder\n"
   ]
  },
  {
   "cell_type": "code",
   "execution_count": 6,
   "id": "6a7c8007",
   "metadata": {
    "execution": {
     "iopub.execute_input": "2024-12-24T13:56:29.549303Z",
     "iopub.status.busy": "2024-12-24T13:56:29.548004Z",
     "iopub.status.idle": "2024-12-24T13:56:29.583233Z",
     "shell.execute_reply": "2024-12-24T13:56:29.580045Z"
    }
   },
   "outputs": [
    {
     "data": {
      "text/plain": [
       "'C:\\\\Users\\\\40101410\\\\OneDrive - Anheuser-Busch InBev\\\\Upskill2024'"
      ]
     },
     "execution_count": 6,
     "metadata": {},
     "output_type": "execute_result"
    }
   ],
   "source": [
    "os.getcwd()"
   ]
  },
  {
   "cell_type": "code",
   "execution_count": 7,
   "id": "ce3ccccb",
   "metadata": {
    "execution": {
     "iopub.execute_input": "2024-12-24T13:56:29.594029Z",
     "iopub.status.busy": "2024-12-24T13:56:29.593028Z",
     "iopub.status.idle": "2024-12-24T13:56:29.616411Z",
     "shell.execute_reply": "2024-12-24T13:56:29.613115Z"
    }
   },
   "outputs": [
    {
     "data": {
      "text/plain": [
       "['.git',\n",
       " '.ipynb_checkpoints',\n",
       " '.python-version',\n",
       " '.venv',\n",
       " 'Data',\n",
       " 'direct-marketing-eda.ipynb',\n",
       " 'direct-marketing-pre-processing.ipynb',\n",
       " 'hello.py',\n",
       " 'main.ipynb',\n",
       " 'pyproject.toml',\n",
       " 'raw_data.parquet',\n",
       " 'README.md',\n",
       " 'uv.lock']"
      ]
     },
     "execution_count": 7,
     "metadata": {},
     "output_type": "execute_result"
    }
   ],
   "source": [
    "os.listdir()"
   ]
  },
  {
   "cell_type": "code",
   "execution_count": 66,
   "id": "b1235e79",
   "metadata": {
    "execution": {
     "iopub.execute_input": "2024-12-24T13:56:29.627349Z",
     "iopub.status.busy": "2024-12-24T13:56:29.624274Z",
     "iopub.status.idle": "2024-12-24T13:56:30.282988Z",
     "shell.execute_reply": "2024-12-24T13:56:30.279702Z"
    }
   },
   "outputs": [
    {
     "data": {
      "text/html": [
       "<div>\n",
       "<style scoped>\n",
       "    .dataframe tbody tr th:only-of-type {\n",
       "        vertical-align: middle;\n",
       "    }\n",
       "\n",
       "    .dataframe tbody tr th {\n",
       "        vertical-align: top;\n",
       "    }\n",
       "\n",
       "    .dataframe thead th {\n",
       "        text-align: right;\n",
       "    }\n",
       "</style>\n",
       "<table border=\"1\" class=\"dataframe\">\n",
       "  <thead>\n",
       "    <tr style=\"text-align: right;\">\n",
       "      <th></th>\n",
       "      <th>Age</th>\n",
       "      <th>Gender</th>\n",
       "      <th>OwnHome</th>\n",
       "      <th>Married</th>\n",
       "      <th>Location</th>\n",
       "      <th>Salary</th>\n",
       "      <th>Children</th>\n",
       "      <th>History</th>\n",
       "      <th>Catalogs</th>\n",
       "      <th>AmountSpent</th>\n",
       "    </tr>\n",
       "  </thead>\n",
       "  <tbody>\n",
       "    <tr>\n",
       "      <th>0</th>\n",
       "      <td>Old</td>\n",
       "      <td>Female</td>\n",
       "      <td>Own</td>\n",
       "      <td>Single</td>\n",
       "      <td>Far</td>\n",
       "      <td>47500</td>\n",
       "      <td>0</td>\n",
       "      <td>High</td>\n",
       "      <td>6</td>\n",
       "      <td>755</td>\n",
       "    </tr>\n",
       "    <tr>\n",
       "      <th>1</th>\n",
       "      <td>Middle</td>\n",
       "      <td>Male</td>\n",
       "      <td>Rent</td>\n",
       "      <td>Single</td>\n",
       "      <td>Close</td>\n",
       "      <td>63600</td>\n",
       "      <td>0</td>\n",
       "      <td>High</td>\n",
       "      <td>6</td>\n",
       "      <td>1318</td>\n",
       "    </tr>\n",
       "    <tr>\n",
       "      <th>2</th>\n",
       "      <td>Young</td>\n",
       "      <td>Female</td>\n",
       "      <td>Rent</td>\n",
       "      <td>Single</td>\n",
       "      <td>Close</td>\n",
       "      <td>13500</td>\n",
       "      <td>0</td>\n",
       "      <td>Low</td>\n",
       "      <td>18</td>\n",
       "      <td>296</td>\n",
       "    </tr>\n",
       "    <tr>\n",
       "      <th>3</th>\n",
       "      <td>Middle</td>\n",
       "      <td>Male</td>\n",
       "      <td>Own</td>\n",
       "      <td>Married</td>\n",
       "      <td>Close</td>\n",
       "      <td>85600</td>\n",
       "      <td>1</td>\n",
       "      <td>High</td>\n",
       "      <td>18</td>\n",
       "      <td>2436</td>\n",
       "    </tr>\n",
       "    <tr>\n",
       "      <th>4</th>\n",
       "      <td>Middle</td>\n",
       "      <td>Female</td>\n",
       "      <td>Own</td>\n",
       "      <td>Single</td>\n",
       "      <td>Close</td>\n",
       "      <td>68400</td>\n",
       "      <td>0</td>\n",
       "      <td>High</td>\n",
       "      <td>12</td>\n",
       "      <td>1304</td>\n",
       "    </tr>\n",
       "  </tbody>\n",
       "</table>\n",
       "</div>"
      ],
      "text/plain": [
       "      Age  Gender OwnHome  Married Location  Salary  Children History  \\\n",
       "0     Old  Female     Own   Single      Far   47500         0    High   \n",
       "1  Middle    Male    Rent   Single    Close   63600         0    High   \n",
       "2   Young  Female    Rent   Single    Close   13500         0     Low   \n",
       "3  Middle    Male     Own  Married    Close   85600         1    High   \n",
       "4  Middle  Female     Own   Single    Close   68400         0    High   \n",
       "\n",
       "   Catalogs  AmountSpent  \n",
       "0         6          755  \n",
       "1         6         1318  \n",
       "2        18          296  \n",
       "3        18         2436  \n",
       "4        12         1304  "
      ]
     },
     "execution_count": 66,
     "metadata": {},
     "output_type": "execute_result"
    }
   ],
   "source": [
    "# Saving data for further pre-processing\n",
    "df = pd.read_parquet('raw_data.parquet', engine='pyarrow')\n",
    "df.head()"
   ]
  },
  {
   "cell_type": "code",
   "execution_count": 67,
   "id": "de201389",
   "metadata": {
    "execution": {
     "iopub.execute_input": "2024-12-24T13:56:30.293163Z",
     "iopub.status.busy": "2024-12-24T13:56:30.288252Z",
     "iopub.status.idle": "2024-12-24T13:56:30.335981Z",
     "shell.execute_reply": "2024-12-24T13:56:30.332536Z"
    }
   },
   "outputs": [
    {
     "name": "stdout",
     "output_type": "stream",
     "text": [
      "<class 'pandas.core.frame.DataFrame'>\n",
      "RangeIndex: 1000 entries, 0 to 999\n",
      "Data columns (total 10 columns):\n",
      " #   Column       Non-Null Count  Dtype \n",
      "---  ------       --------------  ----- \n",
      " 0   Age          1000 non-null   object\n",
      " 1   Gender       1000 non-null   object\n",
      " 2   OwnHome      1000 non-null   object\n",
      " 3   Married      1000 non-null   object\n",
      " 4   Location     1000 non-null   object\n",
      " 5   Salary       1000 non-null   int64 \n",
      " 6   Children     1000 non-null   int64 \n",
      " 7   History      1000 non-null   object\n",
      " 8   Catalogs     1000 non-null   int64 \n",
      " 9   AmountSpent  1000 non-null   int64 \n",
      "dtypes: int64(4), object(6)\n",
      "memory usage: 78.2+ KB\n"
     ]
    }
   ],
   "source": [
    "df.info()"
   ]
  },
  {
   "cell_type": "code",
   "execution_count": 68,
   "id": "68a4b88c",
   "metadata": {
    "execution": {
     "iopub.execute_input": "2024-12-24T13:56:30.343569Z",
     "iopub.status.busy": "2024-12-24T13:56:30.343041Z",
     "iopub.status.idle": "2024-12-24T13:56:30.369033Z",
     "shell.execute_reply": "2024-12-24T13:56:30.366088Z"
    }
   },
   "outputs": [],
   "source": [
    "# Change number of Children\n",
    "df = df.astype({'Children': 'object', 'Catalogs': 'object'})"
   ]
  },
  {
   "cell_type": "code",
   "execution_count": 69,
   "id": "9f81de3e",
   "metadata": {
    "execution": {
     "iopub.execute_input": "2024-12-24T13:56:30.377427Z",
     "iopub.status.busy": "2024-12-24T13:56:30.376265Z",
     "iopub.status.idle": "2024-12-24T13:56:30.399624Z",
     "shell.execute_reply": "2024-12-24T13:56:30.397633Z"
    },
    "scrolled": true
   },
   "outputs": [
    {
     "data": {
      "text/plain": [
       "Index(['Age', 'Gender', 'OwnHome', 'Married', 'Location', 'Children',\n",
       "       'History', 'Catalogs'],\n",
       "      dtype='object')"
      ]
     },
     "execution_count": 69,
     "metadata": {},
     "output_type": "execute_result"
    }
   ],
   "source": [
    "categorical_variables  = df.select_dtypes(include=['object']).columns\n",
    "categorical_variables"
   ]
  },
  {
   "cell_type": "code",
   "execution_count": 70,
   "id": "439aa6e8",
   "metadata": {
    "execution": {
     "iopub.execute_input": "2024-12-24T13:56:30.409956Z",
     "iopub.status.busy": "2024-12-24T13:56:30.408962Z",
     "iopub.status.idle": "2024-12-24T13:56:30.448000Z",
     "shell.execute_reply": "2024-12-24T13:56:30.444811Z"
    }
   },
   "outputs": [
    {
     "name": "stdout",
     "output_type": "stream",
     "text": [
      "<class 'pandas.core.frame.DataFrame'>\n",
      "RangeIndex: 1000 entries, 0 to 999\n",
      "Data columns (total 10 columns):\n",
      " #   Column       Non-Null Count  Dtype \n",
      "---  ------       --------------  ----- \n",
      " 0   Age          1000 non-null   object\n",
      " 1   Gender       1000 non-null   object\n",
      " 2   OwnHome      1000 non-null   object\n",
      " 3   Married      1000 non-null   object\n",
      " 4   Location     1000 non-null   object\n",
      " 5   Salary       1000 non-null   int64 \n",
      " 6   Children     1000 non-null   object\n",
      " 7   History      1000 non-null   object\n",
      " 8   Catalogs     1000 non-null   object\n",
      " 9   AmountSpent  1000 non-null   int64 \n",
      "dtypes: int64(2), object(8)\n",
      "memory usage: 78.2+ KB\n"
     ]
    }
   ],
   "source": [
    "df.info()"
   ]
  },
  {
   "cell_type": "code",
   "execution_count": 71,
   "id": "5737ad49",
   "metadata": {},
   "outputs": [
    {
     "data": {
      "text/plain": [
       "['Age',\n",
       " 'Gender',\n",
       " 'OwnHome',\n",
       " 'Married',\n",
       " 'Location',\n",
       " 'Children',\n",
       " 'History',\n",
       " 'Catalogs']"
      ]
     },
     "execution_count": 71,
     "metadata": {},
     "output_type": "execute_result"
    }
   ],
   "source": [
    "categorical_variables = categorical_variables.tolist()\n",
    "categorical_variables"
   ]
  },
  {
   "cell_type": "code",
   "execution_count": 72,
   "id": "6e7e5c89",
   "metadata": {},
   "outputs": [
    {
     "data": {
      "text/plain": [
       "Index(['Salary', 'AmountSpent'], dtype='object')"
      ]
     },
     "execution_count": 72,
     "metadata": {},
     "output_type": "execute_result"
    }
   ],
   "source": [
    "numerical_variables  = df.select_dtypes(include=['int64']).columns\n",
    "numerical_variables"
   ]
  },
  {
   "cell_type": "code",
   "execution_count": 73,
   "id": "b7fc9fce",
   "metadata": {},
   "outputs": [
    {
     "data": {
      "text/plain": [
       "['Salary', 'AmountSpent']"
      ]
     },
     "execution_count": 73,
     "metadata": {},
     "output_type": "execute_result"
    }
   ],
   "source": [
    "numerical_columns = numerical_variables.tolist()\n",
    "numerical_columns"
   ]
  },
  {
   "cell_type": "code",
   "execution_count": 103,
   "id": "71801735",
   "metadata": {},
   "outputs": [],
   "source": [
    "nominal_columns = ['Gender', 'OwnHome', 'Married', 'Location']\n",
    "ordinal_columns = ['Children', 'Catalogs']\n",
    "\n",
    "Age_order = [[\"Young\", \"Middle\", \"Old\"]]\n",
    "History_order = [['None', 'Low', 'Medium', 'High']]\n"
   ]
  },
  {
   "cell_type": "markdown",
   "id": "16d78683",
   "metadata": {},
   "source": [
    "### Define Processors"
   ]
  },
  {
   "cell_type": "code",
   "execution_count": 104,
   "id": "8b5dac2e",
   "metadata": {},
   "outputs": [],
   "source": [
    "# Numerical columns: StandardScaler\n",
    "numerical_transformer = StandardScaler()\n",
    "\n",
    "# Nominal Catgorical Variables\n",
    "nominal_encoder = OneHotEncoder()\n",
    "\n",
    "# Ordinal Catgorical Variables\n",
    "ordinal_encoder = LabelEncoder()"
   ]
  },
  {
   "cell_type": "markdown",
   "id": "39a84029",
   "metadata": {},
   "source": [
    "### Combine using ColumnTransformer"
   ]
  },
  {
   "cell_type": "code",
   "execution_count": 105,
   "id": "99beb3e1",
   "metadata": {},
   "outputs": [],
   "source": [
    "# Encode nominal features using OneHotEncoder\n",
    "# Define the ColumnTransformer\n",
    "preprocessor = ColumnTransformer(\n",
    "    transformers=[\n",
    "        (\"onehot\", OneHotEncoder(), nominal_columns),\n",
    "        (\"ordinal_age\", OrdinalEncoder(categories = Age_order), ['Age']),\n",
    "        (\"ordinal_history\", OrdinalEncoder(categories = History_order), ['History']),\n",
    "        (\"ordinal\", OrdinalEncoder(), ordinal_columns),\n",
    "        (\"num\", StandardScaler(), numerical_columns)],\n",
    "    remainder=\"passthrough\"  # Keep other columns (e.g., Age) as is\n",
    ")\n",
    "\n",
    "# Apply the transformation\n",
    "transformed_data = preprocessor.fit_transform(df)"
   ]
  },
  {
   "cell_type": "code",
   "execution_count": 106,
   "id": "1207ccfe",
   "metadata": {},
   "outputs": [],
   "source": [
    "# Convert to data frame\n",
    "transformed_df = pd.DataFrame(\n",
    "    transformed_data,\n",
    "    columns=preprocessor.get_feature_names_out()\n",
    ")"
   ]
  },
  {
   "cell_type": "code",
   "execution_count": 107,
   "id": "1ec545ec",
   "metadata": {},
   "outputs": [
    {
     "data": {
      "text/html": [
       "<div>\n",
       "<style scoped>\n",
       "    .dataframe tbody tr th:only-of-type {\n",
       "        vertical-align: middle;\n",
       "    }\n",
       "\n",
       "    .dataframe tbody tr th {\n",
       "        vertical-align: top;\n",
       "    }\n",
       "\n",
       "    .dataframe thead th {\n",
       "        text-align: right;\n",
       "    }\n",
       "</style>\n",
       "<table border=\"1\" class=\"dataframe\">\n",
       "  <thead>\n",
       "    <tr style=\"text-align: right;\">\n",
       "      <th></th>\n",
       "      <th>onehot__Gender_Female</th>\n",
       "      <th>onehot__Gender_Male</th>\n",
       "      <th>onehot__OwnHome_Own</th>\n",
       "      <th>onehot__OwnHome_Rent</th>\n",
       "      <th>onehot__Married_Married</th>\n",
       "      <th>onehot__Married_Single</th>\n",
       "      <th>onehot__Location_Close</th>\n",
       "      <th>onehot__Location_Far</th>\n",
       "      <th>ordinal_age__Age</th>\n",
       "      <th>ordinal_history__History</th>\n",
       "      <th>ordinal__Children</th>\n",
       "      <th>ordinal__Catalogs</th>\n",
       "      <th>num__Salary</th>\n",
       "      <th>num__AmountSpent</th>\n",
       "    </tr>\n",
       "  </thead>\n",
       "  <tbody>\n",
       "    <tr>\n",
       "      <th>0</th>\n",
       "      <td>1.0</td>\n",
       "      <td>0.0</td>\n",
       "      <td>1.0</td>\n",
       "      <td>0.0</td>\n",
       "      <td>0.0</td>\n",
       "      <td>1.0</td>\n",
       "      <td>0.0</td>\n",
       "      <td>1.0</td>\n",
       "      <td>2.0</td>\n",
       "      <td>3.0</td>\n",
       "      <td>0.0</td>\n",
       "      <td>0.0</td>\n",
       "      <td>-0.281164</td>\n",
       "      <td>-0.480716</td>\n",
       "    </tr>\n",
       "    <tr>\n",
       "      <th>1</th>\n",
       "      <td>0.0</td>\n",
       "      <td>1.0</td>\n",
       "      <td>0.0</td>\n",
       "      <td>1.0</td>\n",
       "      <td>0.0</td>\n",
       "      <td>1.0</td>\n",
       "      <td>1.0</td>\n",
       "      <td>0.0</td>\n",
       "      <td>1.0</td>\n",
       "      <td>3.0</td>\n",
       "      <td>0.0</td>\n",
       "      <td>0.0</td>\n",
       "      <td>0.244963</td>\n",
       "      <td>0.105383</td>\n",
       "    </tr>\n",
       "    <tr>\n",
       "      <th>2</th>\n",
       "      <td>1.0</td>\n",
       "      <td>0.0</td>\n",
       "      <td>0.0</td>\n",
       "      <td>1.0</td>\n",
       "      <td>0.0</td>\n",
       "      <td>1.0</td>\n",
       "      <td>1.0</td>\n",
       "      <td>0.0</td>\n",
       "      <td>0.0</td>\n",
       "      <td>1.0</td>\n",
       "      <td>0.0</td>\n",
       "      <td>2.0</td>\n",
       "      <td>-1.392239</td>\n",
       "      <td>-0.958548</td>\n",
       "    </tr>\n",
       "    <tr>\n",
       "      <th>3</th>\n",
       "      <td>0.0</td>\n",
       "      <td>1.0</td>\n",
       "      <td>1.0</td>\n",
       "      <td>0.0</td>\n",
       "      <td>1.0</td>\n",
       "      <td>0.0</td>\n",
       "      <td>1.0</td>\n",
       "      <td>0.0</td>\n",
       "      <td>1.0</td>\n",
       "      <td>3.0</td>\n",
       "      <td>1.0</td>\n",
       "      <td>2.0</td>\n",
       "      <td>0.963893</td>\n",
       "      <td>1.269254</td>\n",
       "    </tr>\n",
       "    <tr>\n",
       "      <th>4</th>\n",
       "      <td>1.0</td>\n",
       "      <td>0.0</td>\n",
       "      <td>1.0</td>\n",
       "      <td>0.0</td>\n",
       "      <td>0.0</td>\n",
       "      <td>1.0</td>\n",
       "      <td>1.0</td>\n",
       "      <td>0.0</td>\n",
       "      <td>1.0</td>\n",
       "      <td>3.0</td>\n",
       "      <td>0.0</td>\n",
       "      <td>1.0</td>\n",
       "      <td>0.401820</td>\n",
       "      <td>0.090809</td>\n",
       "    </tr>\n",
       "  </tbody>\n",
       "</table>\n",
       "</div>"
      ],
      "text/plain": [
       "   onehot__Gender_Female  onehot__Gender_Male  onehot__OwnHome_Own  \\\n",
       "0                    1.0                  0.0                  1.0   \n",
       "1                    0.0                  1.0                  0.0   \n",
       "2                    1.0                  0.0                  0.0   \n",
       "3                    0.0                  1.0                  1.0   \n",
       "4                    1.0                  0.0                  1.0   \n",
       "\n",
       "   onehot__OwnHome_Rent  onehot__Married_Married  onehot__Married_Single  \\\n",
       "0                   0.0                      0.0                     1.0   \n",
       "1                   1.0                      0.0                     1.0   \n",
       "2                   1.0                      0.0                     1.0   \n",
       "3                   0.0                      1.0                     0.0   \n",
       "4                   0.0                      0.0                     1.0   \n",
       "\n",
       "   onehot__Location_Close  onehot__Location_Far  ordinal_age__Age  \\\n",
       "0                     0.0                   1.0               2.0   \n",
       "1                     1.0                   0.0               1.0   \n",
       "2                     1.0                   0.0               0.0   \n",
       "3                     1.0                   0.0               1.0   \n",
       "4                     1.0                   0.0               1.0   \n",
       "\n",
       "   ordinal_history__History  ordinal__Children  ordinal__Catalogs  \\\n",
       "0                       3.0                0.0                0.0   \n",
       "1                       3.0                0.0                0.0   \n",
       "2                       1.0                0.0                2.0   \n",
       "3                       3.0                1.0                2.0   \n",
       "4                       3.0                0.0                1.0   \n",
       "\n",
       "   num__Salary  num__AmountSpent  \n",
       "0    -0.281164         -0.480716  \n",
       "1     0.244963          0.105383  \n",
       "2    -1.392239         -0.958548  \n",
       "3     0.963893          1.269254  \n",
       "4     0.401820          0.090809  "
      ]
     },
     "execution_count": 107,
     "metadata": {},
     "output_type": "execute_result"
    }
   ],
   "source": [
    "transformed_df.head()"
   ]
  },
  {
   "cell_type": "code",
   "execution_count": 108,
   "id": "0bd8db32",
   "metadata": {},
   "outputs": [],
   "source": [
    "# Get mappings\n",
    "onehot_mapping = {\n",
    "    col: list(categories) for col, categories in zip(nominal_columns, preprocessor.named_transformers_[\"onehot\"].categories_)\n",
    "}\n",
    "ordinal_mapping = {\n",
    "    col: list(categories) for col, categories in zip(ordinal_columns, preprocessor.named_transformers_[\"ordinal\"].categories_)\n",
    "}\n"
   ]
  },
  {
   "cell_type": "code",
   "execution_count": 109,
   "id": "895c8398",
   "metadata": {},
   "outputs": [
    {
     "name": "stdout",
     "output_type": "stream",
     "text": [
      "OneHot Mapping: {'Gender': ['Female', 'Male'], 'OwnHome': ['Own', 'Rent'], 'Married': ['Married', 'Single'], 'Location': ['Close', 'Far']}\n",
      "Ordinal Mapping: {'Children': [0, 1, 2, 3], 'Catalogs': [6, 12, 18, 24]}\n",
      "Age Mapping: [array(['Young', 'Middle', 'Old'], dtype=object)]\n",
      "History Mapping: [array(['None', 'Low', 'Medium', 'High'], dtype=object)]\n"
     ]
    }
   ],
   "source": [
    "# Retrive mappings\n",
    "\n",
    "\n",
    "print(\"OneHot Mapping:\", onehot_mapping)\n",
    "print(\"Ordinal Mapping:\", ordinal_mapping)\n",
    "print(\"Age Mapping:\", preprocessor.named_transformers_[\"ordinal_age\"].categories_)\n",
    "print(\"History Mapping:\", preprocessor.named_transformers_[\"ordinal_history\"].categories_)"
   ]
  }
 ],
 "metadata": {
  "kernelspec": {
   "display_name": "Python 3 (ipykernel)",
   "language": "python",
   "name": "python3"
  },
  "language_info": {
   "codemirror_mode": {
    "name": "ipython",
    "version": 3
   },
   "file_extension": ".py",
   "mimetype": "text/x-python",
   "name": "python",
   "nbconvert_exporter": "python",
   "pygments_lexer": "ipython3",
   "version": "3.9.7"
  }
 },
 "nbformat": 4,
 "nbformat_minor": 5
}
