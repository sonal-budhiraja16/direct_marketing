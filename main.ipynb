{
 "cells": [
  {
   "cell_type": "code",
   "execution_count": 1,
   "id": "d19d226b",
   "metadata": {
    "scrolled": true
   },
   "outputs": [
    {
     "name": "stdout",
     "output_type": "stream",
     "text": [
      "Collecting uv"
     ]
    },
    {
     "name": "stderr",
     "output_type": "stream",
     "text": [
      "WARNING: Ignoring invalid distribution -lelock (c:\\programdata\\anaconda3\\lib\\site-packages)\n",
      "WARNING: Ignoring invalid distribution - (c:\\programdata\\anaconda3\\lib\\site-packages)\n",
      "WARNING: Ignoring invalid distribution -keh (c:\\programdata\\anaconda3\\lib\\site-packages)\n",
      "WARNING: Ignoring invalid distribution -lelock (c:\\programdata\\anaconda3\\lib\\site-packages)\n",
      "WARNING: Ignoring invalid distribution -mpy (c:\\programdata\\anaconda3\\lib\\site-packages)\n",
      "WARNING: Ignoring invalid distribution -keh (c:\\programdata\\anaconda3\\lib\\site-packages)\n",
      "WARNING: Ignoring invalid distribution -mpy (c:\\programdata\\anaconda3\\lib\\site-packages)\n",
      "WARNING: Ignoring invalid distribution -cikit-learn (c:\\programdata\\anaconda3\\lib\\site-packages)\n",
      "WARNING: Ignoring invalid distribution -ilelock (c:\\programdata\\anaconda3\\lib\\site-packages)\n",
      "WARNING: Ignoring invalid distribution -oblib (c:\\programdata\\anaconda3\\lib\\site-packages)\n",
      "WARNING: Ignoring invalid distribution -okeh (c:\\programdata\\anaconda3\\lib\\site-packages)\n",
      "WARNING: Ignoring invalid distribution -rllib3 (c:\\programdata\\anaconda3\\lib\\site-packages)\n",
      "WARNING: Ignoring invalid distribution -sspec (c:\\programdata\\anaconda3\\lib\\site-packages)\n",
      "WARNING: Ignoring invalid distribution -umpy (c:\\programdata\\anaconda3\\lib\\site-packages)\n",
      "WARNING: Ignoring invalid distribution -ikit-learn (c:\\programdata\\anaconda3\\lib\\site-packages)\n",
      "WARNING: Ignoring invalid distribution -lelock (c:\\programdata\\anaconda3\\lib\\site-packages)\n",
      "WARNING: Ignoring invalid distribution - (c:\\programdata\\anaconda3\\lib\\site-packages)\n",
      "WARNING: Ignoring invalid distribution -keh (c:\\programdata\\anaconda3\\lib\\site-packages)\n",
      "WARNING: Ignoring invalid distribution -lelock (c:\\programdata\\anaconda3\\lib\\site-packages)\n",
      "WARNING: Ignoring invalid distribution -mpy (c:\\programdata\\anaconda3\\lib\\site-packages)\n",
      "WARNING: Ignoring invalid distribution -keh (c:\\programdata\\anaconda3\\lib\\site-packages)\n",
      "WARNING: Ignoring invalid distribution -mpy (c:\\programdata\\anaconda3\\lib\\site-packages)\n",
      "WARNING: Ignoring invalid distribution -cikit-learn (c:\\programdata\\anaconda3\\lib\\site-packages)\n",
      "WARNING: Ignoring invalid distribution -ilelock (c:\\programdata\\anaconda3\\lib\\site-packages)\n",
      "WARNING: Ignoring invalid distribution -oblib (c:\\programdata\\anaconda3\\lib\\site-packages)\n",
      "WARNING: Ignoring invalid distribution -okeh (c:\\programdata\\anaconda3\\lib\\site-packages)\n",
      "WARNING: Ignoring invalid distribution -rllib3 (c:\\programdata\\anaconda3\\lib\\site-packages)\n",
      "WARNING: Ignoring invalid distribution -sspec (c:\\programdata\\anaconda3\\lib\\site-packages)\n",
      "WARNING: Ignoring invalid distribution -umpy (c:\\programdata\\anaconda3\\lib\\site-packages)\n",
      "WARNING: Ignoring invalid distribution -ikit-learn (c:\\programdata\\anaconda3\\lib\\site-packages)\n",
      "DEPRECATION: pyodbc 4.0.0-unsupported has a non-standard version number. pip 24.0 will enforce this behaviour change. A possible replacement is to upgrade to a newer version of pyodbc or contact the author to suggest that they release a version with a conforming version number. Discussion can be found at https://github.com/pypa/pip/issues/12063\n",
      "\n",
      "[notice] A new release of pip is available: 23.3.1 -> 24.3.1\n",
      "[notice] To update, run: python.exe -m pip install --upgrade pip\n"
     ]
    },
    {
     "name": "stdout",
     "output_type": "stream",
     "text": [
      "\n",
      "  Downloading uv-0.5.11-py3-none-win_amd64.whl.metadata (11 kB)\n",
      "Downloading uv-0.5.11-py3-none-win_amd64.whl (16.2 MB)\n",
      "   ---------------------------------------- 16.2/16.2 MB 7.6 MB/s eta 0:00:00\n",
      "Installing collected packages: uv\n",
      "Successfully installed uv-0.5.11\n"
     ]
    }
   ],
   "source": [
    "!pip install uv"
   ]
  },
  {
   "cell_type": "code",
   "execution_count": 2,
   "id": "019f47b3",
   "metadata": {
    "scrolled": true
   },
   "outputs": [
    {
     "name": "stdout",
     "output_type": "stream",
     "text": [
      "uv 0.5.11 (c4d0caaee 2024-12-19)\n"
     ]
    }
   ],
   "source": [
    "!uv --version\n"
   ]
  },
  {
   "cell_type": "markdown",
   "id": "9fbe2d41",
   "metadata": {},
   "source": [
    "### Import necessary libraries"
   ]
  },
  {
   "cell_type": "code",
   "execution_count": 3,
   "id": "cb07b997",
   "metadata": {},
   "outputs": [],
   "source": [
    "import subprocess\n",
    "import sys \n",
    "import os"
   ]
  },
  {
   "cell_type": "markdown",
   "id": "92e4e06c",
   "metadata": {},
   "source": [
    "### Create function to Initialize project using uv"
   ]
  },
  {
   "cell_type": "code",
   "execution_count": 5,
   "id": "7d68a978",
   "metadata": {},
   "outputs": [],
   "source": [
    "def initialize_uv_project():\n",
    "    try:\n",
    "        # Run the 'uv init' command to initialize the project\n",
    "        subprocess.check_call(['uv', 'init']) # to run uv commands within python\n",
    "        print(\"Project initialized successfully.\")\n",
    "    except subprocess.CalledProcessError as e: # thros error if the project fails\n",
    "        print(f\"Error during project initialization: {e}\") \n",
    "        sys.exit(1)"
   ]
  },
  {
   "cell_type": "markdown",
   "id": "8fec67a4",
   "metadata": {},
   "source": [
    "### Add dependencies using uv"
   ]
  },
  {
   "cell_type": "code",
   "execution_count": 12,
   "id": "6567bb93",
   "metadata": {},
   "outputs": [],
   "source": [
    "def add_dependencies():\n",
    "    try:\n",
    "        # Example of adding dependencies\n",
    "        subprocess.check_call(['uv', 'add', 'numpy', 'pandas', 'matplotlib', 'scikit-learn', 'seaborn', 'plotly', \n",
    "                               'sidetable', 'kaggle', 'kagglehub', 'pyarrow', 'jupyter', 'nbconvert'])\n",
    "        print(\"Dependencies added successfully.\")\n",
    "    except subprocess.CalledProcessError as e:\n",
    "        print(f\"Error while adding dependencies: {e}\")\n",
    "        sys.exit(1)"
   ]
  },
  {
   "cell_type": "markdown",
   "id": "0a523f17",
   "metadata": {},
   "source": [
    "### Run python script using uv"
   ]
  },
  {
   "cell_type": "code",
   "execution_count": 15,
   "id": "39232a1a",
   "metadata": {},
   "outputs": [],
   "source": [
    "# list of notebooks to run\n",
    "\n",
    "def run_notebook(notebook_name):\n",
    "    try:\n",
    "        print(f\"Running {notebook_name}...\")\n",
    "        subprocess.run(['uv', 'run', 'jupyter', 'nbconvert', \"--to\", \"notebook\", \"--execute\", notebook_name, \"--output\", notebook_name])\n",
    "        print(f\"Running {notebook_name} executed successfully\")\n",
    "    except subprocess.CalledProcessError as e:\n",
    "        print(f\"Error executing {notebook_name}: {e}\")\n",
    "        raise"
   ]
  },
  {
   "cell_type": "markdown",
   "id": "a9615562",
   "metadata": {},
   "source": [
    "### Main to coordinate execution using uv"
   ]
  },
  {
   "cell_type": "code",
   "execution_count": 18,
   "id": "fa75a000",
   "metadata": {},
   "outputs": [
    {
     "name": "stdout",
     "output_type": "stream",
     "text": [
      "Running direct-marketing-eda.ipynb...\n",
      "Running direct-marketing-eda.ipynb executed successfully\n",
      "Running direct-marketing-pre-processing.ipynb...\n",
      "Running direct-marketing-pre-processing.ipynb executed successfully\n"
     ]
    }
   ],
   "source": [
    "def main():\n",
    "    # Initialize the UV project\n",
    "    initialize_uv_project()\n",
    "\n",
    "    # Add dependencies\n",
    "    add_dependencies()\n",
    "\n",
    "    notebooks = ['direct-marketing-eda.ipynb', 'direct-marketing-pre-processing.ipynb']\n",
    "    for notebook in notebooks:\n",
    "        run_notebook(notebook)\n",
    "\n",
    "if __name__ == \"__main__\":\n",
    "    main()"
   ]
  }
 ],
 "metadata": {
  "kernelspec": {
   "display_name": "Python 3 (ipykernel)",
   "language": "python",
   "name": "python3"
  },
  "language_info": {
   "codemirror_mode": {
    "name": "ipython",
    "version": 3
   },
   "file_extension": ".py",
   "mimetype": "text/x-python",
   "name": "python",
   "nbconvert_exporter": "python",
   "pygments_lexer": "ipython3",
   "version": "3.9.7"
  }
 },
 "nbformat": 4,
 "nbformat_minor": 5
}
