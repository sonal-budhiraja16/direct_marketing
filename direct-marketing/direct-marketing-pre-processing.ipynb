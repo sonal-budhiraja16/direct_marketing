{
 "cells": [
  {
   "cell_type": "markdown",
   "id": "eac4cde1",
   "metadata": {},
   "source": [
    "## Data Pre-processing"
   ]
  },
  {
   "cell_type": "code",
   "execution_count": 1,
   "id": "623ac3ff",
   "metadata": {
    "execution": {
     "iopub.execute_input": "2024-12-31T09:47:28.232648Z",
     "iopub.status.busy": "2024-12-31T09:47:28.232441Z",
     "iopub.status.idle": "2024-12-31T09:47:28.242018Z",
     "shell.execute_reply": "2024-12-31T09:47:28.241020Z"
    }
   },
   "outputs": [],
   "source": [
    "# !pip install pyarrow"
   ]
  },
  {
   "cell_type": "code",
   "execution_count": 2,
   "id": "1ebffb70",
   "metadata": {
    "execution": {
     "iopub.execute_input": "2024-12-31T09:47:28.245553Z",
     "iopub.status.busy": "2024-12-31T09:47:28.245553Z",
     "iopub.status.idle": "2024-12-31T09:47:28.259877Z",
     "shell.execute_reply": "2024-12-31T09:47:28.258747Z"
    },
    "scrolled": true
   },
   "outputs": [],
   "source": [
    "# !pip install sidetable"
   ]
  },
  {
   "cell_type": "markdown",
   "id": "6fc4a0d5",
   "metadata": {},
   "source": [
    "### 1. Importing libraries"
   ]
  },
  {
   "cell_type": "code",
   "execution_count": 3,
   "id": "c04edae0",
   "metadata": {
    "execution": {
     "iopub.execute_input": "2024-12-31T09:47:28.264054Z",
     "iopub.status.busy": "2024-12-31T09:47:28.262867Z",
     "iopub.status.idle": "2024-12-31T09:47:34.723107Z",
     "shell.execute_reply": "2024-12-31T09:47:34.722109Z"
    }
   },
   "outputs": [],
   "source": [
    "import pandas as pd\n",
    "\n",
    "import seaborn as sns\n",
    "\n",
    "import os\n",
    "import matplotlib.pyplot as plt\n",
    "\n",
    "import numpy as np\n",
    "import sidetable\n",
    "from sklearn.compose import ColumnTransformer\n",
    "from sklearn.preprocessing import OneHotEncoder, StandardScaler, OrdinalEncoder\n",
    "from scipy.stats import zscore"
   ]
  },
  {
   "cell_type": "code",
   "execution_count": 4,
   "id": "6a7c8007",
   "metadata": {
    "execution": {
     "iopub.execute_input": "2024-12-31T09:47:34.729143Z",
     "iopub.status.busy": "2024-12-31T09:47:34.728119Z",
     "iopub.status.idle": "2024-12-31T09:47:34.756137Z",
     "shell.execute_reply": "2024-12-31T09:47:34.754139Z"
    }
   },
   "outputs": [
    {
     "data": {
      "text/plain": [
       "'C:\\\\Users\\\\40101410\\\\OneDrive - Anheuser-Busch InBev\\\\Upskill2024'"
      ]
     },
     "execution_count": 4,
     "metadata": {},
     "output_type": "execute_result"
    }
   ],
   "source": [
    "os.getcwd()"
   ]
  },
  {
   "cell_type": "code",
   "execution_count": 5,
   "id": "ce3ccccb",
   "metadata": {
    "execution": {
     "iopub.execute_input": "2024-12-31T09:47:34.761123Z",
     "iopub.status.busy": "2024-12-31T09:47:34.761018Z",
     "iopub.status.idle": "2024-12-31T09:47:34.770774Z",
     "shell.execute_reply": "2024-12-31T09:47:34.769778Z"
    }
   },
   "outputs": [
    {
     "data": {
      "text/plain": [
       "['.git',\n",
       " '.ipynb_checkpoints',\n",
       " '.python-version',\n",
       " '.venv',\n",
       " 'Data',\n",
       " 'direct-marketing-eda.ipynb',\n",
       " 'direct-marketing-pre-processing.ipynb',\n",
       " 'direct-marketing-regression.ipynb',\n",
       " 'hello.py',\n",
       " 'main.ipynb',\n",
       " 'processed_data.parquet',\n",
       " 'pyproject.toml',\n",
       " 'raw_data.parquet',\n",
       " 'README.md',\n",
       " 'uv.lock']"
      ]
     },
     "execution_count": 5,
     "metadata": {},
     "output_type": "execute_result"
    }
   ],
   "source": [
    "os.listdir()"
   ]
  },
  {
   "cell_type": "code",
   "execution_count": 6,
   "id": "b1235e79",
   "metadata": {
    "execution": {
     "iopub.execute_input": "2024-12-31T09:47:34.776811Z",
     "iopub.status.busy": "2024-12-31T09:47:34.775777Z",
     "iopub.status.idle": "2024-12-31T09:47:35.090868Z",
     "shell.execute_reply": "2024-12-31T09:47:35.089932Z"
    }
   },
   "outputs": [
    {
     "data": {
      "text/html": [
       "<div>\n",
       "<style scoped>\n",
       "    .dataframe tbody tr th:only-of-type {\n",
       "        vertical-align: middle;\n",
       "    }\n",
       "\n",
       "    .dataframe tbody tr th {\n",
       "        vertical-align: top;\n",
       "    }\n",
       "\n",
       "    .dataframe thead th {\n",
       "        text-align: right;\n",
       "    }\n",
       "</style>\n",
       "<table border=\"1\" class=\"dataframe\">\n",
       "  <thead>\n",
       "    <tr style=\"text-align: right;\">\n",
       "      <th></th>\n",
       "      <th>Age</th>\n",
       "      <th>Gender</th>\n",
       "      <th>OwnHome</th>\n",
       "      <th>Married</th>\n",
       "      <th>Location</th>\n",
       "      <th>Salary</th>\n",
       "      <th>Children</th>\n",
       "      <th>History</th>\n",
       "      <th>Catalogs</th>\n",
       "      <th>AmountSpent</th>\n",
       "    </tr>\n",
       "  </thead>\n",
       "  <tbody>\n",
       "    <tr>\n",
       "      <th>0</th>\n",
       "      <td>Old</td>\n",
       "      <td>Female</td>\n",
       "      <td>Own</td>\n",
       "      <td>Single</td>\n",
       "      <td>Far</td>\n",
       "      <td>47500</td>\n",
       "      <td>0</td>\n",
       "      <td>High</td>\n",
       "      <td>6</td>\n",
       "      <td>755</td>\n",
       "    </tr>\n",
       "    <tr>\n",
       "      <th>1</th>\n",
       "      <td>Middle</td>\n",
       "      <td>Male</td>\n",
       "      <td>Rent</td>\n",
       "      <td>Single</td>\n",
       "      <td>Close</td>\n",
       "      <td>63600</td>\n",
       "      <td>0</td>\n",
       "      <td>High</td>\n",
       "      <td>6</td>\n",
       "      <td>1318</td>\n",
       "    </tr>\n",
       "    <tr>\n",
       "      <th>2</th>\n",
       "      <td>Young</td>\n",
       "      <td>Female</td>\n",
       "      <td>Rent</td>\n",
       "      <td>Single</td>\n",
       "      <td>Close</td>\n",
       "      <td>13500</td>\n",
       "      <td>0</td>\n",
       "      <td>Low</td>\n",
       "      <td>18</td>\n",
       "      <td>296</td>\n",
       "    </tr>\n",
       "    <tr>\n",
       "      <th>3</th>\n",
       "      <td>Middle</td>\n",
       "      <td>Male</td>\n",
       "      <td>Own</td>\n",
       "      <td>Married</td>\n",
       "      <td>Close</td>\n",
       "      <td>85600</td>\n",
       "      <td>1</td>\n",
       "      <td>High</td>\n",
       "      <td>18</td>\n",
       "      <td>2436</td>\n",
       "    </tr>\n",
       "    <tr>\n",
       "      <th>4</th>\n",
       "      <td>Middle</td>\n",
       "      <td>Female</td>\n",
       "      <td>Own</td>\n",
       "      <td>Single</td>\n",
       "      <td>Close</td>\n",
       "      <td>68400</td>\n",
       "      <td>0</td>\n",
       "      <td>High</td>\n",
       "      <td>12</td>\n",
       "      <td>1304</td>\n",
       "    </tr>\n",
       "  </tbody>\n",
       "</table>\n",
       "</div>"
      ],
      "text/plain": [
       "      Age  Gender OwnHome  Married Location  Salary  Children History  \\\n",
       "0     Old  Female     Own   Single      Far   47500         0    High   \n",
       "1  Middle    Male    Rent   Single    Close   63600         0    High   \n",
       "2   Young  Female    Rent   Single    Close   13500         0     Low   \n",
       "3  Middle    Male     Own  Married    Close   85600         1    High   \n",
       "4  Middle  Female     Own   Single    Close   68400         0    High   \n",
       "\n",
       "   Catalogs  AmountSpent  \n",
       "0         6          755  \n",
       "1         6         1318  \n",
       "2        18          296  \n",
       "3        18         2436  \n",
       "4        12         1304  "
      ]
     },
     "execution_count": 6,
     "metadata": {},
     "output_type": "execute_result"
    }
   ],
   "source": [
    "# Saving data for further pre-processing\n",
    "df = pd.read_parquet('raw_data.parquet', engine='pyarrow')\n",
    "df.head()"
   ]
  },
  {
   "cell_type": "code",
   "execution_count": 7,
   "id": "de201389",
   "metadata": {
    "execution": {
     "iopub.execute_input": "2024-12-31T09:47:35.096875Z",
     "iopub.status.busy": "2024-12-31T09:47:35.095876Z",
     "iopub.status.idle": "2024-12-31T09:47:35.137411Z",
     "shell.execute_reply": "2024-12-31T09:47:35.136446Z"
    }
   },
   "outputs": [
    {
     "name": "stdout",
     "output_type": "stream",
     "text": [
      "<class 'pandas.core.frame.DataFrame'>\n",
      "RangeIndex: 1000 entries, 0 to 999\n",
      "Data columns (total 10 columns):\n",
      " #   Column       Non-Null Count  Dtype \n",
      "---  ------       --------------  ----- \n",
      " 0   Age          1000 non-null   object\n",
      " 1   Gender       1000 non-null   object\n",
      " 2   OwnHome      1000 non-null   object\n",
      " 3   Married      1000 non-null   object\n",
      " 4   Location     1000 non-null   object\n",
      " 5   Salary       1000 non-null   int64 \n",
      " 6   Children     1000 non-null   int64 \n",
      " 7   History      1000 non-null   object\n",
      " 8   Catalogs     1000 non-null   int64 \n",
      " 9   AmountSpent  1000 non-null   int64 \n",
      "dtypes: int64(4), object(6)\n",
      "memory usage: 78.2+ KB\n"
     ]
    }
   ],
   "source": [
    "df.info()"
   ]
  },
  {
   "cell_type": "code",
   "execution_count": 8,
   "id": "68a4b88c",
   "metadata": {
    "execution": {
     "iopub.execute_input": "2024-12-31T09:47:35.142425Z",
     "iopub.status.busy": "2024-12-31T09:47:35.141399Z",
     "iopub.status.idle": "2024-12-31T09:47:35.153367Z",
     "shell.execute_reply": "2024-12-31T09:47:35.152448Z"
    }
   },
   "outputs": [],
   "source": [
    "# Change Children and Catalogue column as Object\n",
    "df = df.astype({'Children': 'object', 'Catalogs': 'object'})"
   ]
  },
  {
   "cell_type": "code",
   "execution_count": 9,
   "id": "9f81de3e",
   "metadata": {
    "execution": {
     "iopub.execute_input": "2024-12-31T09:47:35.158373Z",
     "iopub.status.busy": "2024-12-31T09:47:35.158373Z",
     "iopub.status.idle": "2024-12-31T09:47:35.184696Z",
     "shell.execute_reply": "2024-12-31T09:47:35.183695Z"
    },
    "scrolled": true
   },
   "outputs": [
    {
     "data": {
      "text/plain": [
       "Index(['Age', 'Gender', 'OwnHome', 'Married', 'Location', 'Children',\n",
       "       'History', 'Catalogs'],\n",
       "      dtype='object')"
      ]
     },
     "execution_count": 9,
     "metadata": {},
     "output_type": "execute_result"
    }
   ],
   "source": [
    "categorical_variables  = df.select_dtypes(include=['object']).columns\n",
    "categorical_variables"
   ]
  },
  {
   "cell_type": "code",
   "execution_count": 10,
   "id": "439aa6e8",
   "metadata": {
    "execution": {
     "iopub.execute_input": "2024-12-31T09:47:35.189682Z",
     "iopub.status.busy": "2024-12-31T09:47:35.188685Z",
     "iopub.status.idle": "2024-12-31T09:47:35.214980Z",
     "shell.execute_reply": "2024-12-31T09:47:35.213978Z"
    }
   },
   "outputs": [
    {
     "name": "stdout",
     "output_type": "stream",
     "text": [
      "<class 'pandas.core.frame.DataFrame'>\n",
      "RangeIndex: 1000 entries, 0 to 999\n",
      "Data columns (total 10 columns):\n",
      " #   Column       Non-Null Count  Dtype \n",
      "---  ------       --------------  ----- \n",
      " 0   Age          1000 non-null   object\n",
      " 1   Gender       1000 non-null   object\n",
      " 2   OwnHome      1000 non-null   object\n",
      " 3   Married      1000 non-null   object\n",
      " 4   Location     1000 non-null   object\n",
      " 5   Salary       1000 non-null   int64 \n",
      " 6   Children     1000 non-null   object\n",
      " 7   History      1000 non-null   object\n",
      " 8   Catalogs     1000 non-null   object\n",
      " 9   AmountSpent  1000 non-null   int64 \n",
      "dtypes: int64(2), object(8)\n",
      "memory usage: 78.2+ KB\n"
     ]
    }
   ],
   "source": [
    "df.info()"
   ]
  },
  {
   "cell_type": "code",
   "execution_count": 11,
   "id": "5737ad49",
   "metadata": {
    "execution": {
     "iopub.execute_input": "2024-12-31T09:47:35.219965Z",
     "iopub.status.busy": "2024-12-31T09:47:35.219965Z",
     "iopub.status.idle": "2024-12-31T09:47:35.230937Z",
     "shell.execute_reply": "2024-12-31T09:47:35.229013Z"
    }
   },
   "outputs": [
    {
     "data": {
      "text/plain": [
       "['Age',\n",
       " 'Gender',\n",
       " 'OwnHome',\n",
       " 'Married',\n",
       " 'Location',\n",
       " 'Children',\n",
       " 'History',\n",
       " 'Catalogs']"
      ]
     },
     "execution_count": 11,
     "metadata": {},
     "output_type": "execute_result"
    }
   ],
   "source": [
    "categorical_variables = categorical_variables.tolist()\n",
    "categorical_variables"
   ]
  },
  {
   "cell_type": "code",
   "execution_count": 12,
   "id": "6e7e5c89",
   "metadata": {
    "execution": {
     "iopub.execute_input": "2024-12-31T09:47:35.235013Z",
     "iopub.status.busy": "2024-12-31T09:47:35.233928Z",
     "iopub.status.idle": "2024-12-31T09:47:35.245897Z",
     "shell.execute_reply": "2024-12-31T09:47:35.244320Z"
    }
   },
   "outputs": [
    {
     "data": {
      "text/plain": [
       "Index(['Salary', 'AmountSpent'], dtype='object')"
      ]
     },
     "execution_count": 12,
     "metadata": {},
     "output_type": "execute_result"
    }
   ],
   "source": [
    "numerical_variables  = df.select_dtypes(include=['int64']).columns\n",
    "numerical_variables"
   ]
  },
  {
   "cell_type": "code",
   "execution_count": 13,
   "id": "b7fc9fce",
   "metadata": {
    "execution": {
     "iopub.execute_input": "2024-12-31T09:47:35.250883Z",
     "iopub.status.busy": "2024-12-31T09:47:35.249886Z",
     "iopub.status.idle": "2024-12-31T09:47:35.261881Z",
     "shell.execute_reply": "2024-12-31T09:47:35.259983Z"
    }
   },
   "outputs": [
    {
     "data": {
      "text/plain": [
       "['Salary', 'AmountSpent']"
      ]
     },
     "execution_count": 13,
     "metadata": {},
     "output_type": "execute_result"
    }
   ],
   "source": [
    "numerical_columns = numerical_variables.tolist()\n",
    "numerical_columns"
   ]
  },
  {
   "cell_type": "markdown",
   "id": "be2603f3",
   "metadata": {},
   "source": [
    "### Check for outliers in numeric variables"
   ]
  },
  {
   "cell_type": "code",
   "execution_count": 14,
   "id": "341b198a",
   "metadata": {
    "execution": {
     "iopub.execute_input": "2024-12-31T09:47:35.266867Z",
     "iopub.status.busy": "2024-12-31T09:47:35.266867Z",
     "iopub.status.idle": "2024-12-31T09:47:35.292431Z",
     "shell.execute_reply": "2024-12-31T09:47:35.291463Z"
    }
   },
   "outputs": [],
   "source": [
    "# Calculate Z-Score for all numeric columns\n",
    "z_scores = df[numerical_variables].apply(zscore)\n",
    "# Set threshold for Z-Score\n",
    "threshold = 3\n",
    "outliers = (z_scores.abs() > threshold)\n"
   ]
  },
  {
   "cell_type": "code",
   "execution_count": 15,
   "id": "c7426ac9",
   "metadata": {
    "execution": {
     "iopub.execute_input": "2024-12-31T09:47:35.298265Z",
     "iopub.status.busy": "2024-12-31T09:47:35.298182Z",
     "iopub.status.idle": "2024-12-31T09:47:35.827324Z",
     "shell.execute_reply": "2024-12-31T09:47:35.825858Z"
    }
   },
   "outputs": [
    {
     "data": {
      "text/plain": [
       "{'whiskers': [<matplotlib.lines.Line2D at 0x21d92a4acd0>,\n",
       "  <matplotlib.lines.Line2D at 0x21d92a4a6a0>],\n",
       " 'caps': [<matplotlib.lines.Line2D at 0x21d92a4a310>,\n",
       "  <matplotlib.lines.Line2D at 0x21d92a4a2b0>],\n",
       " 'boxes': [<matplotlib.lines.Line2D at 0x21d924eddc0>],\n",
       " 'medians': [<matplotlib.lines.Line2D at 0x21d92a4abe0>],\n",
       " 'fliers': [<matplotlib.lines.Line2D at 0x21d92518430>],\n",
       " 'means': []}"
      ]
     },
     "execution_count": 15,
     "metadata": {},
     "output_type": "execute_result"
    },
    {
     "data": {
      "image/png": "[encoded data removed]",
      "text/plain": [
       "<Figure size 640x480 with 1 Axes>"
      ]
     },
     "metadata": {},
     "output_type": "display_data"
    }
   ],
   "source": [
    "plt.boxplot(df['Salary'])"
   ]
  },
  {
   "cell_type": "code",
   "execution_count": 16,
   "id": "76601c06",
   "metadata": {
    "execution": {
     "iopub.execute_input": "2024-12-31T09:47:35.832292Z",
     "iopub.status.busy": "2024-12-31T09:47:35.831295Z",
     "iopub.status.idle": "2024-12-31T09:47:35.874461Z",
     "shell.execute_reply": "2024-12-31T09:47:35.873474Z"
    },
    "scrolled": true
   },
   "outputs": [
    {
     "data": {
      "text/html": [
       "<div>\n",
       "<style scoped>\n",
       "    .dataframe tbody tr th:only-of-type {\n",
       "        vertical-align: middle;\n",
       "    }\n",
       "\n",
       "    .dataframe tbody tr th {\n",
       "        vertical-align: top;\n",
       "    }\n",
       "\n",
       "    .dataframe thead th {\n",
       "        text-align: right;\n",
       "    }\n",
       "</style>\n",
       "<table border=\"1\" class=\"dataframe\">\n",
       "  <thead>\n",
       "    <tr style=\"text-align: right;\">\n",
       "      <th></th>\n",
       "      <th>Age</th>\n",
       "      <th>Gender</th>\n",
       "      <th>OwnHome</th>\n",
       "      <th>Married</th>\n",
       "      <th>Location</th>\n",
       "      <th>Salary</th>\n",
       "      <th>Children</th>\n",
       "      <th>History</th>\n",
       "      <th>Catalogs</th>\n",
       "      <th>AmountSpent</th>\n",
       "    </tr>\n",
       "  </thead>\n",
       "  <tbody>\n",
       "    <tr>\n",
       "      <th>14</th>\n",
       "      <td>Old</td>\n",
       "      <td>Female</td>\n",
       "      <td>Own</td>\n",
       "      <td>Married</td>\n",
       "      <td>Far</td>\n",
       "      <td>110000</td>\n",
       "      <td>0</td>\n",
       "      <td>High</td>\n",
       "      <td>24</td>\n",
       "      <td>5564</td>\n",
       "    </tr>\n",
       "    <tr>\n",
       "      <th>69</th>\n",
       "      <td>Middle</td>\n",
       "      <td>Male</td>\n",
       "      <td>Own</td>\n",
       "      <td>Single</td>\n",
       "      <td>Far</td>\n",
       "      <td>72300</td>\n",
       "      <td>0</td>\n",
       "      <td>High</td>\n",
       "      <td>24</td>\n",
       "      <td>4182</td>\n",
       "    </tr>\n",
       "    <tr>\n",
       "      <th>91</th>\n",
       "      <td>Old</td>\n",
       "      <td>Male</td>\n",
       "      <td>Own</td>\n",
       "      <td>Married</td>\n",
       "      <td>Close</td>\n",
       "      <td>134500</td>\n",
       "      <td>0</td>\n",
       "      <td>High</td>\n",
       "      <td>24</td>\n",
       "      <td>4558</td>\n",
       "    </tr>\n",
       "    <tr>\n",
       "      <th>152</th>\n",
       "      <td>Middle</td>\n",
       "      <td>Female</td>\n",
       "      <td>Own</td>\n",
       "      <td>Married</td>\n",
       "      <td>Far</td>\n",
       "      <td>109800</td>\n",
       "      <td>0</td>\n",
       "      <td>High</td>\n",
       "      <td>18</td>\n",
       "      <td>4279</td>\n",
       "    </tr>\n",
       "    <tr>\n",
       "      <th>169</th>\n",
       "      <td>Middle</td>\n",
       "      <td>Male</td>\n",
       "      <td>Own</td>\n",
       "      <td>Married</td>\n",
       "      <td>Far</td>\n",
       "      <td>140000</td>\n",
       "      <td>0</td>\n",
       "      <td>High</td>\n",
       "      <td>12</td>\n",
       "      <td>4894</td>\n",
       "    </tr>\n",
       "    <tr>\n",
       "      <th>216</th>\n",
       "      <td>Middle</td>\n",
       "      <td>Female</td>\n",
       "      <td>Rent</td>\n",
       "      <td>Married</td>\n",
       "      <td>Far</td>\n",
       "      <td>120800</td>\n",
       "      <td>1</td>\n",
       "      <td>High</td>\n",
       "      <td>24</td>\n",
       "      <td>5830</td>\n",
       "    </tr>\n",
       "    <tr>\n",
       "      <th>403</th>\n",
       "      <td>Middle</td>\n",
       "      <td>Male</td>\n",
       "      <td>Own</td>\n",
       "      <td>Married</td>\n",
       "      <td>Far</td>\n",
       "      <td>113300</td>\n",
       "      <td>1</td>\n",
       "      <td>High</td>\n",
       "      <td>18</td>\n",
       "      <td>5151</td>\n",
       "    </tr>\n",
       "    <tr>\n",
       "      <th>496</th>\n",
       "      <td>Middle</td>\n",
       "      <td>Male</td>\n",
       "      <td>Own</td>\n",
       "      <td>Married</td>\n",
       "      <td>Far</td>\n",
       "      <td>123000</td>\n",
       "      <td>1</td>\n",
       "      <td>High</td>\n",
       "      <td>24</td>\n",
       "      <td>5878</td>\n",
       "    </tr>\n",
       "    <tr>\n",
       "      <th>637</th>\n",
       "      <td>Middle</td>\n",
       "      <td>Male</td>\n",
       "      <td>Own</td>\n",
       "      <td>Married</td>\n",
       "      <td>Far</td>\n",
       "      <td>89500</td>\n",
       "      <td>0</td>\n",
       "      <td>High</td>\n",
       "      <td>24</td>\n",
       "      <td>5209</td>\n",
       "    </tr>\n",
       "    <tr>\n",
       "      <th>743</th>\n",
       "      <td>Middle</td>\n",
       "      <td>Male</td>\n",
       "      <td>Own</td>\n",
       "      <td>Married</td>\n",
       "      <td>Close</td>\n",
       "      <td>122700</td>\n",
       "      <td>1</td>\n",
       "      <td>None</td>\n",
       "      <td>18</td>\n",
       "      <td>4984</td>\n",
       "    </tr>\n",
       "    <tr>\n",
       "      <th>762</th>\n",
       "      <td>Old</td>\n",
       "      <td>Male</td>\n",
       "      <td>Own</td>\n",
       "      <td>Married</td>\n",
       "      <td>Close</td>\n",
       "      <td>124900</td>\n",
       "      <td>0</td>\n",
       "      <td>High</td>\n",
       "      <td>18</td>\n",
       "      <td>4109</td>\n",
       "    </tr>\n",
       "    <tr>\n",
       "      <th>928</th>\n",
       "      <td>Old</td>\n",
       "      <td>Male</td>\n",
       "      <td>Own</td>\n",
       "      <td>Married</td>\n",
       "      <td>Close</td>\n",
       "      <td>168800</td>\n",
       "      <td>0</td>\n",
       "      <td>High</td>\n",
       "      <td>6</td>\n",
       "      <td>1512</td>\n",
       "    </tr>\n",
       "    <tr>\n",
       "      <th>987</th>\n",
       "      <td>Old</td>\n",
       "      <td>Male</td>\n",
       "      <td>Own</td>\n",
       "      <td>Married</td>\n",
       "      <td>Far</td>\n",
       "      <td>112900</td>\n",
       "      <td>0</td>\n",
       "      <td>High</td>\n",
       "      <td>24</td>\n",
       "      <td>6217</td>\n",
       "    </tr>\n",
       "    <tr>\n",
       "      <th>993</th>\n",
       "      <td>Middle</td>\n",
       "      <td>Female</td>\n",
       "      <td>Own</td>\n",
       "      <td>Married</td>\n",
       "      <td>Far</td>\n",
       "      <td>99200</td>\n",
       "      <td>0</td>\n",
       "      <td>High</td>\n",
       "      <td>24</td>\n",
       "      <td>5503</td>\n",
       "    </tr>\n",
       "  </tbody>\n",
       "</table>\n",
       "</div>"
      ],
      "text/plain": [
       "        Age  Gender OwnHome  Married Location  Salary Children History  \\\n",
       "14      Old  Female     Own  Married      Far  110000        0    High   \n",
       "69   Middle    Male     Own   Single      Far   72300        0    High   \n",
       "91      Old    Male     Own  Married    Close  134500        0    High   \n",
       "152  Middle  Female     Own  Married      Far  109800        0    High   \n",
       "169  Middle    Male     Own  Married      Far  140000        0    High   \n",
       "216  Middle  Female    Rent  Married      Far  120800        1    High   \n",
       "403  Middle    Male     Own  Married      Far  113300        1    High   \n",
       "496  Middle    Male     Own  Married      Far  123000        1    High   \n",
       "637  Middle    Male     Own  Married      Far   89500        0    High   \n",
       "743  Middle    Male     Own  Married    Close  122700        1    None   \n",
       "762     Old    Male     Own  Married    Close  124900        0    High   \n",
       "928     Old    Male     Own  Married    Close  168800        0    High   \n",
       "987     Old    Male     Own  Married      Far  112900        0    High   \n",
       "993  Middle  Female     Own  Married      Far   99200        0    High   \n",
       "\n",
       "    Catalogs  AmountSpent  \n",
       "14        24         5564  \n",
       "69        24         4182  \n",
       "91        24         4558  \n",
       "152       18         4279  \n",
       "169       12         4894  \n",
       "216       24         5830  \n",
       "403       18         5151  \n",
       "496       24         5878  \n",
       "637       24         5209  \n",
       "743       18         4984  \n",
       "762       18         4109  \n",
       "928        6         1512  \n",
       "987       24         6217  \n",
       "993       24         5503  "
      ]
     },
     "execution_count": 16,
     "metadata": {},
     "output_type": "execute_result"
    }
   ],
   "source": [
    "# Check outlier data \n",
    "outlier_data = df[(outliers.any(axis=1))]\n",
    "outlier_data"
   ]
  },
  {
   "cell_type": "code",
   "execution_count": 17,
   "id": "bc6aeaa5",
   "metadata": {
    "execution": {
     "iopub.execute_input": "2024-12-31T09:47:35.880080Z",
     "iopub.status.busy": "2024-12-31T09:47:35.879083Z",
     "iopub.status.idle": "2024-12-31T09:47:36.345726Z",
     "shell.execute_reply": "2024-12-31T09:47:36.343779Z"
    }
   },
   "outputs": [
    {
     "data": {
      "image/png": "[encoded data removed]",
      "text/plain": [
       "<Figure size 640x480 with 1 Axes>"
      ]
     },
     "metadata": {},
     "output_type": "display_data"
    },
    {
     "data": {
      "image/png": "[encoded data removed]",
      "text/plain": [
       "<Figure size 640x480 with 1 Axes>"
      ]
     },
     "metadata": {},
     "output_type": "display_data"
    }
   ],
   "source": [
    "# Boxplot for numeric columns\n",
    "for col in numerical_columns:\n",
    "    sns.boxplot(x=df[col])\n",
    "    plt.title(f\"Boxplot of {col}\")\n",
    "    plt.show()"
   ]
  },
  {
   "cell_type": "code",
   "execution_count": 18,
   "id": "1c8c4019",
   "metadata": {
    "execution": {
     "iopub.execute_input": "2024-12-31T09:47:36.351710Z",
     "iopub.status.busy": "2024-12-31T09:47:36.350712Z",
     "iopub.status.idle": "2024-12-31T09:47:36.359719Z",
     "shell.execute_reply": "2024-12-31T09:47:36.358721Z"
    }
   },
   "outputs": [],
   "source": [
    "nominal_columns = ['Gender', 'OwnHome', 'Married', 'Location']\n",
    "ordinal_columns = ['Children', 'Catalogs']"
   ]
  },
  {
   "cell_type": "code",
   "execution_count": 19,
   "id": "c97dbca3",
   "metadata": {
    "execution": {
     "iopub.execute_input": "2024-12-31T09:47:36.365702Z",
     "iopub.status.busy": "2024-12-31T09:47:36.365029Z",
     "iopub.status.idle": "2024-12-31T09:47:36.405552Z",
     "shell.execute_reply": "2024-12-31T09:47:36.400311Z"
    }
   },
   "outputs": [
    {
     "name": "stdout",
     "output_type": "stream",
     "text": [
      "Gender\n",
      "Index([], dtype='object', name='Gender')\n",
      "OwnHome\n",
      "Index([], dtype='object', name='OwnHome')\n",
      "Married\n",
      "Index([], dtype='object', name='Married')\n",
      "Location\n",
      "Index([], dtype='object', name='Location')\n"
     ]
    }
   ],
   "source": [
    "# Nominal Columns\n",
    "# Outliers in nominal data are rare categories or invalid entries.\n",
    "for col in nominal_columns:\n",
    "    category_counts = df[col].value_counts()\n",
    "    rare_categories = category_counts[category_counts < 5].index\n",
    "    print(col)\n",
    "    print(rare_categories)\n",
    "\n",
    "    # Replace rare categories with 'Other'\n",
    "    df[col] = df[col].apply(lambda x: 'Other' if x in rare_categories else x)\n",
    "    \n",
    "# No column has rare categories"
   ]
  },
  {
   "cell_type": "code",
   "execution_count": 20,
   "id": "39b9f69b",
   "metadata": {
    "execution": {
     "iopub.execute_input": "2024-12-31T09:47:36.410539Z",
     "iopub.status.busy": "2024-12-31T09:47:36.409915Z",
     "iopub.status.idle": "2024-12-31T09:47:37.308561Z",
     "shell.execute_reply": "2024-12-31T09:47:37.307621Z"
    }
   },
   "outputs": [
    {
     "data": {
      "image/png": "[encoded data removed]",
      "text/plain": [
       "<Figure size 640x480 with 1 Axes>"
      ]
     },
     "metadata": {},
     "output_type": "display_data"
    },
    {
     "data": {
      "image/png": "[encoded data removed]",
      "text/plain": [
       "<Figure size 640x480 with 1 Axes>"
      ]
     },
     "metadata": {},
     "output_type": "display_data"
    },
    {
     "data": {
      "image/png": "[encoded data removed]",
      "text/plain": [
       "<Figure size 640x480 with 1 Axes>"
      ]
     },
     "metadata": {},
     "output_type": "display_data"
    },
    {
     "data": {
      "image/png": "[encoded data removed]",
      "text/plain": [
       "<Figure size 640x480 with 1 Axes>"
      ]
     },
     "metadata": {},
     "output_type": "display_data"
    }
   ],
   "source": [
    "# Countplot for nominal columns - visual representation of outliers\n",
    "for col in nominal_columns:\n",
    "    sns.countplot(x=df[col])\n",
    "    plt.title(f\"Countplot of {col}\")\n",
    "    plt.show()"
   ]
  },
  {
   "cell_type": "code",
   "execution_count": 21,
   "id": "b3ad7398",
   "metadata": {
    "execution": {
     "iopub.execute_input": "2024-12-31T09:47:37.314544Z",
     "iopub.status.busy": "2024-12-31T09:47:37.314060Z",
     "iopub.status.idle": "2024-12-31T09:47:37.811478Z",
     "shell.execute_reply": "2024-12-31T09:47:37.809939Z"
    },
    "scrolled": true
   },
   "outputs": [
    {
     "data": {
      "image/png": "[encoded data removed]",
      "text/plain": [
       "<Figure size 640x480 with 1 Axes>"
      ]
     },
     "metadata": {},
     "output_type": "display_data"
    },
    {
     "data": {
      "image/png": "[encoded data removed]",
      "text/plain": [
       "<Figure size 640x480 with 1 Axes>"
      ]
     },
     "metadata": {},
     "output_type": "display_data"
    }
   ],
   "source": [
    "# Countplot for ordinal columns - visual representation of outliers - no unexpected or invalid values\n",
    "for col in ordinal_columns:\n",
    "    sns.countplot(x=df[col])\n",
    "    plt.title(f\"Countplot of {col}\")\n",
    "    plt.show()"
   ]
  },
  {
   "cell_type": "markdown",
   "id": "e4f74215",
   "metadata": {},
   "source": [
    "Summary\n",
    "1. No treatment for missing values \n",
    "2. No outlier treatment required"
   ]
  },
  {
   "cell_type": "markdown",
   "id": "282319d8",
   "metadata": {},
   "source": [
    "#### Column Transformers"
   ]
  },
  {
   "cell_type": "code",
   "execution_count": 22,
   "id": "8b5dac2e",
   "metadata": {
    "execution": {
     "iopub.execute_input": "2024-12-31T09:47:37.816737Z",
     "iopub.status.busy": "2024-12-31T09:47:37.815740Z",
     "iopub.status.idle": "2024-12-31T09:47:37.825713Z",
     "shell.execute_reply": "2024-12-31T09:47:37.824820Z"
    }
   },
   "outputs": [],
   "source": [
    "# Numerical columns: StandardScaler\n",
    "numerical_transformer = StandardScaler()\n",
    "\n",
    "# Nominal Catgorical Variables\n",
    "nominal_encoder = OneHotEncoder()\n",
    "\n",
    "# Ordinal Catgorical Variables\n",
    "ordinal_encoder = OrdinalEncoder()"
   ]
  },
  {
   "cell_type": "code",
   "execution_count": 23,
   "id": "f4120844",
   "metadata": {
    "execution": {
     "iopub.execute_input": "2024-12-31T09:47:37.830700Z",
     "iopub.status.busy": "2024-12-31T09:47:37.830700Z",
     "iopub.status.idle": "2024-12-31T09:47:37.844868Z",
     "shell.execute_reply": "2024-12-31T09:47:37.843361Z"
    }
   },
   "outputs": [],
   "source": [
    "# pre-defined order for Age and History columns\n",
    "Age_order = [[\"Young\", \"Middle\", \"Old\"]]\n",
    "History_order = [['None', 'Low', 'Medium', 'High']]"
   ]
  },
  {
   "cell_type": "code",
   "execution_count": 24,
   "id": "1b62a64d",
   "metadata": {
    "execution": {
     "iopub.execute_input": "2024-12-31T09:47:37.849854Z",
     "iopub.status.busy": "2024-12-31T09:47:37.848857Z",
     "iopub.status.idle": "2024-12-31T09:47:37.891512Z",
     "shell.execute_reply": "2024-12-31T09:47:37.890581Z"
    }
   },
   "outputs": [],
   "source": [
    "# Encode nominal features using OneHotEncoder\n",
    "# Encode ordinal features using Ordinal Encoder\n",
    "# Use pre-defined coding for Age and History variables\n",
    "# Stadardize Numerical features\n",
    "preprocessor = ColumnTransformer(\n",
    "    transformers=[\n",
    "        (\"onehot\", nominal_encoder, nominal_columns),\n",
    "        (\"ordinal_age\", OrdinalEncoder(categories = Age_order), ['Age']),\n",
    "        (\"ordinal_history\", OrdinalEncoder(categories = History_order), ['History']),\n",
    "        (\"ordinal\", ordinal_encoder, ordinal_columns),\n",
    "        (\"num\", numerical_transformer, numerical_columns)],\n",
    "    remainder=\"passthrough\"  # Keep other columns (e.g., Age) as is\n",
    ")\n",
    "\n",
    "# Apply the transformation\n",
    "transformed_data = preprocessor.fit_transform(df)"
   ]
  },
  {
   "cell_type": "code",
   "execution_count": 25,
   "id": "cbb01b61",
   "metadata": {
    "execution": {
     "iopub.execute_input": "2024-12-31T09:47:37.896817Z",
     "iopub.status.busy": "2024-12-31T09:47:37.895804Z",
     "iopub.status.idle": "2024-12-31T09:47:37.938810Z",
     "shell.execute_reply": "2024-12-31T09:47:37.937874Z"
    }
   },
   "outputs": [
    {
     "data": {
      "text/html": [
       "<div>\n",
       "<style scoped>\n",
       "    .dataframe tbody tr th:only-of-type {\n",
       "        vertical-align: middle;\n",
       "    }\n",
       "\n",
       "    .dataframe tbody tr th {\n",
       "        vertical-align: top;\n",
       "    }\n",
       "\n",
       "    .dataframe thead th {\n",
       "        text-align: right;\n",
       "    }\n",
       "</style>\n",
       "<table border=\"1\" class=\"dataframe\">\n",
       "  <thead>\n",
       "    <tr style=\"text-align: right;\">\n",
       "      <th></th>\n",
       "      <th>onehot__Gender_Female</th>\n",
       "      <th>onehot__Gender_Male</th>\n",
       "      <th>onehot__OwnHome_Own</th>\n",
       "      <th>onehot__OwnHome_Rent</th>\n",
       "      <th>onehot__Married_Married</th>\n",
       "      <th>onehot__Married_Single</th>\n",
       "      <th>onehot__Location_Close</th>\n",
       "      <th>onehot__Location_Far</th>\n",
       "      <th>ordinal_age__Age</th>\n",
       "      <th>ordinal_history__History</th>\n",
       "      <th>ordinal__Children</th>\n",
       "      <th>ordinal__Catalogs</th>\n",
       "      <th>num__Salary</th>\n",
       "      <th>num__AmountSpent</th>\n",
       "    </tr>\n",
       "  </thead>\n",
       "  <tbody>\n",
       "    <tr>\n",
       "      <th>0</th>\n",
       "      <td>1.0</td>\n",
       "      <td>0.0</td>\n",
       "      <td>1.0</td>\n",
       "      <td>0.0</td>\n",
       "      <td>0.0</td>\n",
       "      <td>1.0</td>\n",
       "      <td>0.0</td>\n",
       "      <td>1.0</td>\n",
       "      <td>2.0</td>\n",
       "      <td>3.0</td>\n",
       "      <td>0.0</td>\n",
       "      <td>0.0</td>\n",
       "      <td>-0.281164</td>\n",
       "      <td>-0.480716</td>\n",
       "    </tr>\n",
       "    <tr>\n",
       "      <th>1</th>\n",
       "      <td>0.0</td>\n",
       "      <td>1.0</td>\n",
       "      <td>0.0</td>\n",
       "      <td>1.0</td>\n",
       "      <td>0.0</td>\n",
       "      <td>1.0</td>\n",
       "      <td>1.0</td>\n",
       "      <td>0.0</td>\n",
       "      <td>1.0</td>\n",
       "      <td>3.0</td>\n",
       "      <td>0.0</td>\n",
       "      <td>0.0</td>\n",
       "      <td>0.244963</td>\n",
       "      <td>0.105383</td>\n",
       "    </tr>\n",
       "    <tr>\n",
       "      <th>2</th>\n",
       "      <td>1.0</td>\n",
       "      <td>0.0</td>\n",
       "      <td>0.0</td>\n",
       "      <td>1.0</td>\n",
       "      <td>0.0</td>\n",
       "      <td>1.0</td>\n",
       "      <td>1.0</td>\n",
       "      <td>0.0</td>\n",
       "      <td>0.0</td>\n",
       "      <td>1.0</td>\n",
       "      <td>0.0</td>\n",
       "      <td>2.0</td>\n",
       "      <td>-1.392239</td>\n",
       "      <td>-0.958548</td>\n",
       "    </tr>\n",
       "    <tr>\n",
       "      <th>3</th>\n",
       "      <td>0.0</td>\n",
       "      <td>1.0</td>\n",
       "      <td>1.0</td>\n",
       "      <td>0.0</td>\n",
       "      <td>1.0</td>\n",
       "      <td>0.0</td>\n",
       "      <td>1.0</td>\n",
       "      <td>0.0</td>\n",
       "      <td>1.0</td>\n",
       "      <td>3.0</td>\n",
       "      <td>1.0</td>\n",
       "      <td>2.0</td>\n",
       "      <td>0.963893</td>\n",
       "      <td>1.269254</td>\n",
       "    </tr>\n",
       "    <tr>\n",
       "      <th>4</th>\n",
       "      <td>1.0</td>\n",
       "      <td>0.0</td>\n",
       "      <td>1.0</td>\n",
       "      <td>0.0</td>\n",
       "      <td>0.0</td>\n",
       "      <td>1.0</td>\n",
       "      <td>1.0</td>\n",
       "      <td>0.0</td>\n",
       "      <td>1.0</td>\n",
       "      <td>3.0</td>\n",
       "      <td>0.0</td>\n",
       "      <td>1.0</td>\n",
       "      <td>0.401820</td>\n",
       "      <td>0.090809</td>\n",
       "    </tr>\n",
       "  </tbody>\n",
       "</table>\n",
       "</div>"
      ],
      "text/plain": [
       "   onehot__Gender_Female  onehot__Gender_Male  onehot__OwnHome_Own  \\\n",
       "0                    1.0                  0.0                  1.0   \n",
       "1                    0.0                  1.0                  0.0   \n",
       "2                    1.0                  0.0                  0.0   \n",
       "3                    0.0                  1.0                  1.0   \n",
       "4                    1.0                  0.0                  1.0   \n",
       "\n",
       "   onehot__OwnHome_Rent  onehot__Married_Married  onehot__Married_Single  \\\n",
       "0                   0.0                      0.0                     1.0   \n",
       "1                   1.0                      0.0                     1.0   \n",
       "2                   1.0                      0.0                     1.0   \n",
       "3                   0.0                      1.0                     0.0   \n",
       "4                   0.0                      0.0                     1.0   \n",
       "\n",
       "   onehot__Location_Close  onehot__Location_Far  ordinal_age__Age  \\\n",
       "0                     0.0                   1.0               2.0   \n",
       "1                     1.0                   0.0               1.0   \n",
       "2                     1.0                   0.0               0.0   \n",
       "3                     1.0                   0.0               1.0   \n",
       "4                     1.0                   0.0               1.0   \n",
       "\n",
       "   ordinal_history__History  ordinal__Children  ordinal__Catalogs  \\\n",
       "0                       3.0                0.0                0.0   \n",
       "1                       3.0                0.0                0.0   \n",
       "2                       1.0                0.0                2.0   \n",
       "3                       3.0                1.0                2.0   \n",
       "4                       3.0                0.0                1.0   \n",
       "\n",
       "   num__Salary  num__AmountSpent  \n",
       "0    -0.281164         -0.480716  \n",
       "1     0.244963          0.105383  \n",
       "2    -1.392239         -0.958548  \n",
       "3     0.963893          1.269254  \n",
       "4     0.401820          0.090809  "
      ]
     },
     "execution_count": 25,
     "metadata": {},
     "output_type": "execute_result"
    }
   ],
   "source": [
    "# Convert to data frame\n",
    "transformed_df = pd.DataFrame(\n",
    "    transformed_data,\n",
    "    columns=preprocessor.get_feature_names_out()\n",
    ")\n",
    "transformed_df.head()"
   ]
  },
  {
   "cell_type": "code",
   "execution_count": 26,
   "id": "0bd8db32",
   "metadata": {
    "execution": {
     "iopub.execute_input": "2024-12-31T09:47:37.944913Z",
     "iopub.status.busy": "2024-12-31T09:47:37.943841Z",
     "iopub.status.idle": "2024-12-31T09:47:37.954973Z",
     "shell.execute_reply": "2024-12-31T09:47:37.953843Z"
    }
   },
   "outputs": [],
   "source": [
    "# Get mappings\n",
    "onehot_mapping = {\n",
    "    col: list(categories) for col, categories in zip(nominal_columns, preprocessor.named_transformers_[\"onehot\"].categories_)\n",
    "}\n",
    "ordinal_mapping = {\n",
    "    col: list(categories) for col, categories in zip(ordinal_columns, preprocessor.named_transformers_[\"ordinal\"].categories_)\n",
    "}\n"
   ]
  },
  {
   "cell_type": "code",
   "execution_count": 27,
   "id": "895c8398",
   "metadata": {
    "execution": {
     "iopub.execute_input": "2024-12-31T09:47:37.959938Z",
     "iopub.status.busy": "2024-12-31T09:47:37.958832Z",
     "iopub.status.idle": "2024-12-31T09:47:37.969942Z",
     "shell.execute_reply": "2024-12-31T09:47:37.969006Z"
    },
    "scrolled": true
   },
   "outputs": [
    {
     "name": "stdout",
     "output_type": "stream",
     "text": [
      "OneHot Mapping: {'Gender': ['Female', 'Male'], 'OwnHome': ['Own', 'Rent'], 'Married': ['Married', 'Single'], 'Location': ['Close', 'Far']}\n",
      "Ordinal Mapping: {'Children': [0, 1, 2, 3], 'Catalogs': [6, 12, 18, 24]}\n",
      "Age Mapping: [array(['Young', 'Middle', 'Old'], dtype=object)]\n",
      "History Mapping: [array(['None', 'Low', 'Medium', 'High'], dtype=object)]\n"
     ]
    }
   ],
   "source": [
    "# Retrive mappings\n",
    "\n",
    "print(\"OneHot Mapping:\", onehot_mapping)\n",
    "print(\"Ordinal Mapping:\", ordinal_mapping)\n",
    "print(\"Age Mapping:\", preprocessor.named_transformers_[\"ordinal_age\"].categories_)\n",
    "print(\"History Mapping:\", preprocessor.named_transformers_[\"ordinal_history\"].categories_)"
   ]
  },
  {
   "cell_type": "code",
   "execution_count": 28,
   "id": "7a998ef7",
   "metadata": {
    "execution": {
     "iopub.execute_input": "2024-12-31T09:47:37.975522Z",
     "iopub.status.busy": "2024-12-31T09:47:37.974905Z",
     "iopub.status.idle": "2024-12-31T09:47:38.001096Z",
     "shell.execute_reply": "2024-12-31T09:47:38.000156Z"
    }
   },
   "outputs": [],
   "source": [
    "# Saving data for further pre-processing\n",
    "transformed_df.to_parquet('processed_data.parquet', index=False)"
   ]
  }
 ],
 "metadata": {
  "kernelspec": {
   "display_name": "Python 3 (ipykernel)",
   "language": "python",
   "name": "python3"
  },
  "language_info": {
   "codemirror_mode": {
    "name": "ipython",
    "version": 3
   },
   "file_extension": ".py",
   "mimetype": "text/x-python",
   "name": "python",
   "nbconvert_exporter": "python",
   "pygments_lexer": "ipython3",
   "version": "3.9.7"
  }
 },
 "nbformat": 4,
 "nbformat_minor": 5
}
