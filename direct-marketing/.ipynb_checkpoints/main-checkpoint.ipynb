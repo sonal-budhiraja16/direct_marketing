{
 "cells": [
  {
   "cell_type": "code",
   "execution_count": 1,
   "id": "d19d226b",
   "metadata": {
    "scrolled": true
   },
   "outputs": [],
   "source": [
    "# !pip install --upgrade uv\n",
    "# !pip install tqdm"
   ]
  },
  {
   "cell_type": "code",
   "execution_count": 2,
   "id": "019f47b3",
   "metadata": {
    "scrolled": true
   },
   "outputs": [
    {
     "name": "stdout",
     "output_type": "stream",
     "text": [
      "uv 0.5.13 (c456bae5e 2024-12-27)\n"
     ]
    }
   ],
   "source": [
    "!uv --version\n"
   ]
  },
  {
   "cell_type": "code",
   "execution_count": 3,
   "id": "dd10e93b",
   "metadata": {},
   "outputs": [],
   "source": [
    "# !uv init   "
   ]
  },
  {
   "cell_type": "markdown",
   "id": "9fbe2d41",
   "metadata": {},
   "source": [
    "### Import necessary libraries"
   ]
  },
  {
   "cell_type": "code",
   "execution_count": 4,
   "id": "cb07b997",
   "metadata": {},
   "outputs": [],
   "source": [
    "import subprocess\n",
    "import sys \n",
    "import os\n",
    "import tqdm"
   ]
  },
  {
   "cell_type": "markdown",
   "id": "92e4e06c",
   "metadata": {},
   "source": [
    "### Create function to Initialize project using uv"
   ]
  },
  {
   "cell_type": "code",
   "execution_count": 5,
   "id": "7d68a978",
   "metadata": {},
   "outputs": [],
   "source": [
    "def initialize_uv_project():\n",
    "    try:\n",
    "        # Run the 'uv init' command to initialize the project\n",
    "        subprocess.run(['uv', 'init'], check = True) # to run uv commands within python\n",
    "        print(\"Project initialized successfully.\")\n",
    "    except subprocess.CalledProcessError as e: # throws error if the project fails\n",
    "        print(f\"Error during project initialization: {e}\") \n",
    "    except FileNotFoundError:\n",
    "        print(\"UV command not found. Ensure 'uv' is installed and in PATH.\")"
   ]
  },
  {
   "cell_type": "code",
   "execution_count": 6,
   "id": "1a522bed",
   "metadata": {},
   "outputs": [
    {
     "name": "stdout",
     "output_type": "stream",
     "text": [
      "Project initialized successfully.\n"
     ]
    }
   ],
   "source": [
    "initialize_uv_project()"
   ]
  },
  {
   "cell_type": "markdown",
   "id": "8fec67a4",
   "metadata": {},
   "source": [
    "### Add dependencies using uv"
   ]
  },
  {
   "cell_type": "code",
   "execution_count": 7,
   "id": "14d8825c",
   "metadata": {},
   "outputs": [],
   "source": [
    "def add_dependencies():\n",
    "        try:\n",
    "            dependencies = ['numpy', 'pandas', 'matplotlib', 'scikit-learn', 'seaborn', \n",
    "            'plotly', 'sidetable', 'kaggle', 'pyarrow', 'jupyter', \n",
    "            'nbconvert', 'scipy']\n",
    "            # Install dependencies using pip\n",
    "            subprocess.check_call([sys.executable, '-m', 'pip', 'install', *dependencies])\n",
    "            print(\"Dependencies added successfully.\")\n",
    "        except subprocess.CalledProcessError as e:\n",
    "            print(f\"Error while adding dependencies: {e}\")\n",
    "            sys.exit(1)"
   ]
  },
  {
   "cell_type": "code",
   "execution_count": 8,
   "id": "58ff42a2",
   "metadata": {},
   "outputs": [
    {
     "name": "stdout",
     "output_type": "stream",
     "text": [
      "Dependencies added successfully.\n"
     ]
    }
   ],
   "source": [
    "add_dependencies()"
   ]
  },
  {
   "cell_type": "markdown",
   "id": "0a523f17",
   "metadata": {},
   "source": [
    "### Run python script using uv"
   ]
  },
  {
   "cell_type": "code",
   "execution_count": 9,
   "id": "39232a1a",
   "metadata": {},
   "outputs": [],
   "source": [
    "# list of notebooks to run\n",
    "\n",
    "def run_notebook(notebook_name):\n",
    "    try:\n",
    "        output_name = f\"executed_{notebook_name}\"\n",
    "        print(f\"Running {notebook_name}...\")\n",
    "         # Construct the command\n",
    "        result = subprocess.run(\n",
    "                [\n",
    "                    \"jupyter\", \"nbconvert\", \"--to\", \"notebook\", \n",
    "                    \"--execute\", notebook_name, \n",
    "                    \"--output\", output_name\n",
    "                ],\n",
    "                check=True,\n",
    "                text=True,  # Capture the output as a string\n",
    "                capture_output=True  # Capture stdout and stderr\n",
    "            )\n",
    "        # Display the output\n",
    "        print(f\"Notebook {notebook_name} executed successfully. Output saved as {output_name}\")\n",
    "        print(f\"Execution Output:\\n{result.stdout}\")\n",
    "        \n",
    "    except subprocess.CalledProcessError as e:\n",
    "        print(f\"Error executing {notebook_name}: {e}\")\n",
    "        print(f\"Error Output:\\n{e.stderr}\")"
   ]
  },
  {
   "cell_type": "markdown",
   "id": "a9615562",
   "metadata": {},
   "source": [
    "### Main to coordinate execution using uv"
   ]
  },
  {
   "cell_type": "code",
   "execution_count": 10,
   "id": "fa75a000",
   "metadata": {},
   "outputs": [
    {
     "name": "stdout",
     "output_type": "stream",
     "text": [
      "Error during project initialization: Command '['uv', 'init']' returned non-zero exit status 2.\n",
      "Dependencies added successfully.\n",
      "Running direct-marketing-eda.ipynb...\n",
      "Notebook direct-marketing-eda.ipynb executed successfully. Output saved as executed_direct-marketing-eda.ipynb\n",
      "Execution Output:\n",
      "\n",
      "Running direct-marketing-pre-processing.ipynb...\n",
      "Notebook direct-marketing-pre-processing.ipynb executed successfully. Output saved as executed_direct-marketing-pre-processing.ipynb\n",
      "Execution Output:\n",
      "\n",
      "Running direct-marketing-regression.ipynb...\n",
      "Notebook direct-marketing-regression.ipynb executed successfully. Output saved as executed_direct-marketing-regression.ipynb\n",
      "Execution Output:\n",
      "\n"
     ]
    }
   ],
   "source": [
    "def main():\n",
    "    # Initialize the UV project\n",
    "    initialize_uv_project()\n",
    "\n",
    "    # Add dependencies\n",
    "    add_dependencies()\n",
    "\n",
    "    notebooks = ['direct-marketing-eda.ipynb', 'direct-marketing-pre-processing.ipynb', 'direct-marketing-regression.ipynb']\n",
    "    for notebook in notebooks:\n",
    "        run_notebook(notebook)\n",
    "\n",
    "if __name__ == \"__main__\":\n",
    "    main()"
   ]
  }
 ],
 "metadata": {
  "kernelspec": {
   "display_name": "Python 3 (ipykernel)",
   "language": "python",
   "name": "python3"
  },
  "language_info": {
   "codemirror_mode": {
    "name": "ipython",
    "version": 3
   },
   "file_extension": ".py",
   "mimetype": "text/x-python",
   "name": "python",
   "nbconvert_exporter": "python",
   "pygments_lexer": "ipython3",
   "version": "3.9.7"
  }
 },
 "nbformat": 4,
 "nbformat_minor": 5
}
