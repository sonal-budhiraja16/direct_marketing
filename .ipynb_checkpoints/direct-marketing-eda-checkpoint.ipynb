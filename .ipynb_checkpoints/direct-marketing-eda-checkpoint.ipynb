{
 "cells": [
  {
   "cell_type": "code",
   "execution_count": 8,
   "id": "c48e59a5",
   "metadata": {
    "scrolled": true
   },
   "outputs": [
    {
     "name": "stdout",
     "output_type": "stream",
     "text": [
      "Collecting kaggle\n",
      "  Downloading kaggle-1.6.17.tar.gz (82 kB)\n",
      "     -------------------------------------- 82.7/82.7 kB 917.1 kB/s eta 0:00:00\n",
      "  Preparing metadata (setup.py): started\n",
      "  Preparing metadata (setup.py): finished with status 'done'\n",
      "Requirement already satisfied: six>=1.10 in c:\\users\\40101410\\anaconda3\\lib\\site-packages (from kaggle) (1.16.0)\n",
      "Collecting certifi>=2023.7.22 (from kaggle)"
     ]
    },
    {
     "name": "stderr",
     "output_type": "stream",
     "text": [
      "DEPRECATION: pyodbc 4.0.0-unsupported has a non-standard version number. pip 24.0 will enforce this behaviour change. A possible replacement is to upgrade to a newer version of pyodbc or contact the author to suggest that they release a version with a conforming version number. Discussion can be found at https://github.com/pypa/pip/issues/12063\n",
      "ERROR: pip's dependency resolver does not currently take into account all the packages that are installed. This behaviour is the source of the following dependency conflicts.\n",
      "tensorboard 2.12.2 requires absl-py>=0.4, which is not installed.\n",
      "tensorflow-intel 2.12.0 requires absl-py>=1.0.0, which is not installed.\n",
      "anaconda-project 0.10.1 requires ruamel-yaml, which is not installed.\n",
      "conda-repo-cli 1.0.4 requires pathlib, which is not installed.\n",
      "spyder 5.1.5 requires pyqt5<5.13, which is not installed.\n",
      "spyder 5.1.5 requires pyqtwebengine<5.13, which is not installed.\n",
      "\n",
      "[notice] A new release of pip is available: 23.3.1 -> 24.3.1\n",
      "[notice] To update, run: python.exe -m pip install --upgrade pip\n"
     ]
    },
    {
     "name": "stdout",
     "output_type": "stream",
     "text": [
      "\n",
      "  Downloading certifi-2024.12.14-py3-none-any.whl.metadata (2.3 kB)\n",
      "Requirement already satisfied: python-dateutil in c:\\users\\40101410\\anaconda3\\lib\\site-packages (from kaggle) (2.8.2)\n",
      "Requirement already satisfied: requests in c:\\users\\40101410\\appdata\\roaming\\python\\python39\\site-packages (from kaggle) (2.31.0)\n",
      "Requirement already satisfied: tqdm in c:\\users\\40101410\\anaconda3\\lib\\site-packages (from kaggle) (4.62.3)\n",
      "Requirement already satisfied: python-slugify in c:\\users\\40101410\\anaconda3\\lib\\site-packages (from kaggle) (5.0.2)\n",
      "Requirement already satisfied: urllib3 in c:\\users\\40101410\\appdata\\roaming\\python\\python39\\site-packages (from kaggle) (2.1.0)\n",
      "Requirement already satisfied: bleach in c:\\users\\40101410\\anaconda3\\lib\\site-packages (from kaggle) (4.0.0)\n",
      "Requirement already satisfied: packaging in c:\\users\\40101410\\anaconda3\\lib\\site-packages (from bleach->kaggle) (21.0)\n",
      "Requirement already satisfied: webencodings in c:\\users\\40101410\\anaconda3\\lib\\site-packages (from bleach->kaggle) (0.5.1)\n",
      "Requirement already satisfied: text-unidecode>=1.3 in c:\\users\\40101410\\anaconda3\\lib\\site-packages (from python-slugify->kaggle) (1.3)\n",
      "Requirement already satisfied: charset-normalizer<4,>=2 in c:\\users\\40101410\\anaconda3\\lib\\site-packages (from requests->kaggle) (2.0.4)\n",
      "Requirement already satisfied: idna<4,>=2.5 in c:\\users\\40101410\\anaconda3\\lib\\site-packages (from requests->kaggle) (3.2)\n",
      "Requirement already satisfied: colorama in c:\\users\\40101410\\anaconda3\\lib\\site-packages (from tqdm->kaggle) (0.4.4)\n",
      "Requirement already satisfied: pyparsing>=2.0.2 in c:\\users\\40101410\\anaconda3\\lib\\site-packages (from packaging->bleach->kaggle) (3.0.4)\n",
      "Downloading certifi-2024.12.14-py3-none-any.whl (164 kB)\n",
      "   ---------------------------------------- 164.9/164.9 kB 3.3 MB/s eta 0:00:00\n",
      "Building wheels for collected packages: kaggle\n",
      "  Building wheel for kaggle (setup.py): started\n",
      "  Building wheel for kaggle (setup.py): finished with status 'done'\n",
      "  Created wheel for kaggle: filename=kaggle-1.6.17-py3-none-any.whl size=105803 sha256=a55f80c450b0c3e719d796b2a7901c5e145437e56cdf2aa0525ed5d840f0cf10\n",
      "  Stored in directory: c:\\users\\40101410\\appdata\\local\\pip\\cache\\wheels\\2b\\af\\a9\\70bffa2773af622d2ebea9c8d407720b86e67bd40c465bf837\n",
      "Successfully built kaggle\n",
      "Installing collected packages: certifi, kaggle\n",
      "  Attempting uninstall: certifi\n",
      "    Found existing installation: certifi 2021.10.8\n",
      "    Uninstalling certifi-2021.10.8:\n",
      "      Successfully uninstalled certifi-2021.10.8\n",
      "Successfully installed certifi-2024.12.14 kaggle-1.6.17\n"
     ]
    }
   ],
   "source": [
    "# !pip install kagglehub\n",
    "#!pip install sidetable\n",
    "!pip install kaggle"
   ]
  },
  {
   "cell_type": "markdown",
   "id": "24d84f08",
   "metadata": {},
   "source": [
    "## 1. Importing Libraries"
   ]
  },
  {
   "cell_type": "code",
   "execution_count": 11,
   "id": "60738aa3",
   "metadata": {
    "scrolled": true
   },
   "outputs": [],
   "source": [
    "import pandas as pd\n",
    "\n",
    "import seaborn as sns\n",
    "\n",
    "import os\n",
    "import matplotlib.pyplot as plt\n",
    "\n",
    "import numpy as np\n",
    "import sidetable"
   ]
  },
  {
   "cell_type": "code",
   "execution_count": 18,
   "id": "1d7dece2",
   "metadata": {},
   "outputs": [],
   "source": [
    "# Authenticating Kaggle for downloading the data\n",
    "import kaggle\n",
    "import kagglehub\n",
    "from kaggle.api.kaggle_api_extended import KaggleApi\n",
    "# Step 1: Authenticate with Kaggle\n",
    "api = KaggleApi()\n",
    "api.authenticate()"
   ]
  },
  {
   "cell_type": "code",
   "execution_count": 19,
   "id": "576e2364",
   "metadata": {},
   "outputs": [],
   "source": [
    "%matplotlib inline "
   ]
  },
  {
   "cell_type": "code",
   "execution_count": 20,
   "id": "61887749",
   "metadata": {},
   "outputs": [],
   "source": [
    "# This is to supress the warning messages (if any) generated in our code\n",
    "import warnings\n",
    "warnings.filterwarnings('ignore')"
   ]
  },
  {
   "cell_type": "markdown",
   "id": "90bb566f",
   "metadata": {},
   "source": [
    "## 2. Data\n",
    "Data Columns Means\n",
    "<ul>\n",
    "<li>Age--------------> Age of customer(Old/Middle/Young)</li>\n",
    "<li>Gender -------------->Gender (Male/ Female)</li>\n",
    "<li>OwnHome -------------->Whether customer owns home (Own/Rent)</li>\n",
    "<li>Married ------------> Married (Müşteri Evli plup olmadığı)(single/married)</li> \n",
    "<li>Location -------------> In terms of distance to the nearest brick and mortar store that sells similar products(Far/ Close)</li>\n",
    "<li>Salary --------->Yearly salary of customer in dollars</li>\n",
    "<li>Children ------->Number of children (0-3)</li>\n",
    "<li>History -----> History of previous purchase volume (low/medium/high/NA NA means that this customer has not yet purchased)</li>\n",
    "<li>Catalogs ----------->Number of catalogs sent</li>\n",
    "<li>AmountSpent ------> Amount Spent in dollars</li>\n",
    "</ul>"
   ]
  },
  {
   "cell_type": "code",
   "execution_count": 25,
   "id": "d525af93",
   "metadata": {},
   "outputs": [
    {
     "name": "stdout",
     "output_type": "stream",
     "text": [
      "Dataset URL: https://www.kaggle.com/datasets/yoghurtpatil/direct-marketing\n"
     ]
    }
   ],
   "source": [
    "dataset = \"yoghurtpatil/direct-marketing\"\n",
    "output_dir = 'C://Users//40101410//OneDrive - Anheuser-Busch InBev//Upskill2024//Data'\n",
    "os.makedirs(output_dir, exist_ok=True)\n",
    "api.dataset_download_files(dataset, path=output_dir, unzip=True)"
   ]
  },
  {
   "cell_type": "code",
   "execution_count": 27,
   "id": "cd4a0ea2",
   "metadata": {},
   "outputs": [
    {
     "data": {
      "text/plain": [
       "'C://Users//40101410//OneDrive - Anheuser-Busch InBev//Upskill2024//Data\\\\DirectMarketing.csv'"
      ]
     },
     "execution_count": 27,
     "metadata": {},
     "output_type": "execute_result"
    }
   ],
   "source": [
    "csv_path = os.path.join(output_dir, 'DirectMarketing' + '.' + 'csv')\n",
    "csv_path "
   ]
  },
  {
   "cell_type": "code",
   "execution_count": 28,
   "id": "17e67b7f",
   "metadata": {},
   "outputs": [],
   "source": [
    "def read_data_from_csv(csv_path):\n",
    "    \"\"\"Reads data from a csv file.\n",
    "    \n",
    "        Arg:\n",
    "         csv_path: The path to the csv file.\n",
    "        \n",
    "        Returns:\n",
    "         A pandas DataFrame, or None or error     \n",
    "    \"\"\"\n",
    "    try:\n",
    "        df = pd.read_csv(csv_path)\n",
    "        return df\n",
    "    except FileNotFoundError:\n",
    "        print(f\"Error: File not found at {csv_path}\")\n",
    "        return None\n",
    "    except pd.errors.ParserError:\n",
    "        print(f\"Error parsing CSV. check the file format\")\n",
    "        return None\n",
    "    except Exception as e:\n",
    "        print(f\"An unexpected error occured {e}\")\n",
    "        return None\n",
    "    \n",
    "\n",
    "df = read_data_from_csv(csv_path) \n",
    "    \n",
    "    "
   ]
  },
  {
   "cell_type": "markdown",
   "id": "3523bcb6",
   "metadata": {},
   "source": [
    "## 3. EDA"
   ]
  },
  {
   "cell_type": "code",
   "execution_count": 29,
   "id": "c42d6003",
   "metadata": {},
   "outputs": [
    {
     "data": {
      "text/plain": [
       "(1000, 10)"
      ]
     },
     "execution_count": 29,
     "metadata": {},
     "output_type": "execute_result"
    }
   ],
   "source": [
    "# check the number of rows and columns in data\n",
    "nrow , ncol = df.shape\n",
    "nrow , ncol"
   ]
  },
  {
   "cell_type": "code",
   "execution_count": 31,
   "id": "0bd6ac5e",
   "metadata": {},
   "outputs": [
    {
     "data": {
      "text/html": [
       "<div>\n",
       "<style scoped>\n",
       "    .dataframe tbody tr th:only-of-type {\n",
       "        vertical-align: middle;\n",
       "    }\n",
       "\n",
       "    .dataframe tbody tr th {\n",
       "        vertical-align: top;\n",
       "    }\n",
       "\n",
       "    .dataframe thead th {\n",
       "        text-align: right;\n",
       "    }\n",
       "</style>\n",
       "<table border=\"1\" class=\"dataframe\">\n",
       "  <thead>\n",
       "    <tr style=\"text-align: right;\">\n",
       "      <th></th>\n",
       "      <th>missing</th>\n",
       "      <th>total</th>\n",
       "      <th>percent</th>\n",
       "    </tr>\n",
       "  </thead>\n",
       "  <tbody>\n",
       "    <tr>\n",
       "      <th>History</th>\n",
       "      <td>303</td>\n",
       "      <td>1000</td>\n",
       "      <td>30.3</td>\n",
       "    </tr>\n",
       "    <tr>\n",
       "      <th>Age</th>\n",
       "      <td>0</td>\n",
       "      <td>1000</td>\n",
       "      <td>0.0</td>\n",
       "    </tr>\n",
       "    <tr>\n",
       "      <th>Gender</th>\n",
       "      <td>0</td>\n",
       "      <td>1000</td>\n",
       "      <td>0.0</td>\n",
       "    </tr>\n",
       "    <tr>\n",
       "      <th>OwnHome</th>\n",
       "      <td>0</td>\n",
       "      <td>1000</td>\n",
       "      <td>0.0</td>\n",
       "    </tr>\n",
       "    <tr>\n",
       "      <th>Married</th>\n",
       "      <td>0</td>\n",
       "      <td>1000</td>\n",
       "      <td>0.0</td>\n",
       "    </tr>\n",
       "    <tr>\n",
       "      <th>Location</th>\n",
       "      <td>0</td>\n",
       "      <td>1000</td>\n",
       "      <td>0.0</td>\n",
       "    </tr>\n",
       "    <tr>\n",
       "      <th>Salary</th>\n",
       "      <td>0</td>\n",
       "      <td>1000</td>\n",
       "      <td>0.0</td>\n",
       "    </tr>\n",
       "    <tr>\n",
       "      <th>Children</th>\n",
       "      <td>0</td>\n",
       "      <td>1000</td>\n",
       "      <td>0.0</td>\n",
       "    </tr>\n",
       "    <tr>\n",
       "      <th>Catalogs</th>\n",
       "      <td>0</td>\n",
       "      <td>1000</td>\n",
       "      <td>0.0</td>\n",
       "    </tr>\n",
       "    <tr>\n",
       "      <th>AmountSpent</th>\n",
       "      <td>0</td>\n",
       "      <td>1000</td>\n",
       "      <td>0.0</td>\n",
       "    </tr>\n",
       "  </tbody>\n",
       "</table>\n",
       "</div>"
      ],
      "text/plain": [
       "             missing  total  percent\n",
       "History          303   1000     30.3\n",
       "Age                0   1000      0.0\n",
       "Gender             0   1000      0.0\n",
       "OwnHome            0   1000      0.0\n",
       "Married            0   1000      0.0\n",
       "Location           0   1000      0.0\n",
       "Salary             0   1000      0.0\n",
       "Children           0   1000      0.0\n",
       "Catalogs           0   1000      0.0\n",
       "AmountSpent        0   1000      0.0"
      ]
     },
     "execution_count": 31,
     "metadata": {},
     "output_type": "execute_result"
    }
   ],
   "source": [
    "# find missing values in each column\n",
    "df.stb.missing()"
   ]
  },
  {
   "cell_type": "markdown",
   "id": "b3bc402a",
   "metadata": {},
   "source": [
    "Missing values in history column only"
   ]
  },
  {
   "cell_type": "code",
   "execution_count": 32,
   "id": "5b2ed2b3",
   "metadata": {
    "scrolled": true
   },
   "outputs": [
    {
     "name": "stdout",
     "output_type": "stream",
     "text": [
      "<class 'pandas.core.frame.DataFrame'>\n",
      "RangeIndex: 1000 entries, 0 to 999\n",
      "Data columns (total 10 columns):\n",
      " #   Column       Non-Null Count  Dtype \n",
      "---  ------       --------------  ----- \n",
      " 0   Age          1000 non-null   object\n",
      " 1   Gender       1000 non-null   object\n",
      " 2   OwnHome      1000 non-null   object\n",
      " 3   Married      1000 non-null   object\n",
      " 4   Location     1000 non-null   object\n",
      " 5   Salary       1000 non-null   int64 \n",
      " 6   Children     1000 non-null   int64 \n",
      " 7   History      697 non-null    object\n",
      " 8   Catalogs     1000 non-null   int64 \n",
      " 9   AmountSpent  1000 non-null   int64 \n",
      "dtypes: int64(4), object(6)\n",
      "memory usage: 78.2+ KB\n"
     ]
    }
   ],
   "source": [
    "# name of the columns with there characteristics\n",
    "df.info()"
   ]
  },
  {
   "cell_type": "code",
   "execution_count": 33,
   "id": "1babd41d",
   "metadata": {},
   "outputs": [
    {
     "data": {
      "text/html": [
       "<div>\n",
       "<style scoped>\n",
       "    .dataframe tbody tr th:only-of-type {\n",
       "        vertical-align: middle;\n",
       "    }\n",
       "\n",
       "    .dataframe tbody tr th {\n",
       "        vertical-align: top;\n",
       "    }\n",
       "\n",
       "    .dataframe thead th {\n",
       "        text-align: right;\n",
       "    }\n",
       "</style>\n",
       "<table border=\"1\" class=\"dataframe\">\n",
       "  <thead>\n",
       "    <tr style=\"text-align: right;\">\n",
       "      <th></th>\n",
       "      <th>Age</th>\n",
       "      <th>Gender</th>\n",
       "      <th>OwnHome</th>\n",
       "      <th>Married</th>\n",
       "      <th>Location</th>\n",
       "      <th>Salary</th>\n",
       "      <th>Children</th>\n",
       "      <th>History</th>\n",
       "      <th>Catalogs</th>\n",
       "      <th>AmountSpent</th>\n",
       "    </tr>\n",
       "  </thead>\n",
       "  <tbody>\n",
       "  </tbody>\n",
       "</table>\n",
       "</div>"
      ],
      "text/plain": [
       "Empty DataFrame\n",
       "Columns: [Age, Gender, OwnHome, Married, Location, Salary, Children, History, Catalogs, AmountSpent]\n",
       "Index: []"
      ]
     },
     "execution_count": 33,
     "metadata": {},
     "output_type": "execute_result"
    }
   ],
   "source": [
    "# Duplicated data\n",
    "df[df.duplicated() == True]"
   ]
  },
  {
   "cell_type": "markdown",
   "id": "a241f0a3",
   "metadata": {},
   "source": [
    "### Categorical Variables"
   ]
  },
  {
   "cell_type": "code",
   "execution_count": 35,
   "id": "db4eb467",
   "metadata": {},
   "outputs": [
    {
     "data": {
      "text/plain": [
       "Index(['Age', 'Gender', 'OwnHome', 'Married', 'Location', 'History'], dtype='object')"
      ]
     },
     "execution_count": 35,
     "metadata": {},
     "output_type": "execute_result"
    }
   ],
   "source": [
    "categorical_variables  = df.select_dtypes(include=['object']).columns\n",
    "categorical_variables"
   ]
  },
  {
   "cell_type": "code",
   "execution_count": 36,
   "id": "69a59e88",
   "metadata": {},
   "outputs": [
    {
     "data": {
      "text/plain": [
       "{'Age': ['Old', 'Middle', 'Young'],\n",
       " 'Gender': ['Female', 'Male'],\n",
       " 'OwnHome': ['Own', 'Rent'],\n",
       " 'Married': ['Single', 'Married'],\n",
       " 'Location': ['Far', 'Close'],\n",
       " 'History': ['High', 'Low', 'Medium', nan]}"
      ]
     },
     "execution_count": 36,
     "metadata": {},
     "output_type": "execute_result"
    }
   ],
   "source": [
    "# Unique Value\n",
    "{column: list(df[column].unique()) for column in df.select_dtypes('object').columns}"
   ]
  },
  {
   "cell_type": "code",
   "execution_count": 37,
   "id": "fb82f89d",
   "metadata": {
    "scrolled": true
   },
   "outputs": [
    {
     "name": "stdout",
     "output_type": "stream",
     "text": [
      "\u001b[1mAge\u001b[0m\n",
      "Middle    50.8\n",
      "Young     28.7\n",
      "Old       20.5\n",
      "Name: Age, dtype: float64 \n",
      "\n"
     ]
    },
    {
     "data": {
      "image/png": "[encoded data removed]",
      "text/plain": [
       "<Figure size 432x288 with 1 Axes>"
      ]
     },
     "metadata": {
      "needs_background": "light"
     },
     "output_type": "display_data"
    },
    {
     "name": "stdout",
     "output_type": "stream",
     "text": [
      "\u001b[1mGender\u001b[0m\n",
      "Female    50.6\n",
      "Male      49.4\n",
      "Name: Gender, dtype: float64 \n",
      "\n"
     ]
    },
    {
     "data": {
      "image/png": "[encoded data removed]",
      "text/plain": [
       "<Figure size 432x288 with 1 Axes>"
      ]
     },
     "metadata": {
      "needs_background": "light"
     },
     "output_type": "display_data"
    },
    {
     "name": "stdout",
     "output_type": "stream",
     "text": [
      "\u001b[1mOwnHome\u001b[0m\n",
      "Own     51.6\n",
      "Rent    48.4\n",
      "Name: OwnHome, dtype: float64 \n",
      "\n"
     ]
    },
    {
     "data": {
      "image/png": "[encoded data removed]",
      "text/plain": [
       "<Figure size 432x288 with 1 Axes>"
      ]
     },
     "metadata": {
      "needs_background": "light"
     },
     "output_type": "display_data"
    },
    {
     "name": "stdout",
     "output_type": "stream",
     "text": [
      "\u001b[1mMarried\u001b[0m\n",
      "Married    50.2\n",
      "Single     49.8\n",
      "Name: Married, dtype: float64 \n",
      "\n"
     ]
    },
    {
     "data": {
      "image/png": "[encoded data removed]",
      "text/plain": [
       "<Figure size 432x288 with 1 Axes>"
      ]
     },
     "metadata": {
      "needs_background": "light"
     },
     "output_type": "display_data"
    },
    {
     "name": "stdout",
     "output_type": "stream",
     "text": [
      "\u001b[1mLocation\u001b[0m\n",
      "Close    71.0\n",
      "Far      29.0\n",
      "Name: Location, dtype: float64 \n",
      "\n"
     ]
    },
    {
     "data": {
      "image/png": "[encoded data removed]",
      "text/plain": [
       "<Figure size 432x288 with 1 Axes>"
      ]
     },
     "metadata": {
      "needs_background": "light"
     },
     "output_type": "display_data"
    },
    {
     "name": "stdout",
     "output_type": "stream",
     "text": [
      "\u001b[1mHistory\u001b[0m\n",
      "High      36.6\n",
      "Low       33.0\n",
      "Medium    30.4\n",
      "Name: History, dtype: float64 \n",
      "\n"
     ]
    },
    {
     "data": {
      "image/png": "[encoded data removed]",
      "text/plain": [
       "<Figure size 432x288 with 1 Axes>"
      ]
     },
     "metadata": {
      "needs_background": "light"
     },
     "output_type": "display_data"
    }
   ],
   "source": [
    "# print percentage of values of count of unique values for all categorical variables\n",
    "for var in categorical_variables:\n",
    "    print(f\"\\033[1m{var}\\033[0m\")\n",
    "    var_count_dist = round(df[var].value_counts(normalize = True) * 100,1)\n",
    "    print(var_count_dist, '\\n')\n",
    "    fig,ax = plt.subplots()\n",
    "    var_count_dist.plot()\n",
    "    var_count_dist.plot(ax = ax, kind = 'bar', ylabel = 'percentage', ylim = ([0,100]))\n",
    "    plt.show()"
   ]
  },
  {
   "cell_type": "markdown",
   "id": "8972ef18",
   "metadata": {},
   "source": [
    "Summary \n",
    "\n",
    "1. Most of the people are in middle ages\n",
    "2. Equal representation across genders, home owners and marital status\n",
    "3. More people live close to the store"
   ]
  },
  {
   "cell_type": "markdown",
   "id": "8727a465",
   "metadata": {},
   "source": [
    "#### Numeric Variables"
   ]
  },
  {
   "cell_type": "code",
   "execution_count": 38,
   "id": "4b0e3bef",
   "metadata": {},
   "outputs": [
    {
     "data": {
      "text/plain": [
       "Index(['Salary', 'Children', 'Catalogs', 'AmountSpent'], dtype='object')"
      ]
     },
     "execution_count": 38,
     "metadata": {},
     "output_type": "execute_result"
    }
   ],
   "source": [
    "numeric_variables = df.select_dtypes(include=['int64']).columns\n",
    "numeric_variables"
   ]
  },
  {
   "cell_type": "code",
   "execution_count": 44,
   "id": "1f695c3c",
   "metadata": {},
   "outputs": [
    {
     "data": {
      "text/html": [
       "<div>\n",
       "<style scoped>\n",
       "    .dataframe tbody tr th:only-of-type {\n",
       "        vertical-align: middle;\n",
       "    }\n",
       "\n",
       "    .dataframe tbody tr th {\n",
       "        vertical-align: top;\n",
       "    }\n",
       "\n",
       "    .dataframe thead th {\n",
       "        text-align: right;\n",
       "    }\n",
       "</style>\n",
       "<table border=\"1\" class=\"dataframe\">\n",
       "  <thead>\n",
       "    <tr style=\"text-align: right;\">\n",
       "      <th></th>\n",
       "      <th>count</th>\n",
       "      <th>mean</th>\n",
       "      <th>std</th>\n",
       "      <th>min</th>\n",
       "      <th>25%</th>\n",
       "      <th>50%</th>\n",
       "      <th>75%</th>\n",
       "      <th>max</th>\n",
       "    </tr>\n",
       "  </thead>\n",
       "  <tbody>\n",
       "    <tr>\n",
       "      <th>Salary</th>\n",
       "      <td>1000.0</td>\n",
       "      <td>56103.9</td>\n",
       "      <td>30616.3</td>\n",
       "      <td>10100.0</td>\n",
       "      <td>29975.0</td>\n",
       "      <td>53700.0</td>\n",
       "      <td>77025.0</td>\n",
       "      <td>168800.0</td>\n",
       "    </tr>\n",
       "    <tr>\n",
       "      <th>Children</th>\n",
       "      <td>1000.0</td>\n",
       "      <td>0.9</td>\n",
       "      <td>1.1</td>\n",
       "      <td>0.0</td>\n",
       "      <td>0.0</td>\n",
       "      <td>1.0</td>\n",
       "      <td>2.0</td>\n",
       "      <td>3.0</td>\n",
       "    </tr>\n",
       "    <tr>\n",
       "      <th>Catalogs</th>\n",
       "      <td>1000.0</td>\n",
       "      <td>14.7</td>\n",
       "      <td>6.6</td>\n",
       "      <td>6.0</td>\n",
       "      <td>6.0</td>\n",
       "      <td>12.0</td>\n",
       "      <td>18.0</td>\n",
       "      <td>24.0</td>\n",
       "    </tr>\n",
       "    <tr>\n",
       "      <th>AmountSpent</th>\n",
       "      <td>1000.0</td>\n",
       "      <td>1216.8</td>\n",
       "      <td>961.1</td>\n",
       "      <td>38.0</td>\n",
       "      <td>488.2</td>\n",
       "      <td>962.0</td>\n",
       "      <td>1688.5</td>\n",
       "      <td>6217.0</td>\n",
       "    </tr>\n",
       "  </tbody>\n",
       "</table>\n",
       "</div>"
      ],
      "text/plain": [
       "              count     mean      std      min      25%      50%      75%  \\\n",
       "Salary       1000.0  56103.9  30616.3  10100.0  29975.0  53700.0  77025.0   \n",
       "Children     1000.0      0.9      1.1      0.0      0.0      1.0      2.0   \n",
       "Catalogs     1000.0     14.7      6.6      6.0      6.0     12.0     18.0   \n",
       "AmountSpent  1000.0   1216.8    961.1     38.0    488.2    962.0   1688.5   \n",
       "\n",
       "                  max  \n",
       "Salary       168800.0  \n",
       "Children          3.0  \n",
       "Catalogs         24.0  \n",
       "AmountSpent    6217.0  "
      ]
     },
     "execution_count": 44,
     "metadata": {},
     "output_type": "execute_result"
    }
   ],
   "source": [
    "# Data summary\n",
    "round(df.describe(),1).T"
   ]
  },
  {
   "cell_type": "code",
   "execution_count": 40,
   "id": "ad493561",
   "metadata": {},
   "outputs": [
    {
     "name": "stdout",
     "output_type": "stream",
     "text": [
      "\\033[1m Correlation Matrix\\033[0m\n"
     ]
    },
    {
     "data": {
      "text/html": [
       "<div>\n",
       "<style scoped>\n",
       "    .dataframe tbody tr th:only-of-type {\n",
       "        vertical-align: middle;\n",
       "    }\n",
       "\n",
       "    .dataframe tbody tr th {\n",
       "        vertical-align: top;\n",
       "    }\n",
       "\n",
       "    .dataframe thead th {\n",
       "        text-align: right;\n",
       "    }\n",
       "</style>\n",
       "<table border=\"1\" class=\"dataframe\">\n",
       "  <thead>\n",
       "    <tr style=\"text-align: right;\">\n",
       "      <th></th>\n",
       "      <th>Salary</th>\n",
       "      <th>Children</th>\n",
       "      <th>Catalogs</th>\n",
       "      <th>AmountSpent</th>\n",
       "    </tr>\n",
       "  </thead>\n",
       "  <tbody>\n",
       "    <tr>\n",
       "      <th>Salary</th>\n",
       "      <td>1.00</td>\n",
       "      <td>0.05</td>\n",
       "      <td>0.18</td>\n",
       "      <td>0.70</td>\n",
       "    </tr>\n",
       "    <tr>\n",
       "      <th>Children</th>\n",
       "      <td>0.05</td>\n",
       "      <td>1.00</td>\n",
       "      <td>-0.11</td>\n",
       "      <td>-0.22</td>\n",
       "    </tr>\n",
       "    <tr>\n",
       "      <th>Catalogs</th>\n",
       "      <td>0.18</td>\n",
       "      <td>-0.11</td>\n",
       "      <td>1.00</td>\n",
       "      <td>0.47</td>\n",
       "    </tr>\n",
       "    <tr>\n",
       "      <th>AmountSpent</th>\n",
       "      <td>0.70</td>\n",
       "      <td>-0.22</td>\n",
       "      <td>0.47</td>\n",
       "      <td>1.00</td>\n",
       "    </tr>\n",
       "  </tbody>\n",
       "</table>\n",
       "</div>"
      ],
      "text/plain": [
       "             Salary  Children  Catalogs  AmountSpent\n",
       "Salary         1.00      0.05      0.18         0.70\n",
       "Children       0.05      1.00     -0.11        -0.22\n",
       "Catalogs       0.18     -0.11      1.00         0.47\n",
       "AmountSpent    0.70     -0.22      0.47         1.00"
      ]
     },
     "execution_count": 40,
     "metadata": {},
     "output_type": "execute_result"
    }
   ],
   "source": [
    "print(\"\\\\033[1m Correlation Matrix\\\\033[0m\")\n",
    "round(df.corr(),2)"
   ]
  },
  {
   "cell_type": "code",
   "execution_count": 45,
   "id": "2f93e1fd",
   "metadata": {},
   "outputs": [
    {
     "data": {
      "text/plain": [
       "<AxesSubplot:>"
      ]
     },
     "execution_count": 45,
     "metadata": {},
     "output_type": "execute_result"
    },
    {
     "data": {
      "image/png": "[encoded data removed]",
      "text/plain": [
       "<Figure size 432x288 with 2 Axes>"
      ]
     },
     "metadata": {
      "needs_background": "light"
     },
     "output_type": "display_data"
    }
   ],
   "source": [
    "sns.heatmap(df.corr(), cmap = \"crest\")"
   ]
  },
  {
   "cell_type": "code",
   "execution_count": 46,
   "id": "04e61d72",
   "metadata": {},
   "outputs": [
    {
     "data": {
      "text/plain": [
       "pandas.core.indexes.base.Index"
      ]
     },
     "execution_count": 46,
     "metadata": {},
     "output_type": "execute_result"
    }
   ],
   "source": [
    "type(numeric_variables)\n"
   ]
  },
  {
   "cell_type": "code",
   "execution_count": 47,
   "id": "a0b1cb3b",
   "metadata": {},
   "outputs": [],
   "source": [
    "cat_var = 'Age'"
   ]
  },
  {
   "cell_type": "code",
   "execution_count": 103,
   "id": "85284a73",
   "metadata": {
    "scrolled": true
   },
   "outputs": [],
   "source": [
    "# sns.boxplot(data = df, x = cat_var, y = numeric_variables)"
   ]
  },
  {
   "cell_type": "code",
   "execution_count": 48,
   "id": "3e2e49de",
   "metadata": {},
   "outputs": [],
   "source": [
    "#### Function to check average of all continuous variables across each of the categorical variables\n",
    "def relation_variable(cat_var, cts_var):\n",
    "    \"\"\"\n",
    "    See how continuous variables like amount spent, salary, etc. changes with age, gender, and other categorical variables\n",
    "    \n",
    "    Arg:\n",
    "    cts_var : Continuous Vaiable\n",
    "    cat_var: Categroical Variable\n",
    "    \"\"\"\n",
    "    \n",
    "    avg = df.groupby(by = cat_var)[cts_var].mean().round(1).reset_index()\n",
    "    avg = avg.rename(columns={c: 'avg_' + c for c in avg.columns if c != cat_var})\n",
    "    print(avg)"
   ]
  },
  {
   "cell_type": "code",
   "execution_count": 49,
   "id": "a0872113",
   "metadata": {},
   "outputs": [
    {
     "name": "stdout",
     "output_type": "stream",
     "text": [
      "\u001b[1mAge\u001b[0m\n",
      "      Age  avg_Salary  avg_Children  avg_Catalogs  avg_AmountSpent\n",
      "0  Middle     72036.4           1.2          15.4           1501.7\n",
      "1     Old     56365.9           0.1          15.2           1432.1\n",
      "2   Young     27715.7           1.1          13.0            558.6\n",
      "\u001b[1mGender\u001b[0m\n",
      "   Gender  avg_Salary  avg_Children  avg_Catalogs  avg_AmountSpent\n",
      "0  Female     48197.4           1.0          14.1           1025.3\n",
      "1    Male     64202.4           0.8          15.3           1412.9\n",
      "\u001b[1mOwnHome\u001b[0m\n",
      "  OwnHome  avg_Salary  avg_Children  avg_Catalogs  avg_AmountSpent\n",
      "0     Own     69758.7           0.9          15.3           1543.1\n",
      "1    Rent     41546.3           1.0          14.0            868.8\n",
      "\u001b[1mMarried\u001b[0m\n",
      "   Married  avg_Salary  avg_Children  avg_Catalogs  avg_AmountSpent\n",
      "0  Married     76696.4           0.9          15.6           1672.1\n",
      "1   Single     35346.0           0.9          13.8            757.8\n",
      "\u001b[1mLocation\u001b[0m\n",
      "  Location  avg_Salary  avg_Children  avg_Catalogs  avg_AmountSpent\n",
      "0    Close     56830.0           0.9          14.1           1061.7\n",
      "1      Far     54326.2           0.9          16.0           1596.5\n",
      "\u001b[1mHistory\u001b[0m\n",
      "  History  avg_Salary  avg_Children  avg_Catalogs  avg_AmountSpent\n",
      "0    High     83547.8           0.4          17.9           2186.1\n",
      "1     Low     32261.3           1.5          12.2            357.1\n",
      "2  Medium     55374.1           0.8          14.9            950.4\n"
     ]
    }
   ],
   "source": [
    "for cat_var in categorical_variables:\n",
    "    print(f\"\\033[1m{cat_var}\\033[0m\")\n",
    "    relation_variable(cat_var, numeric_variables)"
   ]
  },
  {
   "cell_type": "markdown",
   "id": "5970b035",
   "metadata": {},
   "source": [
    "Summary \n",
    "1. Middle income earns and spends more\n",
    "2. Male earn and spends more\n",
    "3. Consumers who own a house, earn and spend more\n",
    "4. Consumers who are close by earn more but people who come from far, spend more\n",
    "5. Consumers who have bought higher volume in past earn more than other groups"
   ]
  },
  {
   "cell_type": "code",
   "execution_count": null,
   "id": "db78026a",
   "metadata": {},
   "outputs": [],
   "source": [
    "# Cross Tab\n"
   ]
  }
 ],
 "metadata": {
  "kernelspec": {
   "display_name": "Python 3 (ipykernel)",
   "language": "python",
   "name": "python3"
  },
  "language_info": {
   "codemirror_mode": {
    "name": "ipython",
    "version": 3
   },
   "file_extension": ".py",
   "mimetype": "text/x-python",
   "name": "python",
   "nbconvert_exporter": "python",
   "pygments_lexer": "ipython3",
   "version": "3.9.7"
  }
 },
 "nbformat": 4,
 "nbformat_minor": 5
}
