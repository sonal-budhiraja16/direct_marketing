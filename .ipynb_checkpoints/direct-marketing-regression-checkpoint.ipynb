{
 "cells": [
  {
   "cell_type": "code",
   "execution_count": 11,
   "id": "0ef4eb9b",
   "metadata": {},
   "outputs": [],
   "source": [
    "import pandas as pd\n",
    "import matplotlib.pyplot as plt\n",
    "import seaborn as sns\n",
    "import numpy as np\n",
    "\n",
    "import statsmodels.api as sm"
   ]
  },
  {
   "cell_type": "code",
   "execution_count": 2,
   "id": "c5d30912",
   "metadata": {},
   "outputs": [
    {
     "data": {
      "text/html": [
       "<div>\n",
       "<style scoped>\n",
       "    .dataframe tbody tr th:only-of-type {\n",
       "        vertical-align: middle;\n",
       "    }\n",
       "\n",
       "    .dataframe tbody tr th {\n",
       "        vertical-align: top;\n",
       "    }\n",
       "\n",
       "    .dataframe thead th {\n",
       "        text-align: right;\n",
       "    }\n",
       "</style>\n",
       "<table border=\"1\" class=\"dataframe\">\n",
       "  <thead>\n",
       "    <tr style=\"text-align: right;\">\n",
       "      <th></th>\n",
       "      <th>onehot__Gender_Female</th>\n",
       "      <th>onehot__Gender_Male</th>\n",
       "      <th>onehot__OwnHome_Own</th>\n",
       "      <th>onehot__OwnHome_Rent</th>\n",
       "      <th>onehot__Married_Married</th>\n",
       "      <th>onehot__Married_Single</th>\n",
       "      <th>onehot__Location_Close</th>\n",
       "      <th>onehot__Location_Far</th>\n",
       "      <th>ordinal_age__Age</th>\n",
       "      <th>ordinal_history__History</th>\n",
       "      <th>ordinal__Children</th>\n",
       "      <th>ordinal__Catalogs</th>\n",
       "      <th>num__Salary</th>\n",
       "      <th>num__AmountSpent</th>\n",
       "    </tr>\n",
       "  </thead>\n",
       "  <tbody>\n",
       "    <tr>\n",
       "      <th>0</th>\n",
       "      <td>1.0</td>\n",
       "      <td>0.0</td>\n",
       "      <td>1.0</td>\n",
       "      <td>0.0</td>\n",
       "      <td>0.0</td>\n",
       "      <td>1.0</td>\n",
       "      <td>0.0</td>\n",
       "      <td>1.0</td>\n",
       "      <td>2.0</td>\n",
       "      <td>3.0</td>\n",
       "      <td>0.0</td>\n",
       "      <td>0.0</td>\n",
       "      <td>-0.281164</td>\n",
       "      <td>-0.480716</td>\n",
       "    </tr>\n",
       "    <tr>\n",
       "      <th>1</th>\n",
       "      <td>0.0</td>\n",
       "      <td>1.0</td>\n",
       "      <td>0.0</td>\n",
       "      <td>1.0</td>\n",
       "      <td>0.0</td>\n",
       "      <td>1.0</td>\n",
       "      <td>1.0</td>\n",
       "      <td>0.0</td>\n",
       "      <td>1.0</td>\n",
       "      <td>3.0</td>\n",
       "      <td>0.0</td>\n",
       "      <td>0.0</td>\n",
       "      <td>0.244963</td>\n",
       "      <td>0.105383</td>\n",
       "    </tr>\n",
       "    <tr>\n",
       "      <th>2</th>\n",
       "      <td>1.0</td>\n",
       "      <td>0.0</td>\n",
       "      <td>0.0</td>\n",
       "      <td>1.0</td>\n",
       "      <td>0.0</td>\n",
       "      <td>1.0</td>\n",
       "      <td>1.0</td>\n",
       "      <td>0.0</td>\n",
       "      <td>0.0</td>\n",
       "      <td>1.0</td>\n",
       "      <td>0.0</td>\n",
       "      <td>2.0</td>\n",
       "      <td>-1.392239</td>\n",
       "      <td>-0.958548</td>\n",
       "    </tr>\n",
       "    <tr>\n",
       "      <th>3</th>\n",
       "      <td>0.0</td>\n",
       "      <td>1.0</td>\n",
       "      <td>1.0</td>\n",
       "      <td>0.0</td>\n",
       "      <td>1.0</td>\n",
       "      <td>0.0</td>\n",
       "      <td>1.0</td>\n",
       "      <td>0.0</td>\n",
       "      <td>1.0</td>\n",
       "      <td>3.0</td>\n",
       "      <td>1.0</td>\n",
       "      <td>2.0</td>\n",
       "      <td>0.963893</td>\n",
       "      <td>1.269254</td>\n",
       "    </tr>\n",
       "    <tr>\n",
       "      <th>4</th>\n",
       "      <td>1.0</td>\n",
       "      <td>0.0</td>\n",
       "      <td>1.0</td>\n",
       "      <td>0.0</td>\n",
       "      <td>0.0</td>\n",
       "      <td>1.0</td>\n",
       "      <td>1.0</td>\n",
       "      <td>0.0</td>\n",
       "      <td>1.0</td>\n",
       "      <td>3.0</td>\n",
       "      <td>0.0</td>\n",
       "      <td>1.0</td>\n",
       "      <td>0.401820</td>\n",
       "      <td>0.090809</td>\n",
       "    </tr>\n",
       "  </tbody>\n",
       "</table>\n",
       "</div>"
      ],
      "text/plain": [
       "   onehot__Gender_Female  onehot__Gender_Male  onehot__OwnHome_Own  \\\n",
       "0                    1.0                  0.0                  1.0   \n",
       "1                    0.0                  1.0                  0.0   \n",
       "2                    1.0                  0.0                  0.0   \n",
       "3                    0.0                  1.0                  1.0   \n",
       "4                    1.0                  0.0                  1.0   \n",
       "\n",
       "   onehot__OwnHome_Rent  onehot__Married_Married  onehot__Married_Single  \\\n",
       "0                   0.0                      0.0                     1.0   \n",
       "1                   1.0                      0.0                     1.0   \n",
       "2                   1.0                      0.0                     1.0   \n",
       "3                   0.0                      1.0                     0.0   \n",
       "4                   0.0                      0.0                     1.0   \n",
       "\n",
       "   onehot__Location_Close  onehot__Location_Far  ordinal_age__Age  \\\n",
       "0                     0.0                   1.0               2.0   \n",
       "1                     1.0                   0.0               1.0   \n",
       "2                     1.0                   0.0               0.0   \n",
       "3                     1.0                   0.0               1.0   \n",
       "4                     1.0                   0.0               1.0   \n",
       "\n",
       "   ordinal_history__History  ordinal__Children  ordinal__Catalogs  \\\n",
       "0                       3.0                0.0                0.0   \n",
       "1                       3.0                0.0                0.0   \n",
       "2                       1.0                0.0                2.0   \n",
       "3                       3.0                1.0                2.0   \n",
       "4                       3.0                0.0                1.0   \n",
       "\n",
       "   num__Salary  num__AmountSpent  \n",
       "0    -0.281164         -0.480716  \n",
       "1     0.244963          0.105383  \n",
       "2    -1.392239         -0.958548  \n",
       "3     0.963893          1.269254  \n",
       "4     0.401820          0.090809  "
      ]
     },
     "execution_count": 2,
     "metadata": {},
     "output_type": "execute_result"
    }
   ],
   "source": [
    "# Reading data fpr modeling\n",
    "df = pd.read_parquet('processed_data.parquet', engine='pyarrow')\n",
    "df.head()"
   ]
  },
  {
   "cell_type": "code",
   "execution_count": 3,
   "id": "bb262a54",
   "metadata": {
    "scrolled": false
   },
   "outputs": [
    {
     "data": {
      "image/png": "[encoded data removed]",
      "text/plain": [
       "<Figure size 432x288 with 1 Axes>"
      ]
     },
     "metadata": {
      "needs_background": "light"
     },
     "output_type": "display_data"
    }
   ],
   "source": [
    "# Create density plots\n",
    "sns.kdeplot(df['num__AmountSpent'], label = \"Density-AmountSpent\", color = \"blue\", fill=True, alpha=0.6)\n",
    "sns.kdeplot(df['num__Salary'], label = \"Density-Salary\", color=\"red\", fill=True, alpha=0.6)\n",
    "\n",
    "# Add title and legend\n",
    "plt.title(\"Density Plot\")\n",
    "plt.legend()\n",
    "plt.show()\n"
   ]
  },
  {
   "cell_type": "code",
   "execution_count": null,
   "id": "fe642a27",
   "metadata": {},
   "outputs": [],
   "source": [
    "# Create density plots\n",
    "sns.kdeplot(df['num__AmountSpent'], label = \"Density-AmountSpent\", color = \"blue\", fill=True, alpha=0.6)\n",
    "sns.kdeplot(df['num__Salary'], label = \"Density-Salary\", color=\"red\", fill=True, alpha=0.6)\n",
    "\n",
    "# Add title and legend\n",
    "plt.title(\"Density Plot\")\n",
    "plt.legend()\n",
    "plt.show()"
   ]
  },
  {
   "cell_type": "code",
   "execution_count": 4,
   "id": "1d7bb511",
   "metadata": {},
   "outputs": [
    {
     "data": {
      "image/png": "[encoded data removed]",
      "text/plain": [
       "<Figure size 432x288 with 1 Axes>"
      ]
     },
     "metadata": {
      "needs_background": "light"
     },
     "output_type": "display_data"
    }
   ],
   "source": [
    "# Scatter plot\n",
    "# Create scatter plot\n",
    "X = df['num__Salary']\n",
    "y = df['num__AmountSpent']\n",
    "\n",
    "plt.scatter(X,  y, color=\"blue\", label=\"Data Points\")\n",
    "\n",
    "# Add a line (e.g., regression line)\n",
    "m, b = np.polyfit(X, y, 1)  # Linear regression: slope (m) and intercept (b)\n",
    "plt.plot(X, m * X + b, color=\"red\", label=f\"Line: y = {m:.2f}x + {b:.2f}\")\n",
    "\n",
    "\n",
    "# Add labels and title\n",
    "plt.xlabel(\"Salary\")\n",
    "plt.ylabel(\"Amount Spent\")\n",
    "plt.title(\"Scatter Plot Example\")\n",
    "plt.legend()\n",
    "\n",
    "# Display the plot\n",
    "plt.show()"
   ]
  },
  {
   "cell_type": "code",
   "execution_count": 5,
   "id": "0cd54050",
   "metadata": {},
   "outputs": [
    {
     "data": {
      "text/html": [
       "<div>\n",
       "<style scoped>\n",
       "    .dataframe tbody tr th:only-of-type {\n",
       "        vertical-align: middle;\n",
       "    }\n",
       "\n",
       "    .dataframe tbody tr th {\n",
       "        vertical-align: top;\n",
       "    }\n",
       "\n",
       "    .dataframe thead th {\n",
       "        text-align: right;\n",
       "    }\n",
       "</style>\n",
       "<table border=\"1\" class=\"dataframe\">\n",
       "  <thead>\n",
       "    <tr style=\"text-align: right;\">\n",
       "      <th></th>\n",
       "      <th>onehot__Gender_Female</th>\n",
       "      <th>onehot__Gender_Male</th>\n",
       "      <th>onehot__OwnHome_Own</th>\n",
       "      <th>onehot__OwnHome_Rent</th>\n",
       "      <th>onehot__Married_Married</th>\n",
       "      <th>onehot__Married_Single</th>\n",
       "      <th>onehot__Location_Close</th>\n",
       "      <th>onehot__Location_Far</th>\n",
       "      <th>ordinal_age__Age</th>\n",
       "      <th>ordinal_history__History</th>\n",
       "      <th>ordinal__Children</th>\n",
       "      <th>ordinal__Catalogs</th>\n",
       "      <th>num__Salary</th>\n",
       "      <th>num__AmountSpent</th>\n",
       "    </tr>\n",
       "  </thead>\n",
       "  <tbody>\n",
       "    <tr>\n",
       "      <th>0</th>\n",
       "      <td>1.0</td>\n",
       "      <td>0.0</td>\n",
       "      <td>1.0</td>\n",
       "      <td>0.0</td>\n",
       "      <td>0.0</td>\n",
       "      <td>1.0</td>\n",
       "      <td>0.0</td>\n",
       "      <td>1.0</td>\n",
       "      <td>2.0</td>\n",
       "      <td>3.0</td>\n",
       "      <td>0.0</td>\n",
       "      <td>0.0</td>\n",
       "      <td>-0.281164</td>\n",
       "      <td>-0.480716</td>\n",
       "    </tr>\n",
       "    <tr>\n",
       "      <th>1</th>\n",
       "      <td>0.0</td>\n",
       "      <td>1.0</td>\n",
       "      <td>0.0</td>\n",
       "      <td>1.0</td>\n",
       "      <td>0.0</td>\n",
       "      <td>1.0</td>\n",
       "      <td>1.0</td>\n",
       "      <td>0.0</td>\n",
       "      <td>1.0</td>\n",
       "      <td>3.0</td>\n",
       "      <td>0.0</td>\n",
       "      <td>0.0</td>\n",
       "      <td>0.244963</td>\n",
       "      <td>0.105383</td>\n",
       "    </tr>\n",
       "    <tr>\n",
       "      <th>2</th>\n",
       "      <td>1.0</td>\n",
       "      <td>0.0</td>\n",
       "      <td>0.0</td>\n",
       "      <td>1.0</td>\n",
       "      <td>0.0</td>\n",
       "      <td>1.0</td>\n",
       "      <td>1.0</td>\n",
       "      <td>0.0</td>\n",
       "      <td>0.0</td>\n",
       "      <td>1.0</td>\n",
       "      <td>0.0</td>\n",
       "      <td>2.0</td>\n",
       "      <td>-1.392239</td>\n",
       "      <td>-0.958548</td>\n",
       "    </tr>\n",
       "    <tr>\n",
       "      <th>3</th>\n",
       "      <td>0.0</td>\n",
       "      <td>1.0</td>\n",
       "      <td>1.0</td>\n",
       "      <td>0.0</td>\n",
       "      <td>1.0</td>\n",
       "      <td>0.0</td>\n",
       "      <td>1.0</td>\n",
       "      <td>0.0</td>\n",
       "      <td>1.0</td>\n",
       "      <td>3.0</td>\n",
       "      <td>1.0</td>\n",
       "      <td>2.0</td>\n",
       "      <td>0.963893</td>\n",
       "      <td>1.269254</td>\n",
       "    </tr>\n",
       "    <tr>\n",
       "      <th>4</th>\n",
       "      <td>1.0</td>\n",
       "      <td>0.0</td>\n",
       "      <td>1.0</td>\n",
       "      <td>0.0</td>\n",
       "      <td>0.0</td>\n",
       "      <td>1.0</td>\n",
       "      <td>1.0</td>\n",
       "      <td>0.0</td>\n",
       "      <td>1.0</td>\n",
       "      <td>3.0</td>\n",
       "      <td>0.0</td>\n",
       "      <td>1.0</td>\n",
       "      <td>0.401820</td>\n",
       "      <td>0.090809</td>\n",
       "    </tr>\n",
       "  </tbody>\n",
       "</table>\n",
       "</div>"
      ],
      "text/plain": [
       "   onehot__Gender_Female  onehot__Gender_Male  onehot__OwnHome_Own  \\\n",
       "0                    1.0                  0.0                  1.0   \n",
       "1                    0.0                  1.0                  0.0   \n",
       "2                    1.0                  0.0                  0.0   \n",
       "3                    0.0                  1.0                  1.0   \n",
       "4                    1.0                  0.0                  1.0   \n",
       "\n",
       "   onehot__OwnHome_Rent  onehot__Married_Married  onehot__Married_Single  \\\n",
       "0                   0.0                      0.0                     1.0   \n",
       "1                   1.0                      0.0                     1.0   \n",
       "2                   1.0                      0.0                     1.0   \n",
       "3                   0.0                      1.0                     0.0   \n",
       "4                   0.0                      0.0                     1.0   \n",
       "\n",
       "   onehot__Location_Close  onehot__Location_Far  ordinal_age__Age  \\\n",
       "0                     0.0                   1.0               2.0   \n",
       "1                     1.0                   0.0               1.0   \n",
       "2                     1.0                   0.0               0.0   \n",
       "3                     1.0                   0.0               1.0   \n",
       "4                     1.0                   0.0               1.0   \n",
       "\n",
       "   ordinal_history__History  ordinal__Children  ordinal__Catalogs  \\\n",
       "0                       3.0                0.0                0.0   \n",
       "1                       3.0                0.0                0.0   \n",
       "2                       1.0                0.0                2.0   \n",
       "3                       3.0                1.0                2.0   \n",
       "4                       3.0                0.0                1.0   \n",
       "\n",
       "   num__Salary  num__AmountSpent  \n",
       "0    -0.281164         -0.480716  \n",
       "1     0.244963          0.105383  \n",
       "2    -1.392239         -0.958548  \n",
       "3     0.963893          1.269254  \n",
       "4     0.401820          0.090809  "
      ]
     },
     "execution_count": 5,
     "metadata": {},
     "output_type": "execute_result"
    }
   ],
   "source": [
    "df.head()"
   ]
  },
  {
   "cell_type": "markdown",
   "id": "3f97809b",
   "metadata": {},
   "source": [
    "### 1. Simple Regression with intercept\n",
    "Amount Spent ~ constant + Salary"
   ]
  },
  {
   "cell_type": "code",
   "execution_count": 15,
   "id": "9e95f296",
   "metadata": {
    "scrolled": false
   },
   "outputs": [
    {
     "name": "stdout",
     "output_type": "stream",
     "text": [
      "                            OLS Regression Results                            \n",
      "==============================================================================\n",
      "Dep. Variable:       num__AmountSpent   R-squared:                       0.500\n",
      "Model:                            OLS   Adj. R-squared:                  0.500\n",
      "Method:                 Least Squares   F-statistic:                     799.4\n",
      "Date:                Mon, 30 Dec 2024   Prob (F-statistic):          2.17e-122\n",
      "Time:                        18:02:13   Log-Likelihood:                -878.21\n",
      "No. Observations:                 800   AIC:                             1760.\n",
      "Df Residuals:                     798   BIC:                             1770.\n",
      "Df Model:                           1                                         \n",
      "Covariance Type:            nonrobust                                         \n",
      "===============================================================================\n",
      "                  coef    std err          t      P>|t|      [0.025      0.975]\n",
      "-------------------------------------------------------------------------------\n",
      "const           0.0175      0.026      0.683      0.495      -0.033       0.068\n",
      "num__Salary     0.7234      0.026     28.274      0.000       0.673       0.774\n",
      "==============================================================================\n",
      "Omnibus:                      166.756   Durbin-Watson:                   1.943\n",
      "Prob(Omnibus):                  0.000   Jarque-Bera (JB):              631.324\n",
      "Skew:                           0.940   Prob(JB):                    8.12e-138\n",
      "Kurtosis:                       6.925   Cond. No.                         1.01\n",
      "==============================================================================\n",
      "\n",
      "Notes:\n",
      "[1] Standard Errors assume that the covariance matrix of the errors is correctly specified.\n"
     ]
    },
    {
     "name": "stderr",
     "output_type": "stream",
     "text": [
      "C:\\ProgramData\\Anaconda3\\lib\\site-packages\\statsmodels\\tsa\\tsatools.py:142: FutureWarning: In a future version of pandas all arguments of concat except for the argument 'objs' will be keyword-only\n",
      "  x = pd.concat(x[::order], 1)\n"
     ]
    }
   ],
   "source": [
    "# Add a constant to the independent variable for the intercept\n",
    "X_with_intercept = sm.add_constant(X)\n",
    "X_with_intercept\n",
    "\n",
    "# Split data into training and testing sets\n",
    "X_train, X_test, y_train, y_test = train_test_split(X_with_intercept, y, test_size=0.2, random_state=42)\n",
    "\n",
    "\n",
    "# Create and fit the model\n",
    "model = sm.OLS(y_train, X_train).fit()\n",
    "\n",
    "# Print the summary\n",
    "print(model.summary())\n"
   ]
  },
  {
   "cell_type": "markdown",
   "id": "0548b3aa",
   "metadata": {},
   "source": [
    "### 2. Simple Regression without intercept\n",
    "Amount Spent ~ Salary (as intercept was insignificant)"
   ]
  },
  {
   "cell_type": "code",
   "execution_count": 26,
   "id": "4bc6e2a4",
   "metadata": {},
   "outputs": [
    {
     "name": "stdout",
     "output_type": "stream",
     "text": [
      "                                 OLS Regression Results                                \n",
      "=======================================================================================\n",
      "Dep. Variable:       num__AmountSpent   R-squared (uncentered):                   0.500\n",
      "Model:                            OLS   Adj. R-squared (uncentered):              0.500\n",
      "Method:                 Least Squares   F-statistic:                              800.6\n",
      "Date:                Mon, 30 Dec 2024   Prob (F-statistic):                   1.48e-122\n",
      "Time:                        18:15:08   Log-Likelihood:                         -878.44\n",
      "No. Observations:                 800   AIC:                                      1759.\n",
      "Df Residuals:                     799   BIC:                                      1764.\n",
      "Df Model:                           1                                                  \n",
      "Covariance Type:            nonrobust                                                  \n",
      "===============================================================================\n",
      "                  coef    std err          t      P>|t|      [0.025      0.975]\n",
      "-------------------------------------------------------------------------------\n",
      "num__Salary     0.7236      0.026     28.294      0.000       0.673       0.774\n",
      "==============================================================================\n",
      "Omnibus:                      166.603   Durbin-Watson:                   1.942\n",
      "Prob(Omnibus):                  0.000   Jarque-Bera (JB):              630.716\n",
      "Skew:                           0.939   Prob(JB):                    1.10e-137\n",
      "Kurtosis:                       6.923   Cond. No.                         1.00\n",
      "==============================================================================\n",
      "\n",
      "Notes:\n",
      "[1] R² is computed without centering (uncentered) since the model does not contain a constant.\n",
      "[2] Standard Errors assume that the covariance matrix of the errors is correctly specified.\n"
     ]
    }
   ],
   "source": [
    "# Split data into training and testing sets\n",
    "X_train, X_test, y_train, y_test = train_test_split(X, y, test_size=0.2, random_state=42)\n",
    "\n",
    "\n",
    "# Create and fit the model\n",
    "model = sm.OLS(y_train, X_train).fit()\n",
    "\n",
    "# Print the summary\n",
    "print(model.summary())"
   ]
  },
  {
   "cell_type": "code",
   "execution_count": 29,
   "id": "05159889",
   "metadata": {
    "scrolled": true
   },
   "outputs": [
    {
     "data": {
      "image/png": "[encoded data removed]",
      "text/plain": [
       "<Figure size 432x288 with 1 Axes>"
      ]
     },
     "metadata": {
      "needs_background": "light"
     },
     "output_type": "display_data"
    }
   ],
   "source": [
    "# Predict values\n",
    "y_pred = model.predict(X_test)\n",
    "\n",
    "# Plot the results\n",
    "plt.scatter(X_test, y_test, color=\"blue\", label=\"Data\")\n",
    "plt.plot(X_test, y_pred, color=\"red\", label=\"Regression Line\")\n",
    "plt.legend()\n",
    "plt.show()\n",
    "\n",
    "\n"
   ]
  },
  {
   "cell_type": "markdown",
   "id": "910d4a1e",
   "metadata": {},
   "source": [
    "### 3. Regression with Salary and Gender\n",
    "Amount Spent ~ Salary + Gender\n",
    "\n",
    "The R2 still remains poor; we will try other models"
   ]
  },
  {
   "cell_type": "code",
   "execution_count": 41,
   "id": "d55a114d",
   "metadata": {
    "scrolled": false
   },
   "outputs": [
    {
     "name": "stdout",
     "output_type": "stream",
     "text": [
      "                                 OLS Regression Results                                \n",
      "=======================================================================================\n",
      "Dep. Variable:       num__AmountSpent   R-squared (uncentered):                   0.501\n",
      "Model:                            OLS   Adj. R-squared (uncentered):              0.500\n",
      "Method:                 Least Squares   F-statistic:                              400.4\n",
      "Date:                Mon, 30 Dec 2024   Prob (F-statistic):                   3.83e-121\n",
      "Time:                        22:01:01   Log-Likelihood:                         -878.12\n",
      "No. Observations:                 800   AIC:                                      1760.\n",
      "Df Residuals:                     798   BIC:                                      1770.\n",
      "Df Model:                           2                                                  \n",
      "Covariance Type:            nonrobust                                                  \n",
      "=======================================================================================\n",
      "                          coef    std err          t      P>|t|      [0.025      0.975]\n",
      "---------------------------------------------------------------------------------------\n",
      "num__Salary             0.7195      0.026     27.576      0.000       0.668       0.771\n",
      "onehot__Gender_Male     0.0293      0.037      0.796      0.426      -0.043       0.102\n",
      "==============================================================================\n",
      "Omnibus:                      167.916   Durbin-Watson:                   1.944\n",
      "Prob(Omnibus):                  0.000   Jarque-Bera (JB):              638.248\n",
      "Skew:                           0.946   Prob(JB):                    2.55e-139\n",
      "Kurtosis:                       6.946   Cond. No.                         1.49\n",
      "==============================================================================\n",
      "\n",
      "Notes:\n",
      "[1] R² is computed without centering (uncentered) since the model does not contain a constant.\n",
      "[2] Standard Errors assume that the covariance matrix of the errors is correctly specified.\n"
     ]
    }
   ],
   "source": [
    "X = df[['num__Salary', 'onehot__Gender_Male']]\n",
    "# Split data into training and testing sets\n",
    "X_train, X_test, y_train, y_test = train_test_split(X, y, test_size=0.2, random_state=42)\n",
    "\n",
    "\n",
    "# Create and fit the model\n",
    "model = sm.OLS(y_train, X_train).fit()\n",
    "\n",
    "# Print the summary\n",
    "print(model.summary())"
   ]
  },
  {
   "cell_type": "code",
   "execution_count": 42,
   "id": "f5e54930",
   "metadata": {},
   "outputs": [
    {
     "data": {
      "text/plain": [
       "Index(['onehot__Gender_Female', 'onehot__Gender_Male', 'onehot__OwnHome_Own',\n",
       "       'onehot__OwnHome_Rent', 'onehot__Married_Married',\n",
       "       'onehot__Married_Single', 'onehot__Location_Close',\n",
       "       'onehot__Location_Far', 'ordinal_age__Age', 'ordinal_history__History',\n",
       "       'ordinal__Children', 'ordinal__Catalogs', 'num__Salary',\n",
       "       'num__AmountSpent'],\n",
       "      dtype='object')"
      ]
     },
     "execution_count": 42,
     "metadata": {},
     "output_type": "execute_result"
    }
   ],
   "source": [
    "df.columns"
   ]
  },
  {
   "cell_type": "markdown",
   "id": "fc2898da",
   "metadata": {},
   "source": [
    "### 4. Regression with Salary and Home Owner\n",
    "Amount Spent ~ Salary + Home Owner \n",
    "\n",
    "The R2 still remains poor and being a home owner is an insignificant variable"
   ]
  },
  {
   "cell_type": "code",
   "execution_count": 43,
   "id": "9c52adb7",
   "metadata": {
    "scrolled": true
   },
   "outputs": [
    {
     "name": "stdout",
     "output_type": "stream",
     "text": [
      "                                 OLS Regression Results                                \n",
      "=======================================================================================\n",
      "Dep. Variable:       num__AmountSpent   R-squared (uncentered):                   0.501\n",
      "Model:                            OLS   Adj. R-squared (uncentered):              0.500\n",
      "Method:                 Least Squares   F-statistic:                              401.3\n",
      "Date:                Mon, 30 Dec 2024   Prob (F-statistic):                   2.42e-121\n",
      "Time:                        22:01:07   Log-Likelihood:                         -877.66\n",
      "No. Observations:                 800   AIC:                                      1759.\n",
      "Df Residuals:                     798   BIC:                                      1769.\n",
      "Df Model:                           2                                                  \n",
      "Covariance Type:            nonrobust                                                  \n",
      "=======================================================================================\n",
      "                          coef    std err          t      P>|t|      [0.025      0.975]\n",
      "---------------------------------------------------------------------------------------\n",
      "num__Salary             0.7120      0.027     26.161      0.000       0.659       0.765\n",
      "onehot__OwnHome_Own     0.0477      0.038      1.245      0.213      -0.028       0.123\n",
      "==============================================================================\n",
      "Omnibus:                      167.343   Durbin-Watson:                   1.946\n",
      "Prob(Omnibus):                  0.000   Jarque-Bera (JB):              629.771\n",
      "Skew:                           0.945   Prob(JB):                    1.77e-137\n",
      "Kurtosis:                       6.914   Cond. No.                         1.65\n",
      "==============================================================================\n",
      "\n",
      "Notes:\n",
      "[1] R² is computed without centering (uncentered) since the model does not contain a constant.\n",
      "[2] Standard Errors assume that the covariance matrix of the errors is correctly specified.\n"
     ]
    }
   ],
   "source": [
    "X = df[['num__Salary', 'onehot__OwnHome_Own']]\n",
    "# Split data into training and testing sets\n",
    "X_train, X_test, y_train, y_test = train_test_split(X, y, test_size=0.2, random_state=42)\n",
    "\n",
    "\n",
    "# Create and fit the model\n",
    "model = sm.OLS(y_train, X_train).fit()\n",
    "\n",
    "# Print the summary\n",
    "print(model.summary())"
   ]
  },
  {
   "cell_type": "markdown",
   "id": "34024888",
   "metadata": {},
   "source": [
    "### 5. Regression with marital status and location\n",
    "Amount Spent ~ Salary + Married + Location\n",
    "\n",
    "The R2 still remains poor and being married is a insignificant variable"
   ]
  },
  {
   "cell_type": "code",
   "execution_count": 44,
   "id": "88f45db0",
   "metadata": {
    "scrolled": true
   },
   "outputs": [
    {
     "name": "stdout",
     "output_type": "stream",
     "text": [
      "                                 OLS Regression Results                                \n",
      "=======================================================================================\n",
      "Dep. Variable:       num__AmountSpent   R-squared (uncentered):                   0.539\n",
      "Model:                            OLS   Adj. R-squared (uncentered):              0.537\n",
      "Method:                 Least Squares   F-statistic:                              310.7\n",
      "Date:                Mon, 30 Dec 2024   Prob (F-statistic):                   1.52e-133\n",
      "Time:                        22:01:09   Log-Likelihood:                         -846.29\n",
      "No. Observations:                 800   AIC:                                      1699.\n",
      "Df Residuals:                     797   BIC:                                      1713.\n",
      "Df Model:                           3                                                  \n",
      "Covariance Type:            nonrobust                                                  \n",
      "===========================================================================================\n",
      "                              coef    std err          t      P>|t|      [0.025      0.975]\n",
      "-------------------------------------------------------------------------------------------\n",
      "num__Salary                 0.6251      0.030     20.575      0.000       0.565       0.685\n",
      "onehot__Married_Married     0.3103      0.054      5.776      0.000       0.205       0.416\n",
      "onehot__Location_Close     -0.3235      0.040     -8.159      0.000      -0.401      -0.246\n",
      "==============================================================================\n",
      "Omnibus:                      155.993   Durbin-Watson:                   1.913\n",
      "Prob(Omnibus):                  0.000   Jarque-Bera (JB):              579.993\n",
      "Skew:                           0.883   Prob(JB):                    1.14e-126\n",
      "Kurtosis:                       6.779   Cond. No.                         2.94\n",
      "==============================================================================\n",
      "\n",
      "Notes:\n",
      "[1] R² is computed without centering (uncentered) since the model does not contain a constant.\n",
      "[2] Standard Errors assume that the covariance matrix of the errors is correctly specified.\n"
     ]
    }
   ],
   "source": [
    "X = df[['num__Salary', 'onehot__Married_Married', 'onehot__Location_Close']]\n",
    "# Split data into training and testing sets\n",
    "X_train, X_test, y_train, y_test = train_test_split(X, y, test_size=0.2, random_state=42)\n",
    "\n",
    "\n",
    "# Create and fit the model\n",
    "model = sm.OLS(y_train, X_train).fit()\n",
    "\n",
    "# Print the summary\n",
    "print(model.summary())"
   ]
  },
  {
   "cell_type": "markdown",
   "id": "fb412b07",
   "metadata": {},
   "source": [
    "### 6. Regression with marital status, location and Children \n",
    "Amount Spent ~ Salary + Married+ Location + Children "
   ]
  },
  {
   "cell_type": "code",
   "execution_count": 47,
   "id": "173a05b1",
   "metadata": {},
   "outputs": [
    {
     "data": {
      "text/plain": [
       "Index(['onehot__Gender_Female', 'onehot__Gender_Male', 'onehot__OwnHome_Own',\n",
       "       'onehot__OwnHome_Rent', 'onehot__Married_Married',\n",
       "       'onehot__Married_Single', 'onehot__Location_Close',\n",
       "       'onehot__Location_Far', 'ordinal_age__Age', 'ordinal_history__History',\n",
       "       'ordinal__Children', 'ordinal__Catalogs', 'num__Salary',\n",
       "       'num__AmountSpent'],\n",
       "      dtype='object')"
      ]
     },
     "execution_count": 47,
     "metadata": {},
     "output_type": "execute_result"
    }
   ],
   "source": [
    "df.columns"
   ]
  },
  {
   "cell_type": "code",
   "execution_count": 58,
   "id": "f77b10b3",
   "metadata": {},
   "outputs": [
    {
     "data": {
      "text/plain": [
       "1    538\n",
       "0    462\n",
       "Name: have_children, dtype: int64"
      ]
     },
     "execution_count": 58,
     "metadata": {},
     "output_type": "execute_result"
    }
   ],
   "source": [
    "# Add a variable to check if consumers have children\n",
    "df['have_children'] = df['ordinal__Children'].apply(lambda x: 0 if x == 0 else 1)\n",
    "df['have_children'].value_counts()\n",
    "# ~45% consumers donot have children\n",
    "# 1 is consumers have children and 0 otherwise"
   ]
  },
  {
   "cell_type": "code",
   "execution_count": 54,
   "id": "3eb818cb",
   "metadata": {
    "scrolled": true
   },
   "outputs": [
    {
     "name": "stdout",
     "output_type": "stream",
     "text": [
      "                                 OLS Regression Results                                \n",
      "=======================================================================================\n",
      "Dep. Variable:       num__AmountSpent   R-squared (uncentered):                   0.603\n",
      "Model:                            OLS   Adj. R-squared (uncentered):              0.601\n",
      "Method:                 Least Squares   F-statistic:                              302.6\n",
      "Date:                Tue, 31 Dec 2024   Prob (F-statistic):                   3.70e-158\n",
      "Time:                        13:30:14   Log-Likelihood:                         -786.25\n",
      "No. Observations:                 800   AIC:                                      1581.\n",
      "Df Residuals:                     796   BIC:                                      1599.\n",
      "Df Model:                           4                                                  \n",
      "Covariance Type:            nonrobust                                                  \n",
      "===========================================================================================\n",
      "                              coef    std err          t      P>|t|      [0.025      0.975]\n",
      "-------------------------------------------------------------------------------------------\n",
      "num__Salary                 0.6932      0.029     24.042      0.000       0.637       0.750\n",
      "onehot__Married_Married     0.1389      0.052      2.665      0.008       0.037       0.241\n",
      "onehot__Location_Close     -0.4694      0.039    -12.039      0.000      -0.546      -0.393\n",
      "have_children               0.4927      0.043     11.354      0.000       0.408       0.578\n",
      "==============================================================================\n",
      "Omnibus:                      169.396   Durbin-Watson:                   1.986\n",
      "Prob(Omnibus):                  0.000   Jarque-Bera (JB):              615.813\n",
      "Skew:                           0.969   Prob(JB):                    1.90e-134\n",
      "Kurtosis:                       6.837   Cond. No.                         3.10\n",
      "==============================================================================\n",
      "\n",
      "Notes:\n",
      "[1] R² is computed without centering (uncentered) since the model does not contain a constant.\n",
      "[2] Standard Errors assume that the covariance matrix of the errors is correctly specified.\n"
     ]
    }
   ],
   "source": [
    "X = df[['num__Salary', 'onehot__Married_Married', 'onehot__Location_Close', 'have_children']]\n",
    "# Split data into training and testing sets\n",
    "X_train, X_test, y_train, y_test = train_test_split(X, y, test_size=0.2, random_state=42)\n",
    "\n",
    "\n",
    "# Create and fit the model\n",
    "model = sm.OLS(y_train, X_train).fit()\n",
    "\n",
    "# Print the summary\n",
    "print(model.summary())"
   ]
  },
  {
   "cell_type": "markdown",
   "id": "eab99299",
   "metadata": {},
   "source": [
    "### 6. Regression with marital status, location, age and Children\n",
    "\n",
    "Amount Spent ~ Salary + Married+ Location + Age + Children"
   ]
  },
  {
   "cell_type": "code",
   "execution_count": 60,
   "id": "5d000acb",
   "metadata": {},
   "outputs": [
    {
     "data": {
      "text/plain": [
       "1.0    508\n",
       "0.0    287\n",
       "2.0    205\n",
       "Name: ordinal_age__Age, dtype: int64"
      ]
     },
     "execution_count": 60,
     "metadata": {},
     "output_type": "execute_result"
    }
   ],
   "source": [
    "df['ordinal_age__Age'].value_counts()"
   ]
  },
  {
   "cell_type": "code",
   "execution_count": 63,
   "id": "2fdddc2c",
   "metadata": {},
   "outputs": [
    {
     "name": "stdout",
     "output_type": "stream",
     "text": [
      "                                 OLS Regression Results                                \n",
      "=======================================================================================\n",
      "Dep. Variable:       num__AmountSpent   R-squared (uncentered):                   0.565\n",
      "Model:                            OLS   Adj. R-squared (uncentered):              0.562\n",
      "Method:                 Least Squares   F-statistic:                              206.5\n",
      "Date:                Tue, 31 Dec 2024   Prob (F-statistic):                   5.28e-141\n",
      "Time:                        13:37:09   Log-Likelihood:                         -823.16\n",
      "No. Observations:                 800   AIC:                                      1656.\n",
      "Df Residuals:                     795   BIC:                                      1680.\n",
      "Df Model:                           5                                                  \n",
      "Covariance Type:            nonrobust                                                  \n",
      "============================================================================================\n",
      "                               coef    std err          t      P>|t|      [0.025      0.975]\n",
      "--------------------------------------------------------------------------------------------\n",
      "num__Salary                  0.5996      0.030     20.009      0.000       0.541       0.658\n",
      "onehot__Married_Married      0.2264      0.059      3.837      0.000       0.111       0.342\n",
      "onehot__Location_Close      -0.3417      0.043     -7.925      0.000      -0.426      -0.257\n",
      "have_children               -0.1596      0.043     -3.699      0.000      -0.244      -0.075\n",
      "ordinal_history__History     0.1123      0.019      5.977      0.000       0.075       0.149\n",
      "==============================================================================\n",
      "Omnibus:                      165.971   Durbin-Watson:                   1.950\n",
      "Prob(Omnibus):                  0.000   Jarque-Bera (JB):              557.396\n",
      "Skew:                           0.974   Prob(JB):                    9.18e-122\n",
      "Kurtosis:                       6.595   Cond. No.                         5.60\n",
      "==============================================================================\n",
      "\n",
      "Notes:\n",
      "[1] R² is computed without centering (uncentered) since the model does not contain a constant.\n",
      "[2] Standard Errors assume that the covariance matrix of the errors is correctly specified.\n"
     ]
    }
   ],
   "source": [
    "X = df[['num__Salary', 'onehot__Married_Married', 'onehot__Location_Close', 'have_children']]\n",
    "# Split data into training and testing sets\n",
    "X_train, X_test, y_train, y_test = train_test_split(X, y, test_size=0.2, random_state=42)\n",
    "\n",
    "\n",
    "# Create and fit the model\n",
    "model = sm.OLS(y_train, X_train).fit()\n",
    "\n",
    "# Print the summary\n",
    "print(model.summary())"
   ]
  }
 ],
 "metadata": {
  "kernelspec": {
   "display_name": "Python 3 (ipykernel)",
   "language": "python",
   "name": "python3"
  },
  "language_info": {
   "codemirror_mode": {
    "name": "ipython",
    "version": 3
   },
   "file_extension": ".py",
   "mimetype": "text/x-python",
   "name": "python",
   "nbconvert_exporter": "python",
   "pygments_lexer": "ipython3",
   "version": "3.9.7"
  }
 },
 "nbformat": 4,
 "nbformat_minor": 5
}
