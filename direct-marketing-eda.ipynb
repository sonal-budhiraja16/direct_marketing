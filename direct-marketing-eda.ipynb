{
 "cells": [
  {
   "cell_type": "code",
   "execution_count": 70,
   "id": "c48e59a5",
   "metadata": {
    "scrolled": true
   },
   "outputs": [],
   "source": [
    "#!pip install kagglehub\n",
    "#!pip install sidetable\n",
    "#!pip install kaggle"
   ]
  },
  {
   "cell_type": "markdown",
   "id": "24d84f08",
   "metadata": {},
   "source": [
    "## 1. Importing Libraries"
   ]
  },
  {
   "cell_type": "code",
   "execution_count": 71,
   "id": "60738aa3",
   "metadata": {
    "scrolled": true
   },
   "outputs": [],
   "source": [
    "import pandas as pd\n",
    "\n",
    "import seaborn as sns\n",
    "\n",
    "import os\n",
    "import matplotlib.pyplot as plt\n",
    "\n",
    "import numpy as np\n",
    "import sidetable"
   ]
  },
  {
   "cell_type": "code",
   "execution_count": 72,
   "id": "57cd50e5",
   "metadata": {},
   "outputs": [],
   "source": [
    "# Authenticating Kaggle for downloading the data\n",
    "import kaggle\n",
    "import kagglehub\n",
    "from kaggle.api.kaggle_api_extended import KaggleApi\n",
    "# Step 1: Authenticate with Kaggle\n",
    "api = KaggleApi()\n",
    "api.authenticate()"
   ]
  },
  {
   "cell_type": "code",
   "execution_count": 73,
   "id": "576e2364",
   "metadata": {},
   "outputs": [],
   "source": [
    "%matplotlib inline "
   ]
  },
  {
   "cell_type": "code",
   "execution_count": 74,
   "id": "61887749",
   "metadata": {},
   "outputs": [],
   "source": [
    "# This is to supress the warning messages (if any) generated in our code\n",
    "import warnings\n",
    "warnings.filterwarnings('ignore')"
   ]
  },
  {
   "cell_type": "markdown",
   "id": "90bb566f",
   "metadata": {},
   "source": [
    "## 2. Data\n",
    "Data Columns Means\n",
    "<ul>\n",
    "<li>Age--------------> Age of customer(Old/Middle/Young)</li>\n",
    "<li>Gender -------------->Gender (Male/ Female)</li>\n",
    "<li>OwnHome -------------->Whether customer owns home (Own/Rent)</li>\n",
    "<li>Married ------------> Married (Müşteri Evli plup olmadığı)(single/married)</li> \n",
    "<li>Location -------------> In terms of distance to the nearest brick and mortar store that sells similar products(Far/ Close)</li>\n",
    "<li>Salary --------->Yearly salary of customer in dollars</li>\n",
    "<li>Children ------->Number of children (0-3)</li>\n",
    "<li>History -----> History of previous purchase volume (low/medium/high/NA NA means that this customer has not yet purchased)</li>\n",
    "<li>Catalogs ----------->Number of catalogs sent</li>\n",
    "<li>AmountSpent ------> Amount Spent in dollars</li>\n",
    "</ul>"
   ]
  },
  {
   "cell_type": "code",
   "execution_count": 75,
   "id": "18f39651",
   "metadata": {},
   "outputs": [
    {
     "name": "stdout",
     "output_type": "stream",
     "text": [
      "Dataset URL: https://www.kaggle.com/datasets/yoghurtpatil/direct-marketing\n"
     ]
    }
   ],
   "source": [
    "dataset = \"yoghurtpatil/direct-marketing\"\n",
    "output_dir = 'C://Users//40101410//OneDrive - Anheuser-Busch InBev//Upskill2024//Data'\n",
    "os.makedirs(output_dir, exist_ok=True)\n",
    "api.dataset_download_files(dataset, path=output_dir, unzip=True)"
   ]
  },
  {
   "cell_type": "code",
   "execution_count": 76,
   "id": "cd4a0ea2",
   "metadata": {},
   "outputs": [
    {
     "data": {
      "text/plain": [
       "'C://Users//40101410//OneDrive - Anheuser-Busch InBev//Upskill2024//Data\\\\DirectMarketing.csv'"
      ]
     },
     "execution_count": 76,
     "metadata": {},
     "output_type": "execute_result"
    }
   ],
   "source": [
    "csv_path = os.path.join(output_dir, 'DirectMarketing' + '.' + 'csv')\n",
    "csv_path "
   ]
  },
  {
   "cell_type": "code",
   "execution_count": 77,
   "id": "17e67b7f",
   "metadata": {},
   "outputs": [],
   "source": [
    "def read_data_from_csv(csv_path):\n",
    "    \"\"\"Reads data from a csv file.\n",
    "    \n",
    "        Arg:\n",
    "         csv_path: The path to the csv file.\n",
    "        \n",
    "        Returns:\n",
    "         A pandas DataFrame, or None or error     \n",
    "    \"\"\"\n",
    "    try:\n",
    "        df = pd.read_csv(csv_path)\n",
    "        return df\n",
    "    except FileNotFoundError:\n",
    "        print(f\"Error: File not found at {csv_path}\")\n",
    "        return None\n",
    "    except pd.errors.ParserError:\n",
    "        print(f\"Error parsing CSV. check the file format\")\n",
    "        return None\n",
    "    except Exception as e:\n",
    "        print(f\"An unexpected error occured {e}\")\n",
    "        return None\n",
    "    \n",
    "\n",
    "df = read_data_from_csv(csv_path) \n",
    "    \n",
    "    "
   ]
  },
  {
   "cell_type": "markdown",
   "id": "3523bcb6",
   "metadata": {},
   "source": [
    "## 3. EDA"
   ]
  },
  {
   "cell_type": "code",
   "execution_count": 78,
   "id": "c42d6003",
   "metadata": {},
   "outputs": [
    {
     "data": {
      "text/plain": [
       "(1000, 10)"
      ]
     },
     "execution_count": 78,
     "metadata": {},
     "output_type": "execute_result"
    }
   ],
   "source": [
    "# check the number of rows and columns in data\n",
    "nrow , ncol = df.shape\n",
    "nrow , ncol"
   ]
  },
  {
   "cell_type": "code",
   "execution_count": 79,
   "id": "0bd6ac5e",
   "metadata": {},
   "outputs": [
    {
     "data": {
      "text/html": [
       "<div>\n",
       "<style scoped>\n",
       "    .dataframe tbody tr th:only-of-type {\n",
       "        vertical-align: middle;\n",
       "    }\n",
       "\n",
       "    .dataframe tbody tr th {\n",
       "        vertical-align: top;\n",
       "    }\n",
       "\n",
       "    .dataframe thead th {\n",
       "        text-align: right;\n",
       "    }\n",
       "</style>\n",
       "<table border=\"1\" class=\"dataframe\">\n",
       "  <thead>\n",
       "    <tr style=\"text-align: right;\">\n",
       "      <th></th>\n",
       "      <th>missing</th>\n",
       "      <th>total</th>\n",
       "      <th>percent</th>\n",
       "    </tr>\n",
       "  </thead>\n",
       "  <tbody>\n",
       "    <tr>\n",
       "      <th>History</th>\n",
       "      <td>303</td>\n",
       "      <td>1000</td>\n",
       "      <td>30.3</td>\n",
       "    </tr>\n",
       "    <tr>\n",
       "      <th>Age</th>\n",
       "      <td>0</td>\n",
       "      <td>1000</td>\n",
       "      <td>0.0</td>\n",
       "    </tr>\n",
       "    <tr>\n",
       "      <th>Gender</th>\n",
       "      <td>0</td>\n",
       "      <td>1000</td>\n",
       "      <td>0.0</td>\n",
       "    </tr>\n",
       "    <tr>\n",
       "      <th>OwnHome</th>\n",
       "      <td>0</td>\n",
       "      <td>1000</td>\n",
       "      <td>0.0</td>\n",
       "    </tr>\n",
       "    <tr>\n",
       "      <th>Married</th>\n",
       "      <td>0</td>\n",
       "      <td>1000</td>\n",
       "      <td>0.0</td>\n",
       "    </tr>\n",
       "    <tr>\n",
       "      <th>Location</th>\n",
       "      <td>0</td>\n",
       "      <td>1000</td>\n",
       "      <td>0.0</td>\n",
       "    </tr>\n",
       "    <tr>\n",
       "      <th>Salary</th>\n",
       "      <td>0</td>\n",
       "      <td>1000</td>\n",
       "      <td>0.0</td>\n",
       "    </tr>\n",
       "    <tr>\n",
       "      <th>Children</th>\n",
       "      <td>0</td>\n",
       "      <td>1000</td>\n",
       "      <td>0.0</td>\n",
       "    </tr>\n",
       "    <tr>\n",
       "      <th>Catalogs</th>\n",
       "      <td>0</td>\n",
       "      <td>1000</td>\n",
       "      <td>0.0</td>\n",
       "    </tr>\n",
       "    <tr>\n",
       "      <th>AmountSpent</th>\n",
       "      <td>0</td>\n",
       "      <td>1000</td>\n",
       "      <td>0.0</td>\n",
       "    </tr>\n",
       "  </tbody>\n",
       "</table>\n",
       "</div>"
      ],
      "text/plain": [
       "             missing  total  percent\n",
       "History          303   1000     30.3\n",
       "Age                0   1000      0.0\n",
       "Gender             0   1000      0.0\n",
       "OwnHome            0   1000      0.0\n",
       "Married            0   1000      0.0\n",
       "Location           0   1000      0.0\n",
       "Salary             0   1000      0.0\n",
       "Children           0   1000      0.0\n",
       "Catalogs           0   1000      0.0\n",
       "AmountSpent        0   1000      0.0"
      ]
     },
     "execution_count": 79,
     "metadata": {},
     "output_type": "execute_result"
    }
   ],
   "source": [
    "# find missing values in each column\n",
    "df.stb.missing()"
   ]
  },
  {
   "cell_type": "code",
   "execution_count": 80,
   "id": "5b2ed2b3",
   "metadata": {
    "scrolled": true
   },
   "outputs": [
    {
     "name": "stdout",
     "output_type": "stream",
     "text": [
      "<class 'pandas.core.frame.DataFrame'>\n",
      "RangeIndex: 1000 entries, 0 to 999\n",
      "Data columns (total 10 columns):\n",
      " #   Column       Non-Null Count  Dtype \n",
      "---  ------       --------------  ----- \n",
      " 0   Age          1000 non-null   object\n",
      " 1   Gender       1000 non-null   object\n",
      " 2   OwnHome      1000 non-null   object\n",
      " 3   Married      1000 non-null   object\n",
      " 4   Location     1000 non-null   object\n",
      " 5   Salary       1000 non-null   int64 \n",
      " 6   Children     1000 non-null   int64 \n",
      " 7   History      697 non-null    object\n",
      " 8   Catalogs     1000 non-null   int64 \n",
      " 9   AmountSpent  1000 non-null   int64 \n",
      "dtypes: int64(4), object(6)\n",
      "memory usage: 78.2+ KB\n"
     ]
    }
   ],
   "source": [
    "# name of the columns with there characteristics\n",
    "df.info()"
   ]
  },
  {
   "cell_type": "code",
   "execution_count": 81,
   "id": "1babd41d",
   "metadata": {},
   "outputs": [
    {
     "data": {
      "text/html": [
       "<div>\n",
       "<style scoped>\n",
       "    .dataframe tbody tr th:only-of-type {\n",
       "        vertical-align: middle;\n",
       "    }\n",
       "\n",
       "    .dataframe tbody tr th {\n",
       "        vertical-align: top;\n",
       "    }\n",
       "\n",
       "    .dataframe thead th {\n",
       "        text-align: right;\n",
       "    }\n",
       "</style>\n",
       "<table border=\"1\" class=\"dataframe\">\n",
       "  <thead>\n",
       "    <tr style=\"text-align: right;\">\n",
       "      <th></th>\n",
       "      <th>Age</th>\n",
       "      <th>Gender</th>\n",
       "      <th>OwnHome</th>\n",
       "      <th>Married</th>\n",
       "      <th>Location</th>\n",
       "      <th>Salary</th>\n",
       "      <th>Children</th>\n",
       "      <th>History</th>\n",
       "      <th>Catalogs</th>\n",
       "      <th>AmountSpent</th>\n",
       "    </tr>\n",
       "  </thead>\n",
       "  <tbody>\n",
       "  </tbody>\n",
       "</table>\n",
       "</div>"
      ],
      "text/plain": [
       "Empty DataFrame\n",
       "Columns: [Age, Gender, OwnHome, Married, Location, Salary, Children, History, Catalogs, AmountSpent]\n",
       "Index: []"
      ]
     },
     "execution_count": 81,
     "metadata": {},
     "output_type": "execute_result"
    }
   ],
   "source": [
    "# Duplicated data\n",
    "df[df.duplicated() == True]"
   ]
  },
  {
   "cell_type": "markdown",
   "id": "55a6c71e",
   "metadata": {},
   "source": [
    "Summary\n",
    "1. Data has only objects and integer values\n",
    "2. We donot have missing data. Only missing values are in History column, which are people who haven't bought in past\n",
    "3. Dataset comprises of 1000 observations and 10 columns\n",
    "4. No duplicates\n"
   ]
  },
  {
   "cell_type": "markdown",
   "id": "a241f0a3",
   "metadata": {},
   "source": [
    "### Categorical Variables"
   ]
  },
  {
   "cell_type": "code",
   "execution_count": 82,
   "id": "d1b25a59",
   "metadata": {
    "scrolled": true
   },
   "outputs": [
    {
     "data": {
      "text/plain": [
       "array([0, 1, 3, 2], dtype=int64)"
      ]
     },
     "execution_count": 82,
     "metadata": {},
     "output_type": "execute_result"
    }
   ],
   "source": [
    "df['Children'].unique()"
   ]
  },
  {
   "cell_type": "code",
   "execution_count": 83,
   "id": "2c421bee",
   "metadata": {},
   "outputs": [
    {
     "data": {
      "text/plain": [
       "array([ 6, 18, 12, 24], dtype=int64)"
      ]
     },
     "execution_count": 83,
     "metadata": {},
     "output_type": "execute_result"
    }
   ],
   "source": [
    "df['Catalogs'].unique()"
   ]
  },
  {
   "cell_type": "code",
   "execution_count": 84,
   "id": "0f22c2c5",
   "metadata": {},
   "outputs": [
    {
     "data": {
      "text/plain": [
       "array(['High', 'Low', 'Medium', nan], dtype=object)"
      ]
     },
     "execution_count": 84,
     "metadata": {},
     "output_type": "execute_result"
    }
   ],
   "source": [
    "df['History'].unique()"
   ]
  },
  {
   "cell_type": "code",
   "execution_count": 85,
   "id": "6f9e894b",
   "metadata": {},
   "outputs": [
    {
     "data": {
      "text/plain": [
       "array(['High', 'Low', 'Medium', 'None'], dtype=object)"
      ]
     },
     "execution_count": 85,
     "metadata": {},
     "output_type": "execute_result"
    }
   ],
   "source": [
    "df['History'] = df['History'].fillna(\"None\")\n",
    "df['History'].unique()"
   ]
  },
  {
   "cell_type": "code",
   "execution_count": 86,
   "id": "960e6fac",
   "metadata": {},
   "outputs": [
    {
     "data": {
      "text/plain": [
       "None      303\n",
       "High      255\n",
       "Low       230\n",
       "Medium    212\n",
       "Name: History, dtype: int64"
      ]
     },
     "execution_count": 86,
     "metadata": {},
     "output_type": "execute_result"
    }
   ],
   "source": [
    "df['History'].value_counts()"
   ]
  },
  {
   "cell_type": "code",
   "execution_count": 87,
   "id": "40b36ea3",
   "metadata": {},
   "outputs": [],
   "source": [
    "# Change number of Children\n",
    "df = df.astype({'Children': 'object', 'Catalogs': 'object'})\n"
   ]
  },
  {
   "cell_type": "code",
   "execution_count": 88,
   "id": "db4eb467",
   "metadata": {},
   "outputs": [
    {
     "data": {
      "text/plain": [
       "Index(['Age', 'Gender', 'OwnHome', 'Married', 'Location', 'Children',\n",
       "       'History', 'Catalogs'],\n",
       "      dtype='object')"
      ]
     },
     "execution_count": 88,
     "metadata": {},
     "output_type": "execute_result"
    }
   ],
   "source": [
    "categorical_variables  = df.select_dtypes(include=['object']).columns\n",
    "categorical_variables"
   ]
  },
  {
   "cell_type": "code",
   "execution_count": 89,
   "id": "69a59e88",
   "metadata": {},
   "outputs": [
    {
     "data": {
      "text/plain": [
       "{'Age': ['Old', 'Middle', 'Young'],\n",
       " 'Gender': ['Female', 'Male'],\n",
       " 'OwnHome': ['Own', 'Rent'],\n",
       " 'Married': ['Single', 'Married'],\n",
       " 'Location': ['Far', 'Close'],\n",
       " 'Children': [0, 1, 3, 2],\n",
       " 'History': ['High', 'Low', 'Medium', 'None'],\n",
       " 'Catalogs': [6, 18, 12, 24]}"
      ]
     },
     "execution_count": 89,
     "metadata": {},
     "output_type": "execute_result"
    }
   ],
   "source": [
    "# Unique Value\n",
    "{column: list(df[column].unique()) for column in df.select_dtypes('object').columns}"
   ]
  },
  {
   "cell_type": "code",
   "execution_count": 90,
   "id": "fb82f89d",
   "metadata": {
    "scrolled": true
   },
   "outputs": [
    {
     "name": "stdout",
     "output_type": "stream",
     "text": [
      "\u001b[1mAge\u001b[0m\n",
      "Middle    50.8\n",
      "Young     28.7\n",
      "Old       20.5\n",
      "Name: Age, dtype: float64 \n",
      "\n"
     ]
    },
    {
     "data": {
      "image/png": "[encoded data removed]",
      "text/plain": [
       "<Figure size 432x288 with 1 Axes>"
      ]
     },
     "metadata": {
      "needs_background": "light"
     },
     "output_type": "display_data"
    },
    {
     "name": "stdout",
     "output_type": "stream",
     "text": [
      "\u001b[1mGender\u001b[0m\n",
      "Female    50.6\n",
      "Male      49.4\n",
      "Name: Gender, dtype: float64 \n",
      "\n"
     ]
    },
    {
     "data": {
      "image/png": "[encoded data removed]",
      "text/plain": [
       "<Figure size 432x288 with 1 Axes>"
      ]
     },
     "metadata": {
      "needs_background": "light"
     },
     "output_type": "display_data"
    },
    {
     "name": "stdout",
     "output_type": "stream",
     "text": [
      "\u001b[1mOwnHome\u001b[0m\n",
      "Own     51.6\n",
      "Rent    48.4\n",
      "Name: OwnHome, dtype: float64 \n",
      "\n"
     ]
    },
    {
     "data": {
      "image/png": "[encoded data removed]",
      "text/plain": [
       "<Figure size 432x288 with 1 Axes>"
      ]
     },
     "metadata": {
      "needs_background": "light"
     },
     "output_type": "display_data"
    },
    {
     "name": "stdout",
     "output_type": "stream",
     "text": [
      "\u001b[1mMarried\u001b[0m\n",
      "Married    50.2\n",
      "Single     49.8\n",
      "Name: Married, dtype: float64 \n",
      "\n"
     ]
    },
    {
     "data": {
      "image/png": "[encoded data removed]",
      "text/plain": [
       "<Figure size 432x288 with 1 Axes>"
      ]
     },
     "metadata": {
      "needs_background": "light"
     },
     "output_type": "display_data"
    },
    {
     "name": "stdout",
     "output_type": "stream",
     "text": [
      "\u001b[1mLocation\u001b[0m\n",
      "Close    71.0\n",
      "Far      29.0\n",
      "Name: Location, dtype: float64 \n",
      "\n"
     ]
    },
    {
     "data": {
      "image/png": "[encoded data removed]",
      "text/plain": [
       "<Figure size 432x288 with 1 Axes>"
      ]
     },
     "metadata": {
      "needs_background": "light"
     },
     "output_type": "display_data"
    },
    {
     "name": "stdout",
     "output_type": "stream",
     "text": [
      "\u001b[1mChildren\u001b[0m\n",
      "0    46.2\n",
      "1    26.7\n",
      "2    14.6\n",
      "3    12.5\n",
      "Name: Children, dtype: float64 \n",
      "\n"
     ]
    },
    {
     "data": {
      "image/png": "[encoded data removed]",
      "text/plain": [
       "<Figure size 432x288 with 1 Axes>"
      ]
     },
     "metadata": {
      "needs_background": "light"
     },
     "output_type": "display_data"
    },
    {
     "name": "stdout",
     "output_type": "stream",
     "text": [
      "\u001b[1mHistory\u001b[0m\n",
      "None      30.3\n",
      "High      25.5\n",
      "Low       23.0\n",
      "Medium    21.2\n",
      "Name: History, dtype: float64 \n",
      "\n"
     ]
    },
    {
     "data": {
      "image/png": "[encoded data removed]",
      "text/plain": [
       "<Figure size 432x288 with 1 Axes>"
      ]
     },
     "metadata": {
      "needs_background": "light"
     },
     "output_type": "display_data"
    },
    {
     "name": "stdout",
     "output_type": "stream",
     "text": [
      "\u001b[1mCatalogs\u001b[0m\n",
      "12    28.2\n",
      "6     25.2\n",
      "18    23.3\n",
      "24    23.3\n",
      "Name: Catalogs, dtype: float64 \n",
      "\n"
     ]
    },
    {
     "data": {
      "image/png": "[encoded data removed]",
      "text/plain": [
       "<Figure size 432x288 with 1 Axes>"
      ]
     },
     "metadata": {
      "needs_background": "light"
     },
     "output_type": "display_data"
    }
   ],
   "source": [
    "# print percentage of values of count of unique values for all categorical variables\n",
    "for var in categorical_variables:\n",
    "    print(f\"\\033[1m{var}\\033[0m\")\n",
    "    var_count_dist = round(df[var].value_counts(normalize = True) * 100,1)\n",
    "    print(var_count_dist, '\\n')\n",
    "    fig,ax = plt.subplots()\n",
    "    var_count_dist.plot()\n",
    "    var_count_dist.plot(ax = ax, kind = 'bar', ylabel = 'percentage', ylim = ([0,100]))\n",
    "    plt.show()"
   ]
  },
  {
   "cell_type": "markdown",
   "id": "8972ef18",
   "metadata": {},
   "source": [
    "Summary \n",
    "\n",
    "1. Most of the people are in middle ages\n",
    "2. Equal representation across genders, home owners and marital status\n",
    "3. More people live close to the store\n",
    "4. Most people donot have kids\n",
    "5. Catalog distrubution is balanced\n",
    "6. 30% people have not purchased in the past"
   ]
  },
  {
   "cell_type": "markdown",
   "id": "8727a465",
   "metadata": {},
   "source": [
    "#### Numeric Variables"
   ]
  },
  {
   "cell_type": "code",
   "execution_count": 91,
   "id": "4b0e3bef",
   "metadata": {},
   "outputs": [
    {
     "data": {
      "text/plain": [
       "Index(['Salary', 'AmountSpent'], dtype='object')"
      ]
     },
     "execution_count": 91,
     "metadata": {},
     "output_type": "execute_result"
    }
   ],
   "source": [
    "numeric_variables = df.select_dtypes(include=['int64']).columns\n",
    "numeric_variables"
   ]
  },
  {
   "cell_type": "code",
   "execution_count": 92,
   "id": "1f695c3c",
   "metadata": {},
   "outputs": [
    {
     "data": {
      "text/html": [
       "<div>\n",
       "<style scoped>\n",
       "    .dataframe tbody tr th:only-of-type {\n",
       "        vertical-align: middle;\n",
       "    }\n",
       "\n",
       "    .dataframe tbody tr th {\n",
       "        vertical-align: top;\n",
       "    }\n",
       "\n",
       "    .dataframe thead th {\n",
       "        text-align: right;\n",
       "    }\n",
       "</style>\n",
       "<table border=\"1\" class=\"dataframe\">\n",
       "  <thead>\n",
       "    <tr style=\"text-align: right;\">\n",
       "      <th></th>\n",
       "      <th>count</th>\n",
       "      <th>mean</th>\n",
       "      <th>std</th>\n",
       "      <th>min</th>\n",
       "      <th>25%</th>\n",
       "      <th>50%</th>\n",
       "      <th>75%</th>\n",
       "      <th>max</th>\n",
       "    </tr>\n",
       "  </thead>\n",
       "  <tbody>\n",
       "    <tr>\n",
       "      <th>Salary</th>\n",
       "      <td>1000.0</td>\n",
       "      <td>56103.9</td>\n",
       "      <td>30616.3</td>\n",
       "      <td>10100.0</td>\n",
       "      <td>29975.0</td>\n",
       "      <td>53700.0</td>\n",
       "      <td>77025.0</td>\n",
       "      <td>168800.0</td>\n",
       "    </tr>\n",
       "    <tr>\n",
       "      <th>AmountSpent</th>\n",
       "      <td>1000.0</td>\n",
       "      <td>1216.8</td>\n",
       "      <td>961.1</td>\n",
       "      <td>38.0</td>\n",
       "      <td>488.2</td>\n",
       "      <td>962.0</td>\n",
       "      <td>1688.5</td>\n",
       "      <td>6217.0</td>\n",
       "    </tr>\n",
       "  </tbody>\n",
       "</table>\n",
       "</div>"
      ],
      "text/plain": [
       "              count     mean      std      min      25%      50%      75%  \\\n",
       "Salary       1000.0  56103.9  30616.3  10100.0  29975.0  53700.0  77025.0   \n",
       "AmountSpent  1000.0   1216.8    961.1     38.0    488.2    962.0   1688.5   \n",
       "\n",
       "                  max  \n",
       "Salary       168800.0  \n",
       "AmountSpent    6217.0  "
      ]
     },
     "execution_count": 92,
     "metadata": {},
     "output_type": "execute_result"
    }
   ],
   "source": [
    "# Data summary\n",
    "round(df.describe(),1).T"
   ]
  },
  {
   "cell_type": "code",
   "execution_count": 93,
   "id": "3b00a286",
   "metadata": {},
   "outputs": [
    {
     "name": "stdout",
     "output_type": "stream",
     "text": [
      "\u001b[1mSalary\u001b[0m\n"
     ]
    },
    {
     "data": {
      "image/png": "[encoded data removed]",
      "text/plain": [
       "<Figure size 432x288 with 1 Axes>"
      ]
     },
     "metadata": {
      "needs_background": "light"
     },
     "output_type": "display_data"
    },
    {
     "name": "stdout",
     "output_type": "stream",
     "text": [
      "\u001b[1mAmountSpent\u001b[0m\n"
     ]
    },
    {
     "data": {
      "image/png": "[encoded data removed]",
      "text/plain": [
       "<Figure size 432x288 with 1 Axes>"
      ]
     },
     "metadata": {
      "needs_background": "light"
     },
     "output_type": "display_data"
    }
   ],
   "source": [
    "# distribution of amount spent\n",
    "for var in numeric_variables:\n",
    "    print(f\"\\033[1m{var}\\033[0m\")\n",
    "    fig,ax = plt.subplots()\n",
    "    plt.hist(df[var], bins=50, color='skyblue', edgecolor='black')\n",
    "    # Add gridlines\n",
    "    plt.grid(True)\n",
    "\n",
    "    # Add titles and labels\n",
    "    plt.xlabel(var)\n",
    "    plt.ylabel('Frequency')\n",
    "\n",
    "    # Show the plot\n",
    "    plt.show()\n",
    "    "
   ]
  },
  {
   "cell_type": "code",
   "execution_count": 94,
   "id": "fd51156e",
   "metadata": {},
   "outputs": [
    {
     "data": {
      "image/png": "[encoded data removed]",
      "text/plain": [
       "<Figure size 432x288 with 1 Axes>"
      ]
     },
     "metadata": {
      "needs_background": "light"
     },
     "output_type": "display_data"
    }
   ],
   "source": [
    "# Scatter plot\n",
    "plt.scatter(x= df['Salary'], y = df['AmountSpent'], color='blue', label='Data points')\n",
    "\n",
    "# Add titles and labels\n",
    "plt.title('Amount Spent vs Salary')\n",
    "\n",
    "plt.xlabel('Salary')\n",
    "plt.ylabel('Amount Spent')\n",
    "\n",
    "# Add a legend\n",
    "plt.legend()\n",
    "\n",
    "# Show the plot\n",
    "plt.show()"
   ]
  },
  {
   "cell_type": "code",
   "execution_count": 95,
   "id": "ad493561",
   "metadata": {},
   "outputs": [
    {
     "name": "stdout",
     "output_type": "stream",
     "text": [
      "\\033[1m Correlation Matrix\\033[0m\n"
     ]
    },
    {
     "data": {
      "text/html": [
       "<div>\n",
       "<style scoped>\n",
       "    .dataframe tbody tr th:only-of-type {\n",
       "        vertical-align: middle;\n",
       "    }\n",
       "\n",
       "    .dataframe tbody tr th {\n",
       "        vertical-align: top;\n",
       "    }\n",
       "\n",
       "    .dataframe thead th {\n",
       "        text-align: right;\n",
       "    }\n",
       "</style>\n",
       "<table border=\"1\" class=\"dataframe\">\n",
       "  <thead>\n",
       "    <tr style=\"text-align: right;\">\n",
       "      <th></th>\n",
       "      <th>Salary</th>\n",
       "      <th>AmountSpent</th>\n",
       "    </tr>\n",
       "  </thead>\n",
       "  <tbody>\n",
       "    <tr>\n",
       "      <th>Salary</th>\n",
       "      <td>1.0</td>\n",
       "      <td>0.7</td>\n",
       "    </tr>\n",
       "    <tr>\n",
       "      <th>AmountSpent</th>\n",
       "      <td>0.7</td>\n",
       "      <td>1.0</td>\n",
       "    </tr>\n",
       "  </tbody>\n",
       "</table>\n",
       "</div>"
      ],
      "text/plain": [
       "             Salary  AmountSpent\n",
       "Salary          1.0          0.7\n",
       "AmountSpent     0.7          1.0"
      ]
     },
     "execution_count": 95,
     "metadata": {},
     "output_type": "execute_result"
    }
   ],
   "source": [
    "print(\"\\\\033[1m Correlation Matrix\\\\033[0m\")\n",
    "round(df.corr(),2)"
   ]
  },
  {
   "cell_type": "code",
   "execution_count": 96,
   "id": "2f93e1fd",
   "metadata": {},
   "outputs": [
    {
     "data": {
      "text/plain": [
       "<AxesSubplot:>"
      ]
     },
     "execution_count": 96,
     "metadata": {},
     "output_type": "execute_result"
    },
    {
     "data": {
      "image/png": "[encoded data removed]",
      "text/plain": [
       "<Figure size 432x288 with 2 Axes>"
      ]
     },
     "metadata": {
      "needs_background": "light"
     },
     "output_type": "display_data"
    }
   ],
   "source": [
    "sns.heatmap(df.corr(), cmap = \"crest\")"
   ]
  },
  {
   "cell_type": "markdown",
   "id": "78f091fc",
   "metadata": {},
   "source": [
    "1. Salary and amouunt spent are correlated\n",
    "2. Average amount spent is a small fraction of salary\n"
   ]
  },
  {
   "cell_type": "code",
   "execution_count": 97,
   "id": "3e2e49de",
   "metadata": {},
   "outputs": [],
   "source": [
    "#### Function to check average of all continuous variables across each of the categorical variables\n",
    "def relation_variable(cat_var, cts_var):\n",
    "    \"\"\"\n",
    "    See how continuous variables like amount spent, salary, etc. changes with age, gender, and other categorical variables\n",
    "    \n",
    "    Arg:\n",
    "    cts_var : Continuous Vaiable\n",
    "    cat_var: Categroical Variable\n",
    "    \"\"\"\n",
    "    \n",
    "    avg = df.groupby(by = cat_var)[cts_var].mean().round(1).reset_index()\n",
    "    avg = avg.rename(columns={c: 'avg_' + c for c in avg.columns if c != cat_var})\n",
    "    print(avg)"
   ]
  },
  {
   "cell_type": "code",
   "execution_count": 98,
   "id": "a0872113",
   "metadata": {},
   "outputs": [
    {
     "name": "stdout",
     "output_type": "stream",
     "text": [
      "\u001b[1mAge\u001b[0m\n",
      "      Age  avg_Salary  avg_AmountSpent\n",
      "0  Middle     72036.4           1501.7\n",
      "1     Old     56365.9           1432.1\n",
      "2   Young     27715.7            558.6\n",
      "\u001b[1mGender\u001b[0m\n",
      "   Gender  avg_Salary  avg_AmountSpent\n",
      "0  Female     48197.4           1025.3\n",
      "1    Male     64202.4           1412.9\n",
      "\u001b[1mOwnHome\u001b[0m\n",
      "  OwnHome  avg_Salary  avg_AmountSpent\n",
      "0     Own     69758.7           1543.1\n",
      "1    Rent     41546.3            868.8\n",
      "\u001b[1mMarried\u001b[0m\n",
      "   Married  avg_Salary  avg_AmountSpent\n",
      "0  Married     76696.4           1672.1\n",
      "1   Single     35346.0            757.8\n",
      "\u001b[1mLocation\u001b[0m\n",
      "  Location  avg_Salary  avg_AmountSpent\n",
      "0    Close     56830.0           1061.7\n",
      "1      Far     54326.2           1596.5\n",
      "\u001b[1mChildren\u001b[0m\n",
      "   Children  avg_Salary  avg_AmountSpent\n",
      "0         0     54896.3           1406.6\n",
      "1         1     56125.1           1219.5\n",
      "2         2     56554.8            940.7\n",
      "3         3     59995.2            831.5\n",
      "\u001b[1mHistory\u001b[0m\n",
      "  History  avg_Salary  avg_AmountSpent\n",
      "0    High     83547.8           2186.1\n",
      "1     Low     32261.3            357.1\n",
      "2  Medium     55374.1            950.4\n",
      "3    None     51616.5           1239.9\n",
      "\u001b[1mCatalogs\u001b[0m\n",
      "   Catalogs  avg_Salary  avg_AmountSpent\n",
      "0         6     46892.1            616.7\n",
      "1        12     55686.2           1017.9\n",
      "2        18     60408.2           1495.5\n",
      "3        24     62268.2           1827.8\n"
     ]
    }
   ],
   "source": [
    "for cat_var in categorical_variables:\n",
    "    print(f\"\\033[1m{cat_var}\\033[0m\")\n",
    "    relation_variable(cat_var, numeric_variables)"
   ]
  },
  {
   "cell_type": "markdown",
   "id": "5970b035",
   "metadata": {},
   "source": [
    "Summary \n",
    "1. Middle income earns and spends more\n",
    "2. Male earn and spends more\n",
    "3. Consumers who own a house, earn and spend more\n",
    "4. Married consumers earn and spend more\n",
    "5. Consumers who are close by earn more but people who come from far, spend more\n",
    "6. Consumers who have bought higher volume in past earn more than other groups\n",
    "7. Consumers with no children have lower salaries but spend more\n",
    "8. Though the salaries across consumers irrespective of children were close the spending of consumers with three children is much lesser\n",
    "9. Consumers who have bought high volumes in past have higher salaries on an average and spend more\n",
    "10. The number of catalogs sent increases with income, it also results in increase in expenditure"
   ]
  },
  {
   "cell_type": "code",
   "execution_count": 108,
   "id": "7eb439b2",
   "metadata": {},
   "outputs": [],
   "source": [
    "# Saving data for further pre-processing\n",
    "df.to_parquet('raw_data.parquet', index=False)"
   ]
  },
  {
   "cell_type": "code",
   "execution_count": 100,
   "id": "4a8be1fb",
   "metadata": {},
   "outputs": [
    {
     "data": {
      "text/plain": [
       "['Age',\n",
       " 'Gender',\n",
       " 'OwnHome',\n",
       " 'Married',\n",
       " 'Location',\n",
       " 'Children',\n",
       " 'History',\n",
       " 'Catalogs']"
      ]
     },
     "execution_count": 100,
     "metadata": {},
     "output_type": "execute_result"
    }
   ],
   "source": [
    "# converting it to a list\n",
    "categorical_variables =  categorical_variables.tolist()\n",
    "categorical_variables "
   ]
  },
  {
   "cell_type": "code",
   "execution_count": 101,
   "id": "494e1f46",
   "metadata": {
    "scrolled": true
   },
   "outputs": [
    {
     "data": {
      "text/html": [
       "<div>\n",
       "<style scoped>\n",
       "    .dataframe tbody tr th:only-of-type {\n",
       "        vertical-align: middle;\n",
       "    }\n",
       "\n",
       "    .dataframe tbody tr th {\n",
       "        vertical-align: top;\n",
       "    }\n",
       "\n",
       "    .dataframe thead th {\n",
       "        text-align: right;\n",
       "    }\n",
       "</style>\n",
       "<table border=\"1\" class=\"dataframe\">\n",
       "  <thead>\n",
       "    <tr style=\"text-align: right;\">\n",
       "      <th></th>\n",
       "      <th></th>\n",
       "      <th></th>\n",
       "      <th></th>\n",
       "      <th></th>\n",
       "      <th></th>\n",
       "      <th></th>\n",
       "      <th></th>\n",
       "      <th>sum</th>\n",
       "      <th>mean</th>\n",
       "      <th>count</th>\n",
       "    </tr>\n",
       "    <tr>\n",
       "      <th>Age</th>\n",
       "      <th>Gender</th>\n",
       "      <th>OwnHome</th>\n",
       "      <th>Married</th>\n",
       "      <th>Location</th>\n",
       "      <th>Children</th>\n",
       "      <th>History</th>\n",
       "      <th>Catalogs</th>\n",
       "      <th></th>\n",
       "      <th></th>\n",
       "      <th></th>\n",
       "    </tr>\n",
       "  </thead>\n",
       "  <tbody>\n",
       "    <tr>\n",
       "      <th>Young</th>\n",
       "      <th>Female</th>\n",
       "      <th>Rent</th>\n",
       "      <th>Single</th>\n",
       "      <th>Close</th>\n",
       "      <th>1</th>\n",
       "      <th>Low</th>\n",
       "      <th>6</th>\n",
       "      <td>220600</td>\n",
       "      <td>15757.142857</td>\n",
       "      <td>14</td>\n",
       "    </tr>\n",
       "    <tr>\n",
       "      <th>Middle</th>\n",
       "      <th>Male</th>\n",
       "      <th>Own</th>\n",
       "      <th>Married</th>\n",
       "      <th>Close</th>\n",
       "      <th>0</th>\n",
       "      <th>High</th>\n",
       "      <th>24</th>\n",
       "      <td>1041000</td>\n",
       "      <td>86750.000000</td>\n",
       "      <td>12</td>\n",
       "    </tr>\n",
       "    <tr>\n",
       "      <th>Old</th>\n",
       "      <th>Female</th>\n",
       "      <th>Own</th>\n",
       "      <th>Married</th>\n",
       "      <th>Close</th>\n",
       "      <th>0</th>\n",
       "      <th>High</th>\n",
       "      <th>18</th>\n",
       "      <td>713000</td>\n",
       "      <td>89125.000000</td>\n",
       "      <td>8</td>\n",
       "    </tr>\n",
       "    <tr>\n",
       "      <th>Middle</th>\n",
       "      <th>Male</th>\n",
       "      <th>Own</th>\n",
       "      <th>Married</th>\n",
       "      <th>Close</th>\n",
       "      <th>0</th>\n",
       "      <th>High</th>\n",
       "      <th>18</th>\n",
       "      <td>656700</td>\n",
       "      <td>93814.285714</td>\n",
       "      <td>7</td>\n",
       "    </tr>\n",
       "    <tr>\n",
       "      <th rowspan=\"6\" valign=\"top\">Young</th>\n",
       "      <th>Male</th>\n",
       "      <th>Rent</th>\n",
       "      <th>Single</th>\n",
       "      <th>Close</th>\n",
       "      <th>0</th>\n",
       "      <th>Low</th>\n",
       "      <th>12</th>\n",
       "      <td>134000</td>\n",
       "      <td>19142.857143</td>\n",
       "      <td>7</td>\n",
       "    </tr>\n",
       "    <tr>\n",
       "      <th>...</th>\n",
       "      <th>...</th>\n",
       "      <th>...</th>\n",
       "      <th>...</th>\n",
       "      <th>...</th>\n",
       "      <th>...</th>\n",
       "      <th>...</th>\n",
       "      <td>...</td>\n",
       "      <td>...</td>\n",
       "      <td>...</td>\n",
       "    </tr>\n",
       "    <tr>\n",
       "      <th rowspan=\"3\" valign=\"top\">Female</th>\n",
       "      <th rowspan=\"3\" valign=\"top\">Rent</th>\n",
       "      <th rowspan=\"3\" valign=\"top\">Single</th>\n",
       "      <th rowspan=\"2\" valign=\"top\">Close</th>\n",
       "      <th rowspan=\"2\" valign=\"top\">2</th>\n",
       "      <th rowspan=\"2\" valign=\"top\">None</th>\n",
       "      <th>18</th>\n",
       "      <td>11000</td>\n",
       "      <td>11000.000000</td>\n",
       "      <td>1</td>\n",
       "    </tr>\n",
       "    <tr>\n",
       "      <th>24</th>\n",
       "      <td>10600</td>\n",
       "      <td>10600.000000</td>\n",
       "      <td>1</td>\n",
       "    </tr>\n",
       "    <tr>\n",
       "      <th>Far</th>\n",
       "      <th>2</th>\n",
       "      <th>Low</th>\n",
       "      <th>18</th>\n",
       "      <td>10200</td>\n",
       "      <td>10200.000000</td>\n",
       "      <td>1</td>\n",
       "    </tr>\n",
       "    <tr>\n",
       "      <th>Male</th>\n",
       "      <th>Rent</th>\n",
       "      <th>Single</th>\n",
       "      <th>Close</th>\n",
       "      <th>2</th>\n",
       "      <th>None</th>\n",
       "      <th>12</th>\n",
       "      <td>10200</td>\n",
       "      <td>10200.000000</td>\n",
       "      <td>1</td>\n",
       "    </tr>\n",
       "    <tr>\n",
       "      <th>Old</th>\n",
       "      <th>Female</th>\n",
       "      <th>Own</th>\n",
       "      <th>Married</th>\n",
       "      <th>Close</th>\n",
       "      <th>1</th>\n",
       "      <th>Low</th>\n",
       "      <th>6</th>\n",
       "      <td>10100</td>\n",
       "      <td>10100.000000</td>\n",
       "      <td>1</td>\n",
       "    </tr>\n",
       "  </tbody>\n",
       "</table>\n",
       "<p>578 rows × 3 columns</p>\n",
       "</div>"
      ],
      "text/plain": [
       "                                                                      sum  \\\n",
       "Age    Gender OwnHome Married Location Children History Catalogs            \n",
       "Young  Female Rent    Single  Close    1        Low     6          220600   \n",
       "Middle Male   Own     Married Close    0        High    24        1041000   \n",
       "Old    Female Own     Married Close    0        High    18         713000   \n",
       "Middle Male   Own     Married Close    0        High    18         656700   \n",
       "Young  Male   Rent    Single  Close    0        Low     12         134000   \n",
       "...                                                                   ...   \n",
       "       Female Rent    Single  Close    2        None    18          11000   \n",
       "                                                        24          10600   \n",
       "                              Far      2        Low     18          10200   \n",
       "       Male   Rent    Single  Close    2        None    12          10200   \n",
       "Old    Female Own     Married Close    1        Low     6           10100   \n",
       "\n",
       "                                                                          mean  \\\n",
       "Age    Gender OwnHome Married Location Children History Catalogs                 \n",
       "Young  Female Rent    Single  Close    1        Low     6         15757.142857   \n",
       "Middle Male   Own     Married Close    0        High    24        86750.000000   \n",
       "Old    Female Own     Married Close    0        High    18        89125.000000   \n",
       "Middle Male   Own     Married Close    0        High    18        93814.285714   \n",
       "Young  Male   Rent    Single  Close    0        Low     12        19142.857143   \n",
       "...                                                                        ...   \n",
       "       Female Rent    Single  Close    2        None    18        11000.000000   \n",
       "                                                        24        10600.000000   \n",
       "                              Far      2        Low     18        10200.000000   \n",
       "       Male   Rent    Single  Close    2        None    12        10200.000000   \n",
       "Old    Female Own     Married Close    1        Low     6         10100.000000   \n",
       "\n",
       "                                                                  count  \n",
       "Age    Gender OwnHome Married Location Children History Catalogs         \n",
       "Young  Female Rent    Single  Close    1        Low     6            14  \n",
       "Middle Male   Own     Married Close    0        High    24           12  \n",
       "Old    Female Own     Married Close    0        High    18            8  \n",
       "Middle Male   Own     Married Close    0        High    18            7  \n",
       "Young  Male   Rent    Single  Close    0        Low     12            7  \n",
       "...                                                                 ...  \n",
       "       Female Rent    Single  Close    2        None    18            1  \n",
       "                                                        24            1  \n",
       "                              Far      2        Low     18            1  \n",
       "       Male   Rent    Single  Close    2        None    12            1  \n",
       "Old    Female Own     Married Close    1        Low     6             1  \n",
       "\n",
       "[578 rows x 3 columns]"
      ]
     },
     "execution_count": 101,
     "metadata": {},
     "output_type": "execute_result"
    }
   ],
   "source": [
    "# Group with maximum and minimum Salary\n",
    "# Group by multiple variables\n",
    "# grouped = df.groupby(categorical)\n",
    "df.groupby(categorical_variables)['Salary'].agg(['sum', 'mean', 'count']).sort_values(by=['count', 'mean'], ascending=False)"
   ]
  },
  {
   "cell_type": "code",
   "execution_count": 102,
   "id": "562f1248",
   "metadata": {
    "scrolled": true
   },
   "outputs": [
    {
     "data": {
      "text/html": [
       "<div>\n",
       "<style scoped>\n",
       "    .dataframe tbody tr th:only-of-type {\n",
       "        vertical-align: middle;\n",
       "    }\n",
       "\n",
       "    .dataframe tbody tr th {\n",
       "        vertical-align: top;\n",
       "    }\n",
       "\n",
       "    .dataframe thead th {\n",
       "        text-align: right;\n",
       "    }\n",
       "</style>\n",
       "<table border=\"1\" class=\"dataframe\">\n",
       "  <thead>\n",
       "    <tr style=\"text-align: right;\">\n",
       "      <th></th>\n",
       "      <th></th>\n",
       "      <th>max</th>\n",
       "      <th>min</th>\n",
       "      <th>mean</th>\n",
       "      <th>count</th>\n",
       "    </tr>\n",
       "    <tr>\n",
       "      <th>Age</th>\n",
       "      <th>Gender</th>\n",
       "      <th></th>\n",
       "      <th></th>\n",
       "      <th></th>\n",
       "      <th></th>\n",
       "    </tr>\n",
       "  </thead>\n",
       "  <tbody>\n",
       "    <tr>\n",
       "      <th>Middle</th>\n",
       "      <th>Male</th>\n",
       "      <td>140700</td>\n",
       "      <td>34200</td>\n",
       "      <td>76298.7</td>\n",
       "      <td>302</td>\n",
       "    </tr>\n",
       "    <tr>\n",
       "      <th>Old</th>\n",
       "      <th>Male</th>\n",
       "      <td>168800</td>\n",
       "      <td>15400</td>\n",
       "      <td>66807.9</td>\n",
       "      <td>76</td>\n",
       "    </tr>\n",
       "    <tr>\n",
       "      <th>Middle</th>\n",
       "      <th>Female</th>\n",
       "      <td>135700</td>\n",
       "      <td>25300</td>\n",
       "      <td>65787.9</td>\n",
       "      <td>206</td>\n",
       "    </tr>\n",
       "    <tr>\n",
       "      <th>Old</th>\n",
       "      <th>Female</th>\n",
       "      <td>128700</td>\n",
       "      <td>10100</td>\n",
       "      <td>50214.0</td>\n",
       "      <td>129</td>\n",
       "    </tr>\n",
       "    <tr>\n",
       "      <th rowspan=\"2\" valign=\"top\">Young</th>\n",
       "      <th>Male</th>\n",
       "      <td>80700</td>\n",
       "      <td>10200</td>\n",
       "      <td>31003.4</td>\n",
       "      <td>116</td>\n",
       "    </tr>\n",
       "    <tr>\n",
       "      <th>Female</th>\n",
       "      <td>79400</td>\n",
       "      <td>10200</td>\n",
       "      <td>25485.4</td>\n",
       "      <td>171</td>\n",
       "    </tr>\n",
       "  </tbody>\n",
       "</table>\n",
       "</div>"
      ],
      "text/plain": [
       "                  max    min     mean  count\n",
       "Age    Gender                               \n",
       "Middle Male    140700  34200  76298.7    302\n",
       "Old    Male    168800  15400  66807.9     76\n",
       "Middle Female  135700  25300  65787.9    206\n",
       "Old    Female  128700  10100  50214.0    129\n",
       "Young  Male     80700  10200  31003.4    116\n",
       "       Female   79400  10200  25485.4    171"
      ]
     },
     "execution_count": 102,
     "metadata": {},
     "output_type": "execute_result"
    }
   ],
   "source": [
    "# Given that most of the groups have very few people bucketing based on demographics looking at smaller distribution\n",
    "round(df.groupby(['Age', 'Gender'])['Salary'].agg(['max', 'min', 'mean', 'count']),1).sort_values(by=['mean', 'count'], ascending=False)"
   ]
  },
  {
   "cell_type": "code",
   "execution_count": 103,
   "id": "40ead4a3",
   "metadata": {
    "scrolled": false
   },
   "outputs": [
    {
     "data": {
      "text/html": [
       "<div>\n",
       "<style scoped>\n",
       "    .dataframe tbody tr th:only-of-type {\n",
       "        vertical-align: middle;\n",
       "    }\n",
       "\n",
       "    .dataframe tbody tr th {\n",
       "        vertical-align: top;\n",
       "    }\n",
       "\n",
       "    .dataframe thead th {\n",
       "        text-align: right;\n",
       "    }\n",
       "</style>\n",
       "<table border=\"1\" class=\"dataframe\">\n",
       "  <thead>\n",
       "    <tr style=\"text-align: right;\">\n",
       "      <th></th>\n",
       "      <th></th>\n",
       "      <th>max</th>\n",
       "      <th>min</th>\n",
       "      <th>mean</th>\n",
       "      <th>count</th>\n",
       "    </tr>\n",
       "    <tr>\n",
       "      <th>Age</th>\n",
       "      <th>Gender</th>\n",
       "      <th></th>\n",
       "      <th></th>\n",
       "      <th></th>\n",
       "      <th></th>\n",
       "    </tr>\n",
       "  </thead>\n",
       "  <tbody>\n",
       "    <tr>\n",
       "      <th>Old</th>\n",
       "      <th>Male</th>\n",
       "      <td>6217</td>\n",
       "      <td>297</td>\n",
       "      <td>1691.5</td>\n",
       "      <td>76</td>\n",
       "    </tr>\n",
       "    <tr>\n",
       "      <th rowspan=\"2\" valign=\"top\">Middle</th>\n",
       "      <th>Male</th>\n",
       "      <td>5878</td>\n",
       "      <td>157</td>\n",
       "      <td>1638.4</td>\n",
       "      <td>302</td>\n",
       "    </tr>\n",
       "    <tr>\n",
       "      <th>Female</th>\n",
       "      <td>5830</td>\n",
       "      <td>158</td>\n",
       "      <td>1301.3</td>\n",
       "      <td>206</td>\n",
       "    </tr>\n",
       "    <tr>\n",
       "      <th>Old</th>\n",
       "      <th>Female</th>\n",
       "      <td>5564</td>\n",
       "      <td>65</td>\n",
       "      <td>1279.3</td>\n",
       "      <td>129</td>\n",
       "    </tr>\n",
       "    <tr>\n",
       "      <th rowspan=\"2\" valign=\"top\">Young</th>\n",
       "      <th>Male</th>\n",
       "      <td>1692</td>\n",
       "      <td>38</td>\n",
       "      <td>643.2</td>\n",
       "      <td>116</td>\n",
       "    </tr>\n",
       "    <tr>\n",
       "      <th>Female</th>\n",
       "      <td>3688</td>\n",
       "      <td>47</td>\n",
       "      <td>501.3</td>\n",
       "      <td>171</td>\n",
       "    </tr>\n",
       "  </tbody>\n",
       "</table>\n",
       "</div>"
      ],
      "text/plain": [
       "                max  min    mean  count\n",
       "Age    Gender                          \n",
       "Old    Male    6217  297  1691.5     76\n",
       "Middle Male    5878  157  1638.4    302\n",
       "       Female  5830  158  1301.3    206\n",
       "Old    Female  5564   65  1279.3    129\n",
       "Young  Male    1692   38   643.2    116\n",
       "       Female  3688   47   501.3    171"
      ]
     },
     "execution_count": 103,
     "metadata": {},
     "output_type": "execute_result"
    }
   ],
   "source": [
    "# Given that most of the groups have very few people bucketing based on demographics looking at smaller distribution\n",
    "round(df.groupby(['Age', 'Gender'])['AmountSpent'].agg(['max', 'min', 'mean', 'count']),1).sort_values(by=['mean', 'count'], ascending=False)"
   ]
  },
  {
   "cell_type": "code",
   "execution_count": 104,
   "id": "f577f0ae",
   "metadata": {},
   "outputs": [
    {
     "data": {
      "text/plain": [
       "(255, 10)"
      ]
     },
     "execution_count": 104,
     "metadata": {},
     "output_type": "execute_result"
    }
   ],
   "source": [
    "# Demographic of people who have purchased high volume in past\n",
    "df_high_history = df[df['History'] == 'High']\n",
    "df_high_history.shape"
   ]
  },
  {
   "cell_type": "code",
   "execution_count": 105,
   "id": "b6ea7065",
   "metadata": {},
   "outputs": [
    {
     "data": {
      "text/html": [
       "<div>\n",
       "<style scoped>\n",
       "    .dataframe tbody tr th:only-of-type {\n",
       "        vertical-align: middle;\n",
       "    }\n",
       "\n",
       "    .dataframe tbody tr th {\n",
       "        vertical-align: top;\n",
       "    }\n",
       "\n",
       "    .dataframe thead th {\n",
       "        text-align: right;\n",
       "    }\n",
       "</style>\n",
       "<table border=\"1\" class=\"dataframe\">\n",
       "  <thead>\n",
       "    <tr style=\"text-align: right;\">\n",
       "      <th></th>\n",
       "      <th></th>\n",
       "      <th>max</th>\n",
       "      <th>min</th>\n",
       "      <th>mean</th>\n",
       "      <th>count</th>\n",
       "    </tr>\n",
       "    <tr>\n",
       "      <th>Gender</th>\n",
       "      <th>Age</th>\n",
       "      <th></th>\n",
       "      <th></th>\n",
       "      <th></th>\n",
       "      <th></th>\n",
       "    </tr>\n",
       "  </thead>\n",
       "  <tbody>\n",
       "    <tr>\n",
       "      <th>Male</th>\n",
       "      <th>Old</th>\n",
       "      <td>6217</td>\n",
       "      <td>741</td>\n",
       "      <td>2296.3</td>\n",
       "      <td>36</td>\n",
       "    </tr>\n",
       "    <tr>\n",
       "      <th rowspan=\"3\" valign=\"top\">Female</th>\n",
       "      <th>Old</th>\n",
       "      <td>5564</td>\n",
       "      <td>565</td>\n",
       "      <td>2262.8</td>\n",
       "      <td>45</td>\n",
       "    </tr>\n",
       "    <tr>\n",
       "      <th>Middle</th>\n",
       "      <td>5830</td>\n",
       "      <td>847</td>\n",
       "      <td>2189.4</td>\n",
       "      <td>45</td>\n",
       "    </tr>\n",
       "    <tr>\n",
       "      <th>Young</th>\n",
       "      <td>3688</td>\n",
       "      <td>979</td>\n",
       "      <td>2167.5</td>\n",
       "      <td>4</td>\n",
       "    </tr>\n",
       "    <tr>\n",
       "      <th rowspan=\"2\" valign=\"top\">Male</th>\n",
       "      <th>Middle</th>\n",
       "      <td>5878</td>\n",
       "      <td>701</td>\n",
       "      <td>2144.8</td>\n",
       "      <td>122</td>\n",
       "    </tr>\n",
       "    <tr>\n",
       "      <th>Young</th>\n",
       "      <td>1690</td>\n",
       "      <td>1084</td>\n",
       "      <td>1374.0</td>\n",
       "      <td>3</td>\n",
       "    </tr>\n",
       "  </tbody>\n",
       "</table>\n",
       "</div>"
      ],
      "text/plain": [
       "                max   min    mean  count\n",
       "Gender Age                              \n",
       "Male   Old     6217   741  2296.3     36\n",
       "Female Old     5564   565  2262.8     45\n",
       "       Middle  5830   847  2189.4     45\n",
       "       Young   3688   979  2167.5      4\n",
       "Male   Middle  5878   701  2144.8    122\n",
       "       Young   1690  1084  1374.0      3"
      ]
     },
     "execution_count": 105,
     "metadata": {},
     "output_type": "execute_result"
    }
   ],
   "source": [
    "round(df_high_history.groupby(['Gender', 'Age'])['AmountSpent'].agg(['max', 'min', 'mean', 'count']),1).sort_values(by=['mean', 'count'], ascending=False)"
   ]
  },
  {
   "cell_type": "code",
   "execution_count": 106,
   "id": "7639fb50",
   "metadata": {},
   "outputs": [
    {
     "data": {
      "text/plain": [
       "0.45815149946168954"
      ]
     },
     "execution_count": 106,
     "metadata": {},
     "output_type": "execute_result"
    }
   ],
   "source": [
    "df_high_history['AmountSpent'].sum()/df['AmountSpent'].sum()"
   ]
  },
  {
   "cell_type": "code",
   "execution_count": 107,
   "id": "e222a8a6",
   "metadata": {},
   "outputs": [
    {
     "data": {
      "text/html": [
       "<div>\n",
       "<style scoped>\n",
       "    .dataframe tbody tr th:only-of-type {\n",
       "        vertical-align: middle;\n",
       "    }\n",
       "\n",
       "    .dataframe tbody tr th {\n",
       "        vertical-align: top;\n",
       "    }\n",
       "\n",
       "    .dataframe thead th {\n",
       "        text-align: right;\n",
       "    }\n",
       "</style>\n",
       "<table border=\"1\" class=\"dataframe\">\n",
       "  <thead>\n",
       "    <tr style=\"text-align: right;\">\n",
       "      <th></th>\n",
       "      <th>Age</th>\n",
       "      <th>Gender</th>\n",
       "      <th>OwnHome</th>\n",
       "      <th>Married</th>\n",
       "      <th>Location</th>\n",
       "      <th>Salary</th>\n",
       "      <th>Children</th>\n",
       "      <th>History</th>\n",
       "      <th>Catalogs</th>\n",
       "      <th>AmountSpent</th>\n",
       "    </tr>\n",
       "  </thead>\n",
       "  <tbody>\n",
       "    <tr>\n",
       "      <th>9</th>\n",
       "      <td>Old</td>\n",
       "      <td>Male</td>\n",
       "      <td>Own</td>\n",
       "      <td>Married</td>\n",
       "      <td>Far</td>\n",
       "      <td>80700</td>\n",
       "      <td>0</td>\n",
       "      <td>None</td>\n",
       "      <td>18</td>\n",
       "      <td>3034</td>\n",
       "    </tr>\n",
       "    <tr>\n",
       "      <th>10</th>\n",
       "      <td>Young</td>\n",
       "      <td>Male</td>\n",
       "      <td>Rent</td>\n",
       "      <td>Married</td>\n",
       "      <td>Close</td>\n",
       "      <td>43700</td>\n",
       "      <td>1</td>\n",
       "      <td>None</td>\n",
       "      <td>12</td>\n",
       "      <td>927</td>\n",
       "    </tr>\n",
       "    <tr>\n",
       "      <th>15</th>\n",
       "      <td>Middle</td>\n",
       "      <td>Female</td>\n",
       "      <td>Own</td>\n",
       "      <td>Married</td>\n",
       "      <td>Far</td>\n",
       "      <td>83100</td>\n",
       "      <td>1</td>\n",
       "      <td>None</td>\n",
       "      <td>12</td>\n",
       "      <td>2766</td>\n",
       "    </tr>\n",
       "    <tr>\n",
       "      <th>24</th>\n",
       "      <td>Young</td>\n",
       "      <td>Female</td>\n",
       "      <td>Rent</td>\n",
       "      <td>Married</td>\n",
       "      <td>Close</td>\n",
       "      <td>41700</td>\n",
       "      <td>1</td>\n",
       "      <td>None</td>\n",
       "      <td>6</td>\n",
       "      <td>521</td>\n",
       "    </tr>\n",
       "    <tr>\n",
       "      <th>26</th>\n",
       "      <td>Middle</td>\n",
       "      <td>Male</td>\n",
       "      <td>Own</td>\n",
       "      <td>Single</td>\n",
       "      <td>Close</td>\n",
       "      <td>62800</td>\n",
       "      <td>3</td>\n",
       "      <td>None</td>\n",
       "      <td>6</td>\n",
       "      <td>707</td>\n",
       "    </tr>\n",
       "  </tbody>\n",
       "</table>\n",
       "</div>"
      ],
      "text/plain": [
       "       Age  Gender OwnHome  Married Location  Salary Children History  \\\n",
       "9      Old    Male     Own  Married      Far   80700        0    None   \n",
       "10   Young    Male    Rent  Married    Close   43700        1    None   \n",
       "15  Middle  Female     Own  Married      Far   83100        1    None   \n",
       "24   Young  Female    Rent  Married    Close   41700        1    None   \n",
       "26  Middle    Male     Own   Single    Close   62800        3    None   \n",
       "\n",
       "   Catalogs  AmountSpent  \n",
       "9        18         3034  \n",
       "10       12          927  \n",
       "15       12         2766  \n",
       "24        6          521  \n",
       "26        6          707  "
      ]
     },
     "execution_count": 107,
     "metadata": {},
     "output_type": "execute_result"
    }
   ],
   "source": [
    "# Demographic of people who have purchased high volume in past\n",
    "df_high_history = df[df['History'] == 'None']\n",
    "df_high_history.head()"
   ]
  },
  {
   "cell_type": "markdown",
   "id": "954877fd",
   "metadata": {},
   "source": [
    "Summary\n",
    "1. Men in middle age group earn most while old men spend the most amount\n",
    "2. Young females earn and spend the least amount\n",
    "3. Old men and women are the conusmers who have bought most volume in past \n"
   ]
  }
 ],
 "metadata": {
  "kernelspec": {
   "display_name": "Python 3 (ipykernel)",
   "language": "python",
   "name": "python3"
  },
  "language_info": {
   "codemirror_mode": {
    "name": "ipython",
    "version": 3
   },
   "file_extension": ".py",
   "mimetype": "text/x-python",
   "name": "python",
   "nbconvert_exporter": "python",
   "pygments_lexer": "ipython3",
   "version": "3.9.7"
  }
 },
 "nbformat": 4,
 "nbformat_minor": 5
}
